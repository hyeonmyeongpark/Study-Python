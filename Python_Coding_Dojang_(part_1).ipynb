{
  "nbformat": 4,
  "nbformat_minor": 0,
  "metadata": {
    "colab": {
      "provenance": [],
      "authorship_tag": "ABX9TyPt4fgKPaulh4drmMOWZAbs",
      "include_colab_link": true
    },
    "kernelspec": {
      "name": "python3",
      "display_name": "Python 3"
    },
    "language_info": {
      "name": "python"
    }
  },
  "cells": [
    {
      "cell_type": "markdown",
      "metadata": {
        "id": "view-in-github",
        "colab_type": "text"
      },
      "source": [
        "<a href=\"https://colab.research.google.com/github/hyeonmyeongpark/Study-Python/blob/main/Python_Coding_Dojang_(part_1).ipynb\" target=\"_parent\"><img src=\"https://colab.research.google.com/assets/colab-badge.svg\" alt=\"Open In Colab\"/></a>"
      ]
    },
    {
      "cell_type": "markdown",
      "source": [
        "**Unit 5. 숫자 계산하기**"
      ],
      "metadata": {
        "id": "R1VXKKU6PcWQ"
      }
    },
    {
      "cell_type": "markdown",
      "source": [
        "5.1 사칙연산"
      ],
      "metadata": {
        "id": "Li5lbsUyQ_iB"
      }
    },
    {
      "cell_type": "code",
      "source": [
        "#더하기\n",
        "print(1 + 1)\n",
        "\n",
        "# 빼기 \n",
        "print(1 - 2)\n",
        "\n",
        "# 곱하기\n",
        "print( 2 * 2)\n",
        "\n",
        "# 나누기\n",
        "print(5 / 2)\n",
        "print(4 / 2)\n",
        "\n",
        "# 나눗셈 후 소수점 이하를 버리는 // 연산자\n",
        "print(5 // 2)\n",
        "\n",
        "# 나눗셈 후 나머지를 구하는 % 연산자\n",
        "print(5 % 2)\n",
        "\n",
        "# 거듭제곱을 구하는 ** 연산자\n",
        "print(2**10)\n"
      ],
      "metadata": {
        "colab": {
          "base_uri": "https://localhost:8080/"
        },
        "id": "ShH2TDMjQ2Zf",
        "outputId": "a2483419-016b-42cd-b00e-99bf51ac3a4f"
      },
      "execution_count": null,
      "outputs": [
        {
          "output_type": "stream",
          "name": "stdout",
          "text": [
            "2\n",
            "-1\n",
            "4\n",
            "2.5\n",
            "2.0\n",
            "2\n",
            "1\n",
            "1024\n"
          ]
        }
      ]
    },
    {
      "cell_type": "markdown",
      "source": [
        "5.2 값을 정수로 만들기"
      ],
      "metadata": {
        "id": "Kk88GYtHRUYI"
      }
    },
    {
      "cell_type": "code",
      "source": [
        "print(int(3.3))\n",
        "print(int(5 / 2))\n",
        "print(int('10'))"
      ],
      "metadata": {
        "colab": {
          "base_uri": "https://localhost:8080/"
        },
        "id": "HSC1JJQlRDsg",
        "outputId": "35728152-7499-423d-de74-209f2d402ecc"
      },
      "execution_count": null,
      "outputs": [
        {
          "output_type": "stream",
          "name": "stdout",
          "text": [
            "3\n",
            "2\n",
            "10\n"
          ]
        }
      ]
    },
    {
      "cell_type": "markdown",
      "source": [
        "5.3 객체의 자료형 알아내기"
      ],
      "metadata": {
        "id": "2P12ZWBTRbFw"
      }
    },
    {
      "cell_type": "code",
      "source": [
        "type(10)"
      ],
      "metadata": {
        "colab": {
          "base_uri": "https://localhost:8080/"
        },
        "id": "QFDzTZmcRD0O",
        "outputId": "c28e7149-0ce9-4507-da98-dc999fe35f6b"
      },
      "execution_count": null,
      "outputs": [
        {
          "output_type": "execute_result",
          "data": {
            "text/plain": [
              "int"
            ]
          },
          "metadata": {},
          "execution_count": 13
        }
      ]
    },
    {
      "cell_type": "markdown",
      "source": [
        "5.4 몫과 나머지를 함께 구하기"
      ],
      "metadata": {
        "id": "ahmsGm-jRoLx"
      }
    },
    {
      "cell_type": "code",
      "source": [
        "print(divmod(5, 2))"
      ],
      "metadata": {
        "colab": {
          "base_uri": "https://localhost:8080/"
        },
        "id": "IGsyoieoRdfA",
        "outputId": "f0b13c88-2ecd-4024-a20b-e9df1ceabc46"
      },
      "execution_count": null,
      "outputs": [
        {
          "output_type": "stream",
          "name": "stdout",
          "text": [
            "(2, 1)\n"
          ]
        }
      ]
    },
    {
      "cell_type": "code",
      "source": [
        "quotient, remainder = divmod(5, 2)"
      ],
      "metadata": {
        "id": "h27aGBUwRdiG"
      },
      "execution_count": null,
      "outputs": []
    },
    {
      "cell_type": "code",
      "source": [
        "print(quotient, remainder)"
      ],
      "metadata": {
        "colab": {
          "base_uri": "https://localhost:8080/"
        },
        "id": "IJUUKwzrRdk6",
        "outputId": "aaf99509-ca75-4d57-f30b-76f70df7be0a"
      },
      "execution_count": null,
      "outputs": [
        {
          "output_type": "stream",
          "name": "stdout",
          "text": [
            "2 1\n"
          ]
        }
      ]
    },
    {
      "cell_type": "markdown",
      "source": [
        "5.5 실수 계산하기"
      ],
      "metadata": {
        "id": "q_WEFV05SJKy"
      }
    },
    {
      "cell_type": "code",
      "source": [
        "print(3.5 + 2.1)\n",
        "print(4.3 - 2.7)\n",
        "print(1.5 * 3.1)\n",
        "print(5.5 / 3.1)"
      ],
      "metadata": {
        "colab": {
          "base_uri": "https://localhost:8080/"
        },
        "id": "ISN_rK2URdnH",
        "outputId": "700a197d-188a-42c3-89f3-bfa23127fe83"
      },
      "execution_count": null,
      "outputs": [
        {
          "output_type": "stream",
          "name": "stdout",
          "text": [
            "5.6\n",
            "1.5999999999999996\n",
            "4.65\n",
            "1.7741935483870968\n"
          ]
        }
      ]
    },
    {
      "cell_type": "markdown",
      "source": [
        "5.6 실수와 정수를 함께 계산하면?"
      ],
      "metadata": {
        "id": "6tg4IK2aSXcY"
      }
    },
    {
      "cell_type": "code",
      "source": [
        "print(4.2 + 5)"
      ],
      "metadata": {
        "colab": {
          "base_uri": "https://localhost:8080/"
        },
        "id": "s1aJC1x_Rdpp",
        "outputId": "f5df895f-e9e6-42f0-93f7-189725e781db"
      },
      "execution_count": null,
      "outputs": [
        {
          "output_type": "stream",
          "name": "stdout",
          "text": [
            "9.2\n"
          ]
        }
      ]
    },
    {
      "cell_type": "markdown",
      "source": [
        "5.7 값을 실수로 만들기"
      ],
      "metadata": {
        "id": "i4bHB2eOSdXJ"
      }
    },
    {
      "cell_type": "code",
      "source": [
        "print(float(5))\n",
        "print(float(1 + 2))\n",
        "print(float('5.3'))\n",
        "print(type(3.5))"
      ],
      "metadata": {
        "colab": {
          "base_uri": "https://localhost:8080/"
        },
        "id": "5XPrrOg4Sd3e",
        "outputId": "080019cb-94f0-42ea-d4d9-b370e1003fc1"
      },
      "execution_count": null,
      "outputs": [
        {
          "output_type": "stream",
          "name": "stdout",
          "text": [
            "5.0\n",
            "3.0\n",
            "5.3\n",
            "<class 'float'>\n"
          ]
        }
      ]
    },
    {
      "cell_type": "markdown",
      "source": [
        "5.8 괄호 사용하기"
      ],
      "metadata": {
        "id": "VEgdVw7eS1a4"
      }
    },
    {
      "cell_type": "code",
      "source": [
        "print(35 + 1 * 2)\n",
        "print((35 + 1) * 2)"
      ],
      "metadata": {
        "colab": {
          "base_uri": "https://localhost:8080/"
        },
        "id": "AT0inHV8Rdr9",
        "outputId": "cec6a041-a87d-4cd5-93ae-df7de64d61c7"
      },
      "execution_count": null,
      "outputs": [
        {
          "output_type": "stream",
          "name": "stdout",
          "text": [
            "37\n",
            "72\n"
          ]
        }
      ]
    },
    {
      "cell_type": "markdown",
      "source": [
        "5.5 연습문제: 아파트에서 소음이 가장 심한 층수 출력하기"
      ],
      "metadata": {
        "id": "Ig8zNyyVTC9v"
      }
    },
    {
      "cell_type": "markdown",
      "source": [
        "국립환경과학원에서는 아파트에서 소음이 가장 심한 층수를 구하는 계산식을 발표했습니다. 소음이 가장 심한 층은 0.2467 * 도로와의 거리(m) + 4.159입니다. 다음 소스 코드를 완성하여 소음이 가장 심한 층수가 출력되게 만드세요. 단, 층수를 출력할 때는 소수점 이하 자리는 버립니다(정수로 출력)."
      ],
      "metadata": {
        "id": "Fr7ceEspTqXY"
      }
    },
    {
      "cell_type": "code",
      "source": [
        "int(0.2467 * 12 + 4.159)"
      ],
      "metadata": {
        "colab": {
          "base_uri": "https://localhost:8080/"
        },
        "id": "6xAHAx1_RduW",
        "outputId": "c8d64523-8e8e-4cbc-9d7e-1c79baf8392d"
      },
      "execution_count": null,
      "outputs": [
        {
          "output_type": "execute_result",
          "data": {
            "text/plain": [
              "7"
            ]
          },
          "metadata": {},
          "execution_count": 23
        }
      ]
    },
    {
      "cell_type": "markdown",
      "source": [
        "해설\n",
        "\n",
        "소음이 가장 심한 층수를 구하는 계산식은 0.2467 * 도로와의 거리(m) + 4.159라고 했으므로 0.2467에 12를 곱한 뒤 4.159를 더해주면 됩니다. 계산 결과는 7.1194가 나오지만 사용자에게 보여줄 때는 7.1194층보다 7층이 더 좋겠죠? 따라서 int에 계산식을 넣어서 결과를 정수로 만들어줍니다."
      ],
      "metadata": {
        "id": "F9KkRMT-T3rI"
      }
    },
    {
      "cell_type": "markdown",
      "source": [
        "**Unit 6. 변수와 입력 사용하기**\n"
      ],
      "metadata": {
        "id": "2WPn-AjMPckg"
      }
    },
    {
      "cell_type": "markdown",
      "source": [
        "6.1 변수 만들기"
      ],
      "metadata": {
        "id": "QNhHKlZYexU8"
      }
    },
    {
      "cell_type": "code",
      "source": [
        "# 6.1.1 변수 만들기\n",
        "x = 10\n",
        "print(x)\n",
        "\n",
        "y = 'Hello, world!'\n",
        "print(y)\n",
        "\n",
        "# 6.1.2 변수의 자료형 알아내기\n",
        "print(type(x))\n",
        "print(type(y))\n",
        "\n",
        "# 6.1.3 변수 여러 개를 한 번에 만들기\n",
        "x, y, z = 10, 20, 30\n",
        "print(x)\n",
        "print(y)\n",
        "print(z)\n",
        "\n",
        "# 6.1.4 변수 여러 개를 만들 때 값이 모두 같아도 된다면 다음과 같은 방식도 사용할 수 있습니다.\n",
        "x = y = z = 10\n",
        "print(x)\n",
        "print(y)\n",
        "print(z)\n",
        "\n",
        "# 응용 버전, 두 변수의 값을 바꾸려면?\n",
        "x, y = 10, 20\n",
        "x, y = y, x\n",
        "print(x)\n",
        "print(y)\n"
      ],
      "metadata": {
        "colab": {
          "base_uri": "https://localhost:8080/"
        },
        "id": "yb7W4DC7Rdw9",
        "outputId": "a08aa8ef-f25c-4490-b83a-679de1cd48f0"
      },
      "execution_count": null,
      "outputs": [
        {
          "output_type": "stream",
          "name": "stdout",
          "text": [
            "10\n"
          ]
        }
      ]
    },
    {
      "cell_type": "markdown",
      "source": [
        "6.2 변수로 계산하기"
      ],
      "metadata": {
        "id": "ohSlNTTXUMSM"
      }
    },
    {
      "cell_type": "code",
      "source": [
        "# 6.2.1 변수를 활용하여 계산하기\n",
        "a = 10\n",
        "b = 20\n",
        "c = a + b\n",
        "print(c)\n",
        "\n",
        "# 6.2.2. 산술 연산 후 할당 연산자 사용하기\n",
        "a = 10\n",
        "a + 20\n",
        "print(a)\n",
        "# 결과는 그대로 10이 나옴, 변수에 저장해야지 결과가 유지됨\n",
        "a = 10\n",
        "a = a + 20  \n",
        "print(a)\n"
      ],
      "metadata": {
        "id": "aITTsRsLXlB3"
      },
      "execution_count": null,
      "outputs": []
    },
    {
      "cell_type": "markdown",
      "source": [
        "6.3 입력 값을 변수에 저장하기"
      ],
      "metadata": {
        "id": "ZhYbm7f1ZvHO"
      }
    },
    {
      "cell_type": "code",
      "source": [
        "# 6.3.1 input 함수의 결과를 변수에 할당하기\n",
        "x = input('문자열을 입력하세요: ')\n",
        "# x에 입력 \n",
        "print(x)\n",
        "\n",
        "# 6.3.2 두 숫자의 합 구하기\n",
        "a = input('첫 번째 숫자를 입력하세요: ')\n",
        "b = input('두 번째 숫자를 입력하세요: ')\n",
        "print(a + b)\n",
        "# * 이때 실행결과가 문자열로 인식되어 숫자형으로 계산이 안됨\n",
        "# type을 변경하여 정수로 변환해보자"
      ],
      "metadata": {
        "colab": {
          "base_uri": "https://localhost:8080/"
        },
        "id": "Y_zqwgZOXlFs",
        "outputId": "d3b44737-9448-475e-95f8-5c75d2edb2d5"
      },
      "execution_count": null,
      "outputs": [
        {
          "output_type": "stream",
          "name": "stdout",
          "text": [
            "문자열을 입력하세요: hello world\n",
            "hello world\n",
            "첫 번째 숫자를 입력하세요: 10\n",
            "두 번째 숫자를 입력하세요: 20\n",
            "1020\n"
          ]
        }
      ]
    },
    {
      "cell_type": "code",
      "source": [
        "# 6.3.3 입력 값을 정수로 변환하기\n",
        "a = int(input('첫 번째 숫자를 입력하세요: '))    # int를 사용하여 입력 값을 정수로 변환\n",
        "b = int(input('두 번째 숫자를 입력하세요: '))    # int를 사용하여 입력 값을 정수로 변환\n",
        "print(a + b)\n"
      ],
      "metadata": {
        "colab": {
          "base_uri": "https://localhost:8080/"
        },
        "id": "J2o1u65eXlI3",
        "outputId": "a9393137-c7d4-4a9d-92be-9d3815b42838"
      },
      "execution_count": null,
      "outputs": [
        {
          "output_type": "stream",
          "name": "stdout",
          "text": [
            "첫 번째 숫자를 입력하세요: 10\n",
            "두 번째 숫자를 입력하세요: 20\n",
            "30\n"
          ]
        }
      ]
    },
    {
      "cell_type": "markdown",
      "source": [
        "6.4 입력 값을 변수 두 개에 저장하기"
      ],
      "metadata": {
        "id": "16XBjbdTcREm"
      }
    },
    {
      "cell_type": "code",
      "source": [
        "# 6.4.1  input에서 split을 사용한 변수 여러 개에 저장해주기\n",
        "\n",
        "a, b = input('문자열 두 개를 입력하세요: ').split()\n",
        "# 입력받은 값을 공백을 기준으로 분리\n",
        "\n",
        "print(a)\n",
        "print(b)\n",
        "\n",
        "# 6.4.2 두 숫자의 합 구하기\n",
        "a, b = input('숫자 두 개를 입력하세요: ').split()\n",
        "# 입력받은 값을 공백을 기준으로 분리\n",
        "print(a + b)\n",
        "# * 이때 결과가 숫자로 인식되어 나오지 않음\n",
        "\n",
        "# 6.4.3 입력 값을 정수로 변환하기\n",
        "a, b = input('숫자 두 개를 입력하세요: ').split()    # 입력받은 값을 공백을 기준으로 분리\n",
        "a = int(a)    # 변수를 정수로 변환한 뒤 다시 저장\n",
        "b = int(b)    # 변수를 정수로 변환한 뒤 다시 저장\n",
        "print(a + b)\n",
        "\n",
        "# 6.4.4 map을 사용하여 정수로 변환하기\n",
        "a, b = map(int, input('숫자 두 개를 입력하세요: ').split())\n",
        "print(a + b)\n",
        "\n",
        "# 6.4.5 입력받은 값을 콤마를 기준으로 분리하기\n",
        "a, b = map(int, input('숫자 두 개를 입력하세요: ').split(',')) # 입력받은 값을 콤마를 기준으로 분리\n",
        " \n",
        "print(a + b)"
      ],
      "metadata": {
        "colab": {
          "base_uri": "https://localhost:8080/"
        },
        "id": "mbt0Hp66RdzI",
        "outputId": "5ddb2556-0b8f-4658-b1bb-c6f0a94ef23e"
      },
      "execution_count": null,
      "outputs": [
        {
          "output_type": "stream",
          "name": "stdout",
          "text": [
            "문자열 두 개를 입력하세요: 10 20\n",
            "10\n",
            "20\n",
            "숫자 두 개를 입력하세요: 10 20\n",
            "1020\n",
            "숫자 두 개를 입력하세요: 10 20\n",
            "30\n",
            "숫자 두 개를 입력하세요: 10 20\n",
            "30\n",
            "숫자 두 개를 입력하세요: 10,20\n",
            "30\n"
          ]
        }
      ]
    },
    {
      "cell_type": "markdown",
      "source": [
        "6.6 연습문제: 정수 세 개를 입력받고 합계 출력하기"
      ],
      "metadata": {
        "id": "kz2fXC7tdszt"
      }
    },
    {
      "cell_type": "code",
      "source": [
        "a, b, c = map(int, input(\"정수를 세 개 입력하세요(공백으로 분리)\").split())"
      ],
      "metadata": {
        "colab": {
          "base_uri": "https://localhost:8080/"
        },
        "id": "5Uhqpmn2dtsd",
        "outputId": "28a3c3cd-0e95-4830-e84c-a56babd5ecc3"
      },
      "execution_count": null,
      "outputs": [
        {
          "name": "stdout",
          "output_type": "stream",
          "text": [
            "정수를 세 개 입력하세요(공백으로 분리)10 20 30\n"
          ]
        }
      ]
    },
    {
      "cell_type": "code",
      "source": [
        "print(a)\n",
        "print(b)\n",
        "print(c)"
      ],
      "metadata": {
        "colab": {
          "base_uri": "https://localhost:8080/"
        },
        "id": "1J8GGrj5dtvL",
        "outputId": "56c4ca27-2174-446e-a530-1cb847c7d577"
      },
      "execution_count": null,
      "outputs": [
        {
          "output_type": "stream",
          "name": "stdout",
          "text": [
            "10\n",
            "20\n",
            "30\n"
          ]
        }
      ]
    },
    {
      "cell_type": "markdown",
      "source": [
        "**Unit 7. 출력 방법 알아보기**"
      ],
      "metadata": {
        "id": "YLjJ65-hP8QI"
      }
    },
    {
      "cell_type": "markdown",
      "source": [
        "7.1 값을 여러 개 출력하기"
      ],
      "metadata": {
        "id": "5y-Hvq9Ke6w9"
      }
    },
    {
      "cell_type": "code",
      "source": [
        "# 7.1.1 sep로 값 사이에 문자 넣기\n",
        "print(1, 2, 3)\n",
        "print('Hello', 'Python')\n",
        "\n",
        "# 7.1.2 sep로 값 사이에 문자 넣기\n",
        "print(1, 2, 3, sep=', ')    # sep에 콤마와 공백을 지정\n",
        "print(4, 5, 6, sep=',')    # sep에 콤마만 지정\n",
        "print('Hello', 'Python', sep='')    # sep에 빈 문자열을 지정\n",
        "print(1920, 1080, sep='x')    # sep에 x를 지정"
      ],
      "metadata": {
        "colab": {
          "base_uri": "https://localhost:8080/"
        },
        "id": "Ns0VcN65dtxc",
        "outputId": "4fb31abe-0920-444e-84eb-6ccf26e4fa64"
      },
      "execution_count": null,
      "outputs": [
        {
          "output_type": "stream",
          "name": "stdout",
          "text": [
            "1 2 3\n",
            "Hello Python\n",
            "1, 2, 3\n",
            "4,5,6\n",
            "HelloPython\n",
            "1920x1080\n"
          ]
        }
      ]
    },
    {
      "cell_type": "markdown",
      "source": [
        "7.2 줄바꿈 활용하기"
      ],
      "metadata": {
        "id": "Z3YfmhE-fO13"
      }
    },
    {
      "cell_type": "code",
      "source": [
        "# \\n 띄어쓰기\n",
        "print(1, 2, 3)\n",
        "print(1, 2, 3, sep='\\n')\n",
        "print('1\\n2\\n3') \n",
        "\n",
        " # end에 빈 문자열을 지정하면 다음 번 출력이 바로 뒤에 오게 됨\n",
        "print(1, end='')   \n",
        "print(2, end='')\n",
        "print(3)\n",
        "\n",
        "# end에 공백 한 칸 지정\n",
        "print(1, end=' ')    \n",
        "print(2, end=' ')\n",
        "print(3)"
      ],
      "metadata": {
        "colab": {
          "base_uri": "https://localhost:8080/"
        },
        "id": "hYIou7Lvdtz-",
        "outputId": "732873d9-8598-4574-9135-cb5cadd86a9a"
      },
      "execution_count": null,
      "outputs": [
        {
          "output_type": "stream",
          "name": "stdout",
          "text": [
            "1 2 3\n",
            "1\n",
            "2\n",
            "3\n",
            "1\n",
            "2\n",
            "3\n",
            "123\n",
            "1 2 3\n"
          ]
        }
      ]
    },
    {
      "cell_type": "markdown",
      "source": [
        "7.4 연습문제: 날짜와 시간 출력하기"
      ],
      "metadata": {
        "id": "5aLn0CITfwp9"
      }
    },
    {
      "cell_type": "code",
      "source": [
        "year = 2000\n",
        "month = 10\n",
        "day = 27\n",
        "hour = 11\n",
        "minute = 43\n",
        "second = 59\n",
        " \n",
        "print(year, month, day, sep='/', end=' ')\n",
        "print(hour, minute, second, sep=':')"
      ],
      "metadata": {
        "colab": {
          "base_uri": "https://localhost:8080/"
        },
        "id": "gumlFZdodt2S",
        "outputId": "01d50af2-2969-4c26-b825-0675c8ce83c7"
      },
      "execution_count": null,
      "outputs": [
        {
          "output_type": "stream",
          "name": "stdout",
          "text": [
            "2000/10/27 11:43:59\n"
          ]
        }
      ]
    },
    {
      "cell_type": "markdown",
      "source": [],
      "metadata": {
        "id": "k6-vvPzVkUt7"
      }
    },
    {
      "cell_type": "markdown",
      "source": [
        "**Unit 8. 불과 비교, 논리 연산자 알아보기**\n"
      ],
      "metadata": {
        "id": "rMWcQGeMP8Sl"
      }
    },
    {
      "cell_type": "code",
      "source": [
        "# 8.1.1 불과 비교 연산자 사용하기\n",
        "print(True)\n",
        "print(False)\n",
        "\n",
        "# 8.1.2 비교 연산자의 판단 결과\n",
        "print(3 > 1)\n",
        "# 파이썬에서는 비교 연산자와 논리 연산자의 판단 결과로 True, False를 사용합니다.\n",
        "# 즉, 비교 결과가 맞으면 True, 아니면 False입니다.\n",
        "\n",
        "# 8.1.3 숫자가 같은지 다른지 비교하기\n",
        "print(10 == 10)\n",
        "print(10 != 5)\n",
        "\n",
        "# 8.1.4 문자열이 같은지 다른지 비교하기\n",
        "print('Python' == 'Python')\n",
        "print('Python' == 'python')\n",
        "print('Python' != 'python')\n",
        "\n",
        "# 8.1.5 부등호 사용하기\n",
        "print(10 > 20)    # 10이 20보다 큰지 비교\n",
        "print(10 < 20)    # 10이 20보다 작은지 비교\n",
        "print(10 >= 10)    # 10이 10보다 크거나 같은지 비교\n",
        "print(10 <= 10)    # 10이 10보다 작거나 같은지 비교"
      ],
      "metadata": {
        "colab": {
          "base_uri": "https://localhost:8080/"
        },
        "id": "5XipmDqBkXBk",
        "outputId": "a4760968-d995-4a92-e734-27e36217e543"
      },
      "execution_count": null,
      "outputs": [
        {
          "output_type": "stream",
          "name": "stdout",
          "text": [
            "True\n",
            "False\n",
            "True\n",
            "True\n",
            "True\n",
            "True\n",
            "False\n",
            "True\n",
            "False\n",
            "True\n",
            "True\n",
            "True\n"
          ]
        }
      ]
    },
    {
      "cell_type": "code",
      "source": [
        "# 8.1.6 객체가 같은지 다른지 비교하기\n",
        "print(1 == 1.0)\n",
        "print(1 is 1.0)\n",
        "print(1 is not 1.0)"
      ],
      "metadata": {
        "colab": {
          "base_uri": "https://localhost:8080/"
        },
        "id": "ZM7mARPVlhnT",
        "outputId": "3e23725d-450e-41a5-cbe7-5a40961f8c05"
      },
      "execution_count": null,
      "outputs": [
        {
          "output_type": "stream",
          "name": "stdout",
          "text": [
            "True\n",
            "False\n",
            "True\n"
          ]
        },
        {
          "output_type": "stream",
          "name": "stderr",
          "text": [
            "<>:3: SyntaxWarning: \"is\" with a literal. Did you mean \"==\"?\n",
            "<>:4: SyntaxWarning: \"is not\" with a literal. Did you mean \"!=\"?\n",
            "<>:3: SyntaxWarning: \"is\" with a literal. Did you mean \"==\"?\n",
            "<>:4: SyntaxWarning: \"is not\" with a literal. Did you mean \"!=\"?\n",
            "<ipython-input-58-7f6bc2b91b63>:3: SyntaxWarning: \"is\" with a literal. Did you mean \"==\"?\n",
            "  print(1 is 1.0)\n",
            "<ipython-input-58-7f6bc2b91b63>:4: SyntaxWarning: \"is not\" with a literal. Did you mean \"!=\"?\n",
            "  print(1 is not 1.0)\n"
          ]
        }
      ]
    },
    {
      "cell_type": "markdown",
      "source": [
        "8.2 논리 연산자 사용하기"
      ],
      "metadata": {
        "id": "_JN_Cq-plmSk"
      }
    },
    {
      "cell_type": "code",
      "source": [
        "print(True and True)\n",
        "print(True and False)\n",
        "print(False and True)\n",
        "print(False and False)\n",
        "\n",
        "# and는 두 값이 모두 True라야 True입니다. 하나라도 False이면 False가 나옵니다."
      ],
      "metadata": {
        "colab": {
          "base_uri": "https://localhost:8080/"
        },
        "id": "NBbIyvs2lhpo",
        "outputId": "dcc43a1a-a0bf-4c89-ee8a-3c50f74eb105"
      },
      "execution_count": null,
      "outputs": [
        {
          "output_type": "stream",
          "name": "stdout",
          "text": [
            "True\n",
            "False\n",
            "False\n",
            "False\n"
          ]
        }
      ]
    },
    {
      "cell_type": "code",
      "source": [
        "print(True or True)\n",
        "print(True or False)\n",
        "print(False or True)\n",
        "print(False or False)\n",
        "\n",
        "# or는 두 값 중 하나라도 True이면 True입니다. 두 값이 모두 False라야 False가 되죠."
      ],
      "metadata": {
        "colab": {
          "base_uri": "https://localhost:8080/"
        },
        "id": "7eMaPZu0lhsG",
        "outputId": "54863ced-5b50-4dc3-8f25-a714660b833f"
      },
      "execution_count": null,
      "outputs": [
        {
          "output_type": "stream",
          "name": "stdout",
          "text": [
            "True\n",
            "True\n",
            "True\n",
            "False\n"
          ]
        }
      ]
    },
    {
      "cell_type": "code",
      "source": [
        "print(not True)\n",
        "print(not False)"
      ],
      "metadata": {
        "colab": {
          "base_uri": "https://localhost:8080/"
        },
        "id": "k1_TUZs3lhvF",
        "outputId": "6847acf6-06c6-4464-f5c0-a0ec45b7db5e"
      },
      "execution_count": null,
      "outputs": [
        {
          "output_type": "stream",
          "name": "stdout",
          "text": [
            "False\n",
            "True\n"
          ]
        }
      ]
    },
    {
      "cell_type": "markdown",
      "source": [
        "**Unit 9. 문자열 이용하기**\n"
      ],
      "metadata": {
        "id": "GewbpB0E-vjd"
      }
    },
    {
      "cell_type": "markdown",
      "source": [
        "9.1 문자열 사용하기"
      ],
      "metadata": {
        "id": "aBk7foJM5yP1"
      }
    },
    {
      "cell_type": "code",
      "source": [
        "hello = 'Hello, world!'\n",
        "print(hello)\n",
        "\n",
        "# 9.1.1 여러 줄로 된 문자열 사용하기\n",
        "hello1 = '''Hello, world!\n",
        "안녕하세요.\n",
        "Python입니다.'''\n",
        "print(hello1)\n",
        "\n",
        "# 9.1.2 문자열 안에 작은따옴표나 큰따옴표 포함하기\n",
        "s = \"Python isn't difficult\"\n",
        "s1 = 'He said \"Python is easy\"'\n",
        "print(s)\n",
        "print(s1)"
      ],
      "metadata": {
        "colab": {
          "base_uri": "https://localhost:8080/"
        },
        "id": "rHTZJ1f-lhwg",
        "outputId": "c07c755b-35fa-483f-c33a-b06104b8eba7"
      },
      "execution_count": null,
      "outputs": [
        {
          "output_type": "stream",
          "name": "stdout",
          "text": [
            "Hello, world!\n",
            "Hello, world!\n",
            "안녕하세요.\n",
            "Python입니다.\n",
            "Python isn't difficult\n",
            "He said \"Python is easy\"\n"
          ]
        }
      ]
    },
    {
      "cell_type": "markdown",
      "source": [
        "**Unit 10. 리스트와 튜플 사용하기**"
      ],
      "metadata": {
        "id": "rQuHil7Q6VuN"
      }
    },
    {
      "cell_type": "code",
      "source": [
        "# 10.1 리스트 만들기\n",
        "a = [38, 21, 53, 62, 19]\n",
        "print(a)\n",
        "\n",
        "# 10.1.1  리스트에 여러 가지 자료형 저장하기\n",
        "person = ['james', 17, 175.3, True]\n",
        "print(person)\n",
        "\n",
        "# 10.1.2  빈 리스트 만들기\n",
        "a1 = []\n",
        "print(a1)\n",
        "b = list()\n",
        "print(b)\n",
        "\n",
        "# 10.1.3  range를 사용하여 리스트 만들기\n",
        "# 리스트 = list(range(횟수))\n",
        "a2 = list(range(10))\n",
        "print(a2)\n",
        "\n",
        "# 리스트 = list(range(시작, 끝))\n",
        "b2 = list(range(5, 12))\n",
        "print(b2)\n",
        "\n",
        "# 리스트 = list(range(시작, 끝, 증가폭))\n",
        "c2 = list(range(-4, 10, 2))\n",
        "print(c2)"
      ],
      "metadata": {
        "colab": {
          "base_uri": "https://localhost:8080/"
        },
        "id": "UZBWkw9U6U10",
        "outputId": "4e7a7941-d602-445f-b181-88a0abc8566f"
      },
      "execution_count": null,
      "outputs": [
        {
          "output_type": "stream",
          "name": "stdout",
          "text": [
            "[38, 21, 53, 62, 19]\n",
            "['james', 17, 175.3, True]\n",
            "[]\n",
            "[]\n",
            "[0, 1, 2, 3, 4, 5, 6, 7, 8, 9]\n",
            "[5, 6, 7, 8, 9, 10, 11]\n",
            "[-4, -2, 0, 2, 4, 6, 8]\n"
          ]
        }
      ]
    },
    {
      "cell_type": "markdown",
      "source": [
        "**Unit 11. 시퀀스 자료형 활용하기**"
      ],
      "metadata": {
        "id": "kwHj-TIi7R7e"
      }
    },
    {
      "cell_type": "code",
      "source": [
        "# 11.1.1  특정 값이 있는지 확인하기\n",
        "a = [0, 10, 20, 30, 40, 50, 60, 70, 80, 90]\n",
        "print(30 in a)\n",
        "print(100 in a)\n",
        "print(100 not in a)\n",
        "\n",
        "# 11.1.2  시퀀스 객체 연결하기\n",
        "#  시퀀스객체1 + 시퀀스객체2\n",
        "a = [0, 10, 20, 30]\n",
        "b = [9, 8, 7, 6]\n",
        "print(a + b)\n",
        "\n",
        "# 문자열에 숫자 연결하기\n",
        "# '문자열' + str(정수)\n",
        "print('Hello, ' + str(10))      # str을 사용하여 정수를 문자열로 변환\n",
        "# '문자열' + str(실수)\n",
        "print('Hello, ' + str(1.5))     # str을 사용하여 실수를 문자열로 변환\n",
        "\n",
        "# 11.1.3  시퀀스 객체 반복하기\n",
        "# 시퀀스객체 * 정수\n",
        "# 정수 * 시퀀스객체\n",
        "print([0, 10, 20, 30] * 3)"
      ],
      "metadata": {
        "colab": {
          "base_uri": "https://localhost:8080/"
        },
        "id": "Ge688-O46U4G",
        "outputId": "8ad96828-e135-4cfe-dcf8-5dd6b4569c14"
      },
      "execution_count": null,
      "outputs": [
        {
          "output_type": "stream",
          "name": "stdout",
          "text": [
            "True\n",
            "False\n",
            "True\n",
            "[0, 10, 20, 30, 9, 8, 7, 6]\n",
            "Hello, 10\n",
            "Hello, 1.5\n",
            "[0, 10, 20, 30, 0, 10, 20, 30, 0, 10, 20, 30]\n"
          ]
        }
      ]
    },
    {
      "cell_type": "markdown",
      "source": [
        "**Unit 12. 딕셔너리 사용하기**\n"
      ],
      "metadata": {
        "id": "Uj7QKztjP8cV"
      }
    },
    {
      "cell_type": "code",
      "source": [
        "lux = [490, 334, 550, 18.72]\n",
        "lux = {'health': 490, 'mana': 334, 'melee': 550, 'armor': 18.72}\n",
        "\n",
        "# 12.1 딕셔너리 만들기\n",
        "# 딕셔너리는 { }(중괄호) 안에 키: 값 형식으로 저장하며 각 키와 값은 ,(콤마)로 구분해줍니다.\n",
        "# 딕셔너리 = {키1: 값1, 키2: 값2}\n",
        "lux = {'health': 490, 'mana': 334, 'melee': 550, 'armor': 18.72}\n",
        "print(lux)\n",
        "\n",
        "# 키 이름이 중복되면?\n",
        "lux = {'health': 490, 'health': 800, 'mana': 334, 'melee': 550, 'armor': 18.72}\n",
        "print(lux['health'])    # 키가 중복되면 가장 뒤에 있는 값만 사용함\n",
        "print(lux)    # 중복되는 키는 저장되지 않음\n",
        "\n",
        "# 12.1.2  딕셔너리 키의 자료형\n",
        "x = {100: 'hundred', False: 0, 3.5: [3.5, 3.5]}\n",
        "print(x)\n",
        "\n",
        "# 12.1.3  빈 딕셔너리 만들기\n",
        "# 딕셔너리 = {}\n",
        "# 딕셔너리 = dict()\n",
        "x1 = {}\n",
        "print(x1)\n",
        "y1 = dict()\n",
        "print(y1)\n",
        "\n",
        "# 12.1.4  dict로 딕셔너리 만들기\n",
        "\n",
        "# 딕셔너리 = dict(키1=값1, 키2=값2)\n",
        "lux1 = dict(health=490, mana=334, melee=550, armor=18.72)    # 키=값 형식으로 딕셔너리를 만듦\n",
        "print(lux1)\n",
        "\n",
        "# 딕셔너리 = dict(zip([키1, 키2], [값1, 값2]))\n",
        "lux2 = dict(zip(['health', 'mama', 'melee', 'armor'], [490, 334, 550, 18.72]))\n",
        "print(lux2)\n",
        "\n",
        "# 딕셔너리 = dict([(키1, 값1), (키2, 값2)])\n",
        "lux3 = dict([('health', 490), ('mana', 334), ('melee', 550), ('armor', 18.72)])\n",
        "print(lux3)\n",
        "\n",
        "# 딕셔너리 = dict({키1: 값1, 키2: 값2})\n",
        "lux4 = dict({'health' : 490, 'mama' : 334, 'melee' : 550, 'armor' : 18.72})\n",
        "print(lux4)\n"
      ],
      "metadata": {
        "colab": {
          "base_uri": "https://localhost:8080/"
        },
        "id": "RmxNGKo_6U6n",
        "outputId": "53a35fb0-f516-4c55-c4df-70e50789314e"
      },
      "execution_count": null,
      "outputs": [
        {
          "output_type": "stream",
          "name": "stdout",
          "text": [
            "{'health': 490, 'mana': 334, 'melee': 550, 'armor': 18.72}\n",
            "800\n",
            "{'health': 800, 'mana': 334, 'melee': 550, 'armor': 18.72}\n",
            "{100: 'hundred', False: 0, 3.5: [3.5, 3.5]}\n",
            "{}\n",
            "{}\n",
            "{'health': 490, 'mana': 334, 'melee': 550, 'armor': 18.72}\n",
            "{'health': 490, 'mama': 334, 'melee': 550, 'armor': 18.72}\n",
            "{'health': 490, 'mana': 334, 'melee': 550, 'armor': 18.72}\n",
            "{'health': 490, 'mama': 334, 'melee': 550, 'armor': 18.72}\n"
          ]
        }
      ]
    },
    {
      "cell_type": "code",
      "source": [
        "# 12.2 딕셔너리의 키에 접근하고 값 할당하기\n",
        "# 딕셔너리[키]\n",
        "lux = {'health': 490, 'mana': 334, 'melee': 550, 'armor': 18.72}\n",
        "print(lux['health'])\n",
        "print(lux['armor'])\n",
        "\n",
        "# 12.2.1  딕셔너리의 키에 값 할당하기\n",
        "# 딕셔너리[키] = 값\n",
        "lux1 = {'health': 490, 'mana': 334, 'melee': 550, 'armor': 18.72}\n",
        "lux1['health'] = 2037    # 키 'health'의 값을 2037로 변경\n",
        "lux1['mana'] = 1184      # 키 'mana'의 값을 1184로 변경\n",
        "print(lux1)\n",
        "lux1['mana_regen'] = 3.28    # 키 'mana_regen'을 추가하고 값 3.28 할당\n",
        "print(lux1)\n",
        "\n",
        "# 12.2.2  딕셔너리에 키가 있는지 확인하기\n",
        "lux2 = {'health': 490, 'mana': 334, 'melee': 550, 'armor': 18.72}\n",
        "print('health' in lux2)\n",
        "print('attack_speed' in lux2)\n",
        "\n",
        "# 키 not in 딕셔너리\n",
        "print('attack_speed' not in lux2)\n",
        "print('health' not in lux2)\n",
        "\n",
        "# 12.2.3  딕셔너리의 키 개수 구하기\n",
        "lux = {'health': 490, 'mana': 334, 'melee': 550, 'armor': 18.72}\n",
        "print(len(lux))"
      ],
      "metadata": {
        "colab": {
          "base_uri": "https://localhost:8080/"
        },
        "id": "176rBlLc6U9W",
        "outputId": "6f6fa437-8653-4fa5-84a8-1fc5ae784645"
      },
      "execution_count": null,
      "outputs": [
        {
          "output_type": "stream",
          "name": "stdout",
          "text": [
            "490\n",
            "18.72\n",
            "{'health': 2037, 'mana': 1184, 'melee': 550, 'armor': 18.72}\n",
            "{'health': 2037, 'mana': 1184, 'melee': 550, 'armor': 18.72, 'mana_regen': 3.28}\n",
            "True\n",
            "False\n",
            "True\n",
            "False\n",
            "4\n"
          ]
        }
      ]
    },
    {
      "cell_type": "markdown",
      "source": [
        "### 연산자 문법 설명\n",
        "### == / a == b / 같음\n",
        "### != / a != b / 같지 않음, 다름\n",
        "### > / a > b / 큼, 초과\n",
        "### < / a < b / 작음, 미만\n",
        "### >= / a >= b / 크거나 같음, 이상\n",
        "### <= / a <= b / 작거나 같음, 이하\n",
        "### is / a is b / 같음(객체 비교)\n",
        "### is not / a is not b / 같지 않음, 다름(객체 비교):\n",
        "### 논리 연산자\n",
        "### and a and b AND(논리곱), 양쪽 모두 참일 때 참\n",
        "### or a or b OR(논리합), 양쪽 중 한쪽만 참이라도 참\n",
        "### not not x NOT(논리 부정), 참과 거짓을 뒤집음"
      ],
      "metadata": {
        "id": "CpmDZAEThEWe"
      }
    }
  ]
}