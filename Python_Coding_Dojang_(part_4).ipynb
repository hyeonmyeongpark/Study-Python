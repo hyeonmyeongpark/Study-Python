{
  "nbformat": 4,
  "nbformat_minor": 0,
  "metadata": {
    "colab": {
      "provenance": [],
      "authorship_tag": "ABX9TyOq8lEXBlPo+pbn3DthCWKU",
      "include_colab_link": true
    },
    "kernelspec": {
      "name": "python3",
      "display_name": "Python 3"
    },
    "language_info": {
      "name": "python"
    }
  },
  "cells": [
    {
      "cell_type": "markdown",
      "metadata": {
        "id": "view-in-github",
        "colab_type": "text"
      },
      "source": [
        "<a href=\"https://colab.research.google.com/github/hyeonmyeongpark/Study-Python/blob/main/Python_Coding_Dojang_(part_4).ipynb\" target=\"_parent\"><img src=\"https://colab.research.google.com/assets/colab-badge.svg\" alt=\"Open In Colab\"/></a>"
      ]
    },
    {
      "cell_type": "markdown",
      "source": [
        "**Unit 25. 딕셔너리 응용하기**"
      ],
      "metadata": {
        "id": "SmgytSlspmzt"
      }
    },
    {
      "cell_type": "code",
      "execution_count": 1,
      "metadata": {
        "colab": {
          "base_uri": "https://localhost:8080/"
        },
        "id": "AU-QBlJBpioY",
        "outputId": "3afdb62d-0168-4853-f944-74177c64b0ba"
      },
      "outputs": [
        {
          "output_type": "stream",
          "name": "stdout",
          "text": [
            "{'a': 10, 'b': 20, 'c': 30, 'd': 40, 'e': None}\n"
          ]
        }
      ],
      "source": [
        "# 25.1.2  딕셔너리에 키와 기본값 저장하기\n",
        "x = {'a': 10, 'b': 20, 'c': 30, 'd': 40}\n",
        "x.setdefault('e')\n",
        "print(x)"
      ]
    },
    {
      "cell_type": "code",
      "source": [
        "x.setdefault('f', 100)\n",
        "print(x)"
      ],
      "metadata": {
        "colab": {
          "base_uri": "https://localhost:8080/"
        },
        "id": "vZ5Bktljps8R",
        "outputId": "e4546f0e-7ec7-474d-ed38-1e7e8aa0ef81"
      },
      "execution_count": 2,
      "outputs": [
        {
          "output_type": "stream",
          "name": "stdout",
          "text": [
            "{'a': 10, 'b': 20, 'c': 30, 'd': 40, 'e': None, 'f': 100}\n"
          ]
        }
      ]
    },
    {
      "cell_type": "code",
      "source": [
        "# 25.1.3  딕셔너리에서 키의 값 수정하기\n",
        "x = {'a': 10, 'b': 20, 'c': 30, 'd': 40}\n",
        "x.update(a=90)\n",
        "print(x)\n",
        "\n",
        "x.update(e=50)\n",
        "print(x)\n",
        "\n",
        "x.update(a=900, f=60)\n",
        "print(x)\n",
        "\n",
        "y = {1: 'one', 2: 'two'}\n",
        "y.update({1: 'ONE', 3: 'THREE'})\n",
        "y.update([[2, 'TWO'], [4, 'FOUR']])\n",
        "y.update(zip([1, 2], ['one', 'two']))\n",
        "print(y)"
      ],
      "metadata": {
        "colab": {
          "base_uri": "https://localhost:8080/"
        },
        "id": "bi-E5Pf1pzeO",
        "outputId": "bae05638-cfd9-42ff-caa8-828914fc2e7e"
      },
      "execution_count": 3,
      "outputs": [
        {
          "output_type": "stream",
          "name": "stdout",
          "text": [
            "{'a': 90, 'b': 20, 'c': 30, 'd': 40}\n",
            "{'a': 90, 'b': 20, 'c': 30, 'd': 40, 'e': 50}\n",
            "{'a': 900, 'b': 20, 'c': 30, 'd': 40, 'e': 50, 'f': 60}\n",
            "{1: 'one', 2: 'two', 3: 'THREE', 4: 'FOUR'}\n"
          ]
        }
      ]
    },
    {
      "cell_type": "code",
      "source": [
        "# 25.1.4  딕셔너리에서 키-값 쌍 삭제하기\n",
        "x = {'a': 10, 'b': 20, 'c': 30, 'd': 40}\n",
        "x.pop('a')\n",
        "print(x)\n",
        "\n",
        "# 25.1.5  딕셔너리에서 임의의 키-값 쌍 삭제하기\n",
        "x1 = {'a': 10, 'b': 20, 'c': 30, 'd': 40}\n",
        "x1.popitem()\n",
        "print(x1)\n",
        "\n",
        "# 25.1.6  딕셔너리의 모든 키-값 쌍을 삭제하기\n",
        "x = {'a': 10, 'b': 20, 'c': 30, 'd': 40}\n",
        "x.clear()\n",
        "print(x)\n",
        "\n",
        "# 25.1.7  딕셔너리에서 키의 값을 가져오기\n",
        "x = {'a': 10, 'b': 20, 'c': 30, 'd': 40}\n",
        "x.get('a')\n",
        "\n",
        "# 25.1.8  딕셔너리에서 키-값 쌍을 모두 가져오기\n",
        "x = {'a': 10, 'b': 20, 'c': 30, 'd': 40}\n",
        "print(x.items())"
      ],
      "metadata": {
        "colab": {
          "base_uri": "https://localhost:8080/"
        },
        "id": "42_cwB1VpzhC",
        "outputId": "3915f37d-0f5c-4c89-abff-c548cf0ac744"
      },
      "execution_count": 4,
      "outputs": [
        {
          "output_type": "stream",
          "name": "stdout",
          "text": [
            "{'b': 20, 'c': 30, 'd': 40}\n",
            "{'a': 10, 'b': 20, 'c': 30}\n",
            "{}\n",
            "dict_items([('a', 10), ('b', 20), ('c', 30), ('d', 40)])\n"
          ]
        }
      ]
    },
    {
      "cell_type": "code",
      "source": [
        "# 25.1.9  리스트와 튜플로 딕셔너리 만들기\n",
        "keys = ['a', 'b', 'c', 'd']\n",
        "x = dict.fromkeys(keys)\n",
        "print(x)"
      ],
      "metadata": {
        "colab": {
          "base_uri": "https://localhost:8080/"
        },
        "id": "JkDT6x2mpzjN",
        "outputId": "996c14d6-aa91-4f14-f9ee-fd5f3c8d5fca"
      },
      "execution_count": 5,
      "outputs": [
        {
          "output_type": "stream",
          "name": "stdout",
          "text": [
            "{'a': None, 'b': None, 'c': None, 'd': None}\n"
          ]
        }
      ]
    },
    {
      "cell_type": "code",
      "source": [
        "# 25.2 반복문으로 딕셔너리의 키-값 쌍을 모두 출력하기\n",
        "x = {'a': 10, 'b': 20, 'c': 30, 'd': 40}\n",
        "for i in x:\n",
        "  print(i, end=' ')"
      ],
      "metadata": {
        "colab": {
          "base_uri": "https://localhost:8080/"
        },
        "id": "rqe69tltpzls",
        "outputId": "8aead018-5333-4677-b4f6-04ed4f3bcf7b"
      },
      "execution_count": 1,
      "outputs": [
        {
          "output_type": "stream",
          "name": "stdout",
          "text": [
            "a b c d "
          ]
        }
      ]
    },
    {
      "cell_type": "code",
      "source": [
        "# 25.2.1  딕셔너리의 키만 출력하기\n",
        "x = {'a': 10, 'b': 20, 'c': 30, 'd': 40}\n",
        "for key in x.keys():\n",
        "  print(key, end=' ')"
      ],
      "metadata": {
        "colab": {
          "base_uri": "https://localhost:8080/"
        },
        "id": "CCbRz-AipztV",
        "outputId": "ac8eb7d6-114f-46e6-b200-3d30f5834f0a"
      },
      "execution_count": 2,
      "outputs": [
        {
          "output_type": "stream",
          "name": "stdout",
          "text": [
            "a b c d "
          ]
        }
      ]
    },
    {
      "cell_type": "code",
      "source": [
        "# 25.2.2  딕셔너리의 값만 출력하기\n",
        "x = {'a': 10, 'b': 20, 'c': 30, 'd': 40}\n",
        "for value in x.values():\n",
        "  print(value, end=' ')"
      ],
      "metadata": {
        "colab": {
          "base_uri": "https://localhost:8080/"
        },
        "id": "e36QY212pzwX",
        "outputId": "acb8afad-8ebc-4660-bd14-d177c9458971"
      },
      "execution_count": 3,
      "outputs": [
        {
          "output_type": "stream",
          "name": "stdout",
          "text": [
            "10 20 30 40 "
          ]
        }
      ]
    },
    {
      "cell_type": "code",
      "source": [
        "# 25.3 딕셔너리 표현식 사용하기\n",
        "keys = ['a', 'b', 'c', 'd']\n",
        "x = {key: value for key, value in dict.fromkeys(keys).items()}\n",
        "print(x)"
      ],
      "metadata": {
        "colab": {
          "base_uri": "https://localhost:8080/"
        },
        "id": "KUT6HtLgKlq8",
        "outputId": "42817046-60f6-44c8-9010-27271c301b0c"
      },
      "execution_count": 4,
      "outputs": [
        {
          "output_type": "stream",
          "name": "stdout",
          "text": [
            "{'a': None, 'b': None, 'c': None, 'd': None}\n"
          ]
        }
      ]
    },
    {
      "cell_type": "code",
      "source": [
        "# 25.3.1  딕셔너리 표현식에서 if 조건문 사용하기\n",
        "x = {'a': 10, 'b': 20, 'c': 30, 'd': 40}\n",
        "x = {key: value for key, value in x.items() if value != 20}\n",
        "print(x)"
      ],
      "metadata": {
        "colab": {
          "base_uri": "https://localhost:8080/"
        },
        "id": "gbG2Snv1Kltn",
        "outputId": "8b105678-f586-43fe-ebb1-38312f886cbc"
      },
      "execution_count": 8,
      "outputs": [
        {
          "output_type": "stream",
          "name": "stdout",
          "text": [
            "{'a': 10, 'c': 30, 'd': 40}\n"
          ]
        }
      ]
    },
    {
      "cell_type": "code",
      "source": [
        "# 25.4 딕셔너리 안에서 딕셔너리 사용하기\n",
        "terrestrial_planet = {\n",
        "    'Mercury': {\n",
        "        'mean_radius': 2439.7,\n",
        "        'mass': 3.3022E+23,\n",
        "        'orbital_period': 87.969\n",
        "    },\n",
        "    'Venus': {\n",
        "        'mean_radius': 6051.8,\n",
        "        'mass': 4.8676E+24,\n",
        "        'orbital_period': 224.70069,\n",
        "    },\n",
        "    'Earth': {\n",
        "        'mean_radius': 6371.0,\n",
        "        'mass': 5.97219E+24,\n",
        "        'orbital_period': 365.25641,\n",
        "    },\n",
        "    'Mars': {\n",
        "        'mean_radius': 3389.5,\n",
        "        'mass': 6.4185E+23,\n",
        "        'orbital_period': 686.9600,\n",
        "    }\n",
        "}\n",
        " \n",
        "print(terrestrial_planet['Venus']['mean_radius'])    # 6051.8"
      ],
      "metadata": {
        "colab": {
          "base_uri": "https://localhost:8080/"
        },
        "id": "IkFUqLPRKlvz",
        "outputId": "496aec40-178d-4c9a-cda9-c83b7615063e"
      },
      "execution_count": 9,
      "outputs": [
        {
          "output_type": "stream",
          "name": "stdout",
          "text": [
            "6051.8\n"
          ]
        }
      ]
    },
    {
      "cell_type": "code",
      "source": [
        "print(terrestrial_planet['Venus']['mean_radius'])  "
      ],
      "metadata": {
        "colab": {
          "base_uri": "https://localhost:8080/"
        },
        "id": "Po8hIjE3KlyK",
        "outputId": "385ee770-3fb8-43db-8e11-4765d64f65e8"
      },
      "execution_count": 10,
      "outputs": [
        {
          "output_type": "stream",
          "name": "stdout",
          "text": [
            "6051.8\n"
          ]
        }
      ]
    },
    {
      "cell_type": "code",
      "source": [
        "# 25.5 딕셔너리의 할당과 복사\n",
        "x = {'a': 0, 'b': 0, 'c': 0, 'd': 0}\n",
        "y = x\n",
        "print( x is y)"
      ],
      "metadata": {
        "colab": {
          "base_uri": "https://localhost:8080/"
        },
        "id": "wEiqk9plKl0k",
        "outputId": "19ad9ecf-5f74-4879-c773-e8d5d1586fc0"
      },
      "execution_count": 12,
      "outputs": [
        {
          "output_type": "stream",
          "name": "stdout",
          "text": [
            "True\n"
          ]
        }
      ]
    },
    {
      "cell_type": "code",
      "source": [
        "# 25.5.1  중첩 딕셔너리의 할당과 복사 알아보기\n",
        "x = {'a': {'python': '2.7'}, 'b': {'python': '3.6'}}\n",
        "y = x.copy()"
      ],
      "metadata": {
        "id": "NksISvhKKl2y"
      },
      "execution_count": 13,
      "outputs": []
    },
    {
      "cell_type": "markdown",
      "source": [
        "**Unit 26. 세트 사용하기**"
      ],
      "metadata": {
        "id": "s6SiQIHxLwy9"
      }
    },
    {
      "cell_type": "code",
      "source": [
        "# 26.1 세트 만들기\n",
        "fruits = {'strawberry', 'grape', 'orange', 'pineapple', 'cherry'}\n",
        "print(fruits)\n",
        "\n",
        "# 26.1.1  세트에 특정 값이 있는지 확인하기\n",
        "ruits = {'strawberry', 'grape', 'orange', 'pineapple', 'cherry'}\n",
        "print('orange' in fruits)\n",
        "\n",
        "# 26.1.2  set를 사용하여 세트 만들기\n",
        "a = set('apple')    # 유일한 문자만 세트로 만듦\n",
        "print(a)"
      ],
      "metadata": {
        "colab": {
          "base_uri": "https://localhost:8080/"
        },
        "id": "poasw5MZKl5F",
        "outputId": "67199428-6ef4-4c1a-acde-5d6789928a7e"
      },
      "execution_count": 16,
      "outputs": [
        {
          "output_type": "stream",
          "name": "stdout",
          "text": [
            "{'pineapple', 'strawberry', 'grape', 'orange', 'cherry'}\n",
            "True\n",
            "{'l', 'p', 'a', 'e'}\n"
          ]
        }
      ]
    },
    {
      "cell_type": "code",
      "source": [
        "b = set(range(5))\n",
        "print(b)\n",
        "\n",
        "c = set()\n",
        "print(c)"
      ],
      "metadata": {
        "colab": {
          "base_uri": "https://localhost:8080/"
        },
        "id": "GJhdQOeLKl7h",
        "outputId": "42f5bf44-b8c2-408d-9d47-d886941c828d"
      },
      "execution_count": 17,
      "outputs": [
        {
          "output_type": "stream",
          "name": "stdout",
          "text": [
            "{0, 1, 2, 3, 4}\n",
            "set()\n"
          ]
        }
      ]
    },
    {
      "cell_type": "code",
      "source": [
        "# 26.2 집합 연산 사용하기\n",
        "a = {1, 2, 3, 4}\n",
        "b = {3, 4, 5, 6}\n",
        "\n",
        "# 합집합(union)\n",
        "print(a | b)\n",
        "print(set.union(a, b))\n",
        "\n",
        "# 교집합(intersection)\n",
        "print(a & b)\n",
        "print({3, 4})\n",
        "\n",
        "# 차집합(difference)\n",
        "print(a - b)\n",
        "print(set.difference(a, b))\n",
        "\n",
        "# 대칭차집합(symmetric difference)\n",
        "print( a ^ b)\n",
        "print(set.symmetric_difference(a, b))"
      ],
      "metadata": {
        "colab": {
          "base_uri": "https://localhost:8080/"
        },
        "id": "OYQ_rjLpKl9k",
        "outputId": "43c6ed31-5b6f-4de1-e46a-d7753a3c012f"
      },
      "execution_count": 20,
      "outputs": [
        {
          "output_type": "stream",
          "name": "stdout",
          "text": [
            "{1, 2, 3, 4, 5, 6}\n",
            "{1, 2, 3, 4, 5, 6}\n",
            "{3, 4}\n",
            "{3, 4}\n",
            "{1, 2}\n",
            "{1, 2}\n",
            "{1, 2, 5, 6}\n",
            "{1, 2, 5, 6}\n"
          ]
        }
      ]
    },
    {
      "cell_type": "code",
      "source": [
        "# 26.2.1  집합 연산 후 할당 연산자 사용하기\n",
        "a = {1, 2, 3, 4}\n",
        "a |= {5}\n",
        "print(a)\n",
        "a1 = {1, 2, 3, 4}\n",
        "a1.update({5})\n",
        "print(a1)\n",
        "\n",
        "# 26.2.2  부분 집합과 상위집합 확인하기\n",
        "a = {1, 2, 3, 4}\n",
        "a <= {1, 2, 3, 4}\n",
        "a.issubset({1, 2, 3, 4, 5})\n",
        "\n",
        "# 26.2.3  세트가 같은지 다른지 확인하기\n",
        "a = {1, 2, 3, 4}\n",
        "a == {1, 2, 3, 4}\n",
        "\n",
        "# 26.2.4  세트가 겹치지 않는지 확인하기\n",
        "a = {1, 2, 3, 4}\n",
        "a.isdisjoint({5, 6, 7, 8})       # 겹치는 요소가 없음"
      ],
      "metadata": {
        "colab": {
          "base_uri": "https://localhost:8080/"
        },
        "id": "g6iXjNztKl_7",
        "outputId": "a81112b9-7187-4e16-f89b-f9c5911b6d33"
      },
      "execution_count": 23,
      "outputs": [
        {
          "output_type": "stream",
          "name": "stdout",
          "text": [
            "{1, 2, 3, 4, 5}\n",
            "{1, 2, 3, 4, 5}\n"
          ]
        },
        {
          "output_type": "execute_result",
          "data": {
            "text/plain": [
              "True"
            ]
          },
          "metadata": {},
          "execution_count": 23
        }
      ]
    },
    {
      "cell_type": "code",
      "source": [
        "# 26.3 세트 조작하기\n",
        "# 26.3.1  세트에 요소 추가하기\n",
        "a = {1, 2, 3, 4}\n",
        "a.add(5)\n",
        "print(a)\n",
        "\n",
        "# 26.3.2  세트에서 특정 요소를 삭제하기\n",
        "a.remove(3)\n",
        "print(a)\n",
        "\n",
        "# 26.3.3  세트에서 임의의 요소 삭제하기\n",
        "a = {1, 2, 3, 4}\n",
        "a.pop()\n",
        "print(a)\n",
        "\n",
        "# 26.3.4  세트의 모든 요소를 삭제하기\n",
        "a.clear()\n",
        "print(a)\n",
        "\n",
        "# 26.3.5  세트의 요소 개수 구하기\n",
        "a = {1, 2, 3, 4}\n",
        "print(len(a))"
      ],
      "metadata": {
        "colab": {
          "base_uri": "https://localhost:8080/"
        },
        "id": "z3hCKQVTM2eP",
        "outputId": "041173f6-911e-47db-e586-d77f07fc3752"
      },
      "execution_count": 25,
      "outputs": [
        {
          "output_type": "stream",
          "name": "stdout",
          "text": [
            "{1, 2, 3, 4, 5}\n",
            "{1, 2, 4, 5}\n",
            "{2, 3, 4}\n",
            "set()\n",
            "4\n"
          ]
        }
      ]
    },
    {
      "cell_type": "code",
      "source": [
        "# 26.4 세트의 할당과 복사\n",
        "a = {1, 2, 3, 4}\n",
        "b = a\n",
        "print(a is b)\n",
        "b.add(5)\n",
        "print(a)\n",
        "print(b)"
      ],
      "metadata": {
        "colab": {
          "base_uri": "https://localhost:8080/"
        },
        "id": "np0uFVXvQPVG",
        "outputId": "49cf0bd9-17e6-4218-e272-5d413c54d97d"
      },
      "execution_count": 27,
      "outputs": [
        {
          "output_type": "stream",
          "name": "stdout",
          "text": [
            "True\n",
            "{1, 2, 3, 4, 5}\n",
            "{1, 2, 3, 4, 5}\n"
          ]
        }
      ]
    },
    {
      "cell_type": "code",
      "source": [
        "# 26.5 반복문으로 세트의 요소를 모두 출력하기\n"
      ],
      "metadata": {
        "id": "cbGhT8-OQvjq"
      },
      "execution_count": null,
      "outputs": []
    },
    {
      "cell_type": "code",
      "source": [
        "a = {1, 2, 3, 4}\n",
        "for i in a:\n",
        "  print(i)\n",
        "\n",
        "for i in {1, 2, 3, 4}:\n",
        "    print(i)"
      ],
      "metadata": {
        "colab": {
          "base_uri": "https://localhost:8080/"
        },
        "id": "Glp9FfBHQvmA",
        "outputId": "e0afe95e-d55a-4090-f022-537ff77a2baa"
      },
      "execution_count": 30,
      "outputs": [
        {
          "output_type": "stream",
          "name": "stdout",
          "text": [
            "1\n",
            "2\n",
            "3\n",
            "4\n",
            "1\n",
            "2\n",
            "3\n",
            "4\n"
          ]
        }
      ]
    },
    {
      "cell_type": "code",
      "source": [
        "# 26.6 세트 표현식 사용하기\n",
        "a = {i for i in 'apple'}\n",
        "print(a)\n",
        "\n",
        "# 26.6.1  세트 표현식에 if 조건문 사용하기\n",
        "a = {i for i in 'pineapple' if i not in 'apl'}\n",
        "print(a)"
      ],
      "metadata": {
        "colab": {
          "base_uri": "https://localhost:8080/"
        },
        "id": "whH-uUZFQvoo",
        "outputId": "cfff764b-a508-4316-e427-f7d517c88c88"
      },
      "execution_count": 31,
      "outputs": [
        {
          "output_type": "stream",
          "name": "stdout",
          "text": [
            "{'l', 'p', 'a', 'e'}\n",
            "{'i', 'e', 'n'}\n"
          ]
        }
      ]
    },
    {
      "cell_type": "markdown",
      "source": [
        "**Unit 27. 파일 사용하기**"
      ],
      "metadata": {
        "id": "zWZh5oaWQ_7l"
      }
    },
    {
      "cell_type": "code",
      "source": [
        "# 27.1 파일에 문자열 쓰기, 읽기\n",
        "# 27.1.1  파일에 문자열 쓰기\n",
        "# 파일객체 = open(파일이름, 파일모드)\n",
        "# 파일객체.write('문자열')\n",
        "# 파일객체.close()\n",
        "\n",
        "file = open('hello.txt', 'w')    # hello.txt 파일을 쓰기 모드(w)로 열기. 파일 객체 반환\n",
        "file.write('Hello, world!')      # 파일에 문자열 저장\n",
        "file.close()                     # 파일 객체 닫기\n",
        "file  = open('hello.txt' , 'w' )    # hello.txt 파일을 쓰기 모드(w)로 열기. 파일 객체 반환\n",
        "file.write('Hello, world!')      # 파일에 문자열 저장\n",
        "file.close()                     # 파일 객체 닫기"
      ],
      "metadata": {
        "id": "qAV21EV6Qvq0"
      },
      "execution_count": 33,
      "outputs": []
    },
    {
      "cell_type": "code",
      "source": [
        "# 27.1.2  파일에서 문자열 읽기\n",
        "file = open('hello.txt', 'r')    # hello.txt 파일을 읽기 모드(r)로 열기. 파일 객체 반환\n",
        "s = file.read()                  # 파일에서 문자열 읽기\n",
        "print(s)                         # Hello, world!\n",
        "file.close()                     # 파일 객체 닫기\n",
        "file = open('hello.txt', 'r')    # hello.txt 파일을 읽기 모드(r)로 열기. 파일 객체 반환\n",
        "s = file.read()                  # 파일에서 문자열 읽기\n",
        "print(s)                         # Hello, world!\n",
        "file.close()                     # 파일 객체 닫기"
      ],
      "metadata": {
        "colab": {
          "base_uri": "https://localhost:8080/"
        },
        "id": "nmtXNGmeQvtA",
        "outputId": "a8da00ee-38ba-4384-b374-0faf14998ea3"
      },
      "execution_count": 35,
      "outputs": [
        {
          "output_type": "stream",
          "name": "stdout",
          "text": [
            "Hello, world!\n",
            "Hello, world!\n"
          ]
        }
      ]
    },
    {
      "cell_type": "code",
      "source": [
        "# 27.1.3  자동으로 파일 객체 닫기\n",
        "with open('hello.txt', 'r') as file:    # hello.txt 파일을 읽기 모드(r)로 열기\n",
        "    s = file.read()                     # 파일에서 문자열 읽기\n",
        "    print(s)                            # Hello, world!"
      ],
      "metadata": {
        "colab": {
          "base_uri": "https://localhost:8080/"
        },
        "id": "nWgkDaUvQvvZ",
        "outputId": "910f595c-c823-4422-862c-876c0619e754"
      },
      "execution_count": 36,
      "outputs": [
        {
          "output_type": "stream",
          "name": "stdout",
          "text": [
            "Hello, world!\n"
          ]
        }
      ]
    },
    {
      "cell_type": "code",
      "source": [
        "# 27.2 문자열 여러 줄을 파일에 쓰기, 읽기\n",
        "# 27.2.1  반복문으로 문자열 여러 줄을 파일에 쓰기\n",
        "with open('hello.txt', 'w') as file:    # hello.txt 파일을 쓰기 모드(w)로 열기\n",
        "    for i in range(3):\n",
        "        file.write('Hello, world! {0}\\n'.format(i))"
      ],
      "metadata": {
        "id": "CGG3zQDfQvxk"
      },
      "execution_count": 41,
      "outputs": []
    },
    {
      "cell_type": "code",
      "source": [
        "# 27.2.2  리스트에 들어있는 문자열을 파일에 쓰기\n",
        "lines = ['안녕하세요.\\n', '파이썬\\n', '코딩 도장입니다.\\n']\n",
        " \n",
        "with open('hello.txt', 'w') as file:    # hello.txt 파일을 쓰기 모드(w)로 열기\n",
        "    file.writelines(lines)"
      ],
      "metadata": {
        "id": "ogWfF9USQvz7"
      },
      "execution_count": 39,
      "outputs": []
    },
    {
      "cell_type": "code",
      "source": [
        "# 27.2.3  파일의 내용을 한 줄씩 리스트로 가져오기\n",
        "with open('hello.txt', 'r') as file:    # hello.txt 파일을 읽기 모드(r)로 열기\n",
        "    lines = file.readlines()\n",
        "    print(lines)"
      ],
      "metadata": {
        "colab": {
          "base_uri": "https://localhost:8080/"
        },
        "id": "uRK0pj7fQv2I",
        "outputId": "b2f6c76c-c021-4e37-cf3f-05d427748556"
      },
      "execution_count": 40,
      "outputs": [
        {
          "output_type": "stream",
          "name": "stdout",
          "text": [
            "['안녕하세요.\\n', '파이썬\\n', '코딩 도장입니다.\\n']\n"
          ]
        }
      ]
    },
    {
      "cell_type": "code",
      "source": [
        "# 27.2.4  파일의 내용을 한 줄씩 읽기\n",
        "with open('hello.txt', 'r') as file:    # hello.txt 파일을 읽기 모드(r)로 열기\n",
        "    line = None    # 변수 line을 None으로 초기화\n",
        "    while line != '':\n",
        "        line = file.readline()\n",
        "        print(line.strip('\\n'))    # 파일에서 읽어온 문자열에서 \\n 삭제하여 출력"
      ],
      "metadata": {
        "colab": {
          "base_uri": "https://localhost:8080/"
        },
        "id": "dHncGHe0RoZQ",
        "outputId": "6e5de66d-4582-49b1-d8a9-fb15502d7235"
      },
      "execution_count": 42,
      "outputs": [
        {
          "output_type": "stream",
          "name": "stdout",
          "text": [
            "Hello, world! 0\n",
            "Hello, world! 1\n",
            "Hello, world! 2\n",
            "\n"
          ]
        }
      ]
    },
    {
      "cell_type": "code",
      "source": [
        "# 27.2.5  for 반복문으로 파일의 내용을 줄 단위로 읽기\n",
        "with open('hello.txt', 'r') as file:    # hello.txt 파일을 읽기 모드(r)로 열기\n",
        "    for line in file:    # for에 파일 객체를 지정하면 파일의 내용을 한 줄씩 읽어서 변수에 저장함\n",
        "        print(line.strip('\\n'))    # 파일에서 읽어온 문자열에서 \\n 삭제하여 출력"
      ],
      "metadata": {
        "colab": {
          "base_uri": "https://localhost:8080/"
        },
        "id": "zvgXjaFTRob8",
        "outputId": "501b07d2-e95a-4819-f9fc-83ee64b8acd5"
      },
      "execution_count": 43,
      "outputs": [
        {
          "output_type": "stream",
          "name": "stdout",
          "text": [
            "Hello, world! 0\n",
            "Hello, world! 1\n",
            "Hello, world! 2\n"
          ]
        }
      ]
    },
    {
      "cell_type": "code",
      "source": [
        "# 27.3 파이썬 객체를 파일에 저장하기, 가져오기\n",
        "# 27.3.1  파이썬 객체를 파일에 저장하기\n",
        "import pickle\n",
        " \n",
        "name = 'james'\n",
        "age = 17\n",
        "address = '서울시 서초구 반포동'\n",
        "scores = {'korean': 90, 'english': 95, 'mathematics': 85, 'science': 82}\n",
        " \n",
        "with open('james.p', 'wb') as file:    # james.p 파일을 바이너리 쓰기 모드(wb)로 열기\n",
        "    pickle.dump(name, file)\n",
        "    pickle.dump(age, file)\n",
        "    pickle.dump(address, file)\n",
        "    pickle.dump(scores, file)"
      ],
      "metadata": {
        "id": "mrdbRbyERoeL"
      },
      "execution_count": 44,
      "outputs": []
    },
    {
      "cell_type": "code",
      "source": [
        "# 27.3.2  파일에서 파이썬 객체 읽기\n",
        "import pickle\n",
        " \n",
        "with open('james.p', 'rb') as file:    # james.p 파일을 바이너리 읽기 모드(rb)로 열기\n",
        "    name = pickle.load(file)\n",
        "    age = pickle.load(file)\n",
        "    address = pickle.load(file)\n",
        "    scores = pickle.load(file)\n",
        "    print(name)\n",
        "    print(age)\n",
        "    print(address)\n",
        "    print(scores)"
      ],
      "metadata": {
        "colab": {
          "base_uri": "https://localhost:8080/"
        },
        "id": "TV7MN7gCRogy",
        "outputId": "6c99610b-2886-4590-9ab2-8d9f1c1502bd"
      },
      "execution_count": 45,
      "outputs": [
        {
          "output_type": "stream",
          "name": "stdout",
          "text": [
            "james\n",
            "17\n",
            "서울시 서초구 반포동\n",
            "{'korean': 90, 'english': 95, 'mathematics': 85, 'science': 82}\n"
          ]
        }
      ]
    },
    {
      "cell_type": "markdown",
      "source": [
        "**Unit 28. 회문 판별과 N-gram 만들기**"
      ],
      "metadata": {
        "id": "Fl7KXN1wR8UD"
      }
    },
    {
      "cell_type": "code",
      "source": [
        "# 28.1 회문 판별하기\n",
        "# 28.1.1  반복문으로 문자 검사하기\n",
        "word = input('단어를 입력하세요: ')\n",
        " \n",
        "is_palindrome = True                 # 회문 판별값을 저장할 변수, 초깃값은 True\n",
        "for i in range(len(word) // 2):      # 0부터 문자열 길이의 절반만큼 반복\n",
        "    if word[i] != word[-1 - i]:      # 왼쪽 문자와 오른쪽 문자를 비교하여 문자가 다르면\n",
        "        is_palindrome = False        # 회문이 아님\n",
        "        break\n",
        " \n",
        "print(is_palindrome)                 # 회문 판별값 출력"
      ],
      "metadata": {
        "colab": {
          "base_uri": "https://localhost:8080/"
        },
        "id": "nJEBc3_bRojA",
        "outputId": "f65bada8-ce5e-4528-a62a-9e22c3b0953c"
      },
      "execution_count": 46,
      "outputs": [
        {
          "output_type": "stream",
          "name": "stdout",
          "text": [
            "단어를 입력하세요: level\n",
            "True\n"
          ]
        }
      ]
    },
    {
      "cell_type": "code",
      "source": [
        "# 28.1.2  시퀀스 뒤집기로 문자 검사하기\n",
        "word = input('단어를 입력하세요: ')\n",
        " \n",
        "print(word == word[::-1])    # 원래 문자열과 반대로 뒤집은 문자열을 비교"
      ],
      "metadata": {
        "colab": {
          "base_uri": "https://localhost:8080/"
        },
        "id": "NUcnaoZlRolp",
        "outputId": "b3e833d4-3d96-4a26-a8ef-d35b3d4d394a"
      },
      "execution_count": 47,
      "outputs": [
        {
          "output_type": "stream",
          "name": "stdout",
          "text": [
            "단어를 입력하세요: level \n",
            "False\n"
          ]
        }
      ]
    },
    {
      "cell_type": "code",
      "source": [
        "# 28.1.3  리스트와 reversed 사용하기\n",
        "word = 'level'\n",
        "list(word) == list(reversed(word))"
      ],
      "metadata": {
        "colab": {
          "base_uri": "https://localhost:8080/"
        },
        "id": "JAbf94RTRooA",
        "outputId": "7b6d36f9-9444-4a1d-f11c-72ffee7535f4"
      },
      "execution_count": 48,
      "outputs": [
        {
          "output_type": "execute_result",
          "data": {
            "text/plain": [
              "True"
            ]
          },
          "metadata": {},
          "execution_count": 48
        }
      ]
    },
    {
      "cell_type": "code",
      "source": [
        "# 28.1.4  문자열의 join 메서드와 reversed 사용하기\n",
        "word = 'level'\n",
        "word == ''.join(reversed(word))"
      ],
      "metadata": {
        "colab": {
          "base_uri": "https://localhost:8080/"
        },
        "id": "4Cm_h-LNRoqQ",
        "outputId": "38627617-e9c3-49c2-e2f7-022e58bb1e1d"
      },
      "execution_count": 49,
      "outputs": [
        {
          "output_type": "execute_result",
          "data": {
            "text/plain": [
              "True"
            ]
          },
          "metadata": {},
          "execution_count": 49
        }
      ]
    },
    {
      "cell_type": "code",
      "source": [
        "# 28.2 N-gram 만들기\n",
        "# 28.2.1  반복문으로 N-gram 출력하기\n",
        "text = 'Hello'\n",
        " \n",
        "for i in range(len(text) - 1):             # 2-gram이므로 문자열의 끝에서 한 글자 앞까지만 반복함\n",
        "    print(text[i], text[i + 1], sep='')    # 현재 문자와 그다음 문자 출력"
      ],
      "metadata": {
        "colab": {
          "base_uri": "https://localhost:8080/"
        },
        "id": "Z8W05Q9sRosq",
        "outputId": "f5bd8d02-be8f-4514-f875-8e4c7de03e2b"
      },
      "execution_count": 50,
      "outputs": [
        {
          "output_type": "stream",
          "name": "stdout",
          "text": [
            "He\n",
            "el\n",
            "ll\n",
            "lo\n"
          ]
        }
      ]
    },
    {
      "cell_type": "code",
      "source": [
        "text = 'this is python script'\n",
        "words = text.split()                 # 공백을 기준으로 문자열을 분리하여 리스트로 만듦\n",
        " \n",
        "for i in range(len(words) - 1):      # 2-gram이므로 리스트의 마지막에서 요소 한 개 앞까지만 반복함\n",
        "    print(words[i], words[i + 1])    # 현재 문자열과 그다음 문자열 출력"
      ],
      "metadata": {
        "colab": {
          "base_uri": "https://localhost:8080/"
        },
        "id": "LrKdYkX2RovC",
        "outputId": "8d88bcf6-6eb3-454a-ad03-47fa14fb7949"
      },
      "execution_count": 51,
      "outputs": [
        {
          "output_type": "stream",
          "name": "stdout",
          "text": [
            "this is\n",
            "is python\n",
            "python script\n"
          ]
        }
      ]
    },
    {
      "cell_type": "code",
      "source": [
        "# 28.2.2  zip으로 2-gram 만들기\n",
        "text = 'hello'\n",
        " \n",
        "two_gram = zip(text, text[1:])\n",
        "for i in two_gram:\n",
        "    print(i[0], i[1], sep='')"
      ],
      "metadata": {
        "colab": {
          "base_uri": "https://localhost:8080/"
        },
        "id": "zfO3vP7QRoyD",
        "outputId": "e2c0397b-2591-491b-ef75-c24cdbbd5928"
      },
      "execution_count": 52,
      "outputs": [
        {
          "output_type": "stream",
          "name": "stdout",
          "text": [
            "he\n",
            "el\n",
            "ll\n",
            "lo\n"
          ]
        }
      ]
    },
    {
      "cell_type": "code",
      "source": [
        "# 28.2.3  zip과 리스트 표현식으로 N-gram 만들기\n",
        "text = 'hello'\n",
        "[text[i:] for i in range(3)]"
      ],
      "metadata": {
        "colab": {
          "base_uri": "https://localhost:8080/"
        },
        "id": "vvYi_Df-Ro0p",
        "outputId": "c1965269-07e5-43d4-d05f-7c901e44b35e"
      },
      "execution_count": 53,
      "outputs": [
        {
          "output_type": "execute_result",
          "data": {
            "text/plain": [
              "['hello', 'ello', 'llo']"
            ]
          },
          "metadata": {},
          "execution_count": 53
        }
      ]
    },
    {
      "cell_type": "markdown",
      "source": [
        "**Unit 29. 함수 사용하기**"
      ],
      "metadata": {
        "id": "ua85rBa8SmMl"
      }
    },
    {
      "cell_type": "code",
      "source": [
        "# 29.1 Hello, world! 출력 함수 만들기\n",
        "# 29.1.1  함수 만들기\n",
        "def hello():\n",
        "   print('Hello, world!')"
      ],
      "metadata": {
        "id": "vjiItAfWSoOT"
      },
      "execution_count": 54,
      "outputs": []
    },
    {
      "cell_type": "code",
      "source": [
        "# 29.1.2  함수 호출하기\n",
        "hello()"
      ],
      "metadata": {
        "colab": {
          "base_uri": "https://localhost:8080/"
        },
        "id": "w5VyJpHwSoQa",
        "outputId": "09d861f5-9dad-44c5-eb24-35b3a68bad70"
      },
      "execution_count": 55,
      "outputs": [
        {
          "output_type": "stream",
          "name": "stdout",
          "text": [
            "Hello, world!\n"
          ]
        }
      ]
    },
    {
      "cell_type": "code",
      "source": [
        "# 29.1.3  소스 파일에서 함수를 만들고 호출하기\n",
        "def hello():\n",
        "    print('Hello, world!')\n",
        " \n",
        "hello()"
      ],
      "metadata": {
        "colab": {
          "base_uri": "https://localhost:8080/"
        },
        "id": "o4qudpFCSoTB",
        "outputId": "f01cd489-c54d-4606-fe3a-c4eb44e8f2c8"
      },
      "execution_count": 56,
      "outputs": [
        {
          "output_type": "stream",
          "name": "stdout",
          "text": [
            "Hello, world!\n"
          ]
        }
      ]
    },
    {
      "cell_type": "code",
      "source": [
        "# 29.1.4  함수의 실행 순서\n",
        "# 파이썬 스크립트 최초 실행\n",
        "# hello 함수 호출\n",
        "# hello 함수 실행\n",
        "# print 함수 실행 및 'Hello, world!' 출력\n",
        "# hello 함수 종료\n",
        "# 파이썬 스크립트 종료"
      ],
      "metadata": {
        "id": "mVe5fedgSoVd"
      },
      "execution_count": null,
      "outputs": []
    },
    {
      "cell_type": "code",
      "source": [
        "# 29.2 덧셈 함수 만들기\n",
        "def add(a, b):\n",
        "  print(a + b)"
      ],
      "metadata": {
        "id": "Hw6rtTvASoXb"
      },
      "execution_count": 57,
      "outputs": []
    },
    {
      "cell_type": "code",
      "source": [
        "add(10, 20)"
      ],
      "metadata": {
        "colab": {
          "base_uri": "https://localhost:8080/"
        },
        "id": "84rKEKA8SoZ2",
        "outputId": "02b37a42-4a4f-454b-e651-336f46365c66"
      },
      "execution_count": 58,
      "outputs": [
        {
          "output_type": "stream",
          "name": "stdout",
          "text": [
            "30\n"
          ]
        }
      ]
    },
    {
      "cell_type": "code",
      "source": [
        "# 29.3 함수의 결과를 반환하기\n",
        "def add(a, b):\n",
        "  return a + b\n",
        "x = add(10, 20)\n",
        "print(x)"
      ],
      "metadata": {
        "colab": {
          "base_uri": "https://localhost:8080/"
        },
        "id": "nLMtKfJASob4",
        "outputId": "9944a6d5-0738-4477-c6e6-b662333700a9"
      },
      "execution_count": 59,
      "outputs": [
        {
          "output_type": "stream",
          "name": "stdout",
          "text": [
            "30\n"
          ]
        }
      ]
    },
    {
      "cell_type": "code",
      "source": [
        "# 29.4 함수에서 값을 여러 개 반환하기\n",
        "def add_sub(a, b):\n",
        "  return a + b, a - b\n",
        "x, y = add_sub(10, 20)\n",
        "print(x)\n",
        "print(y)"
      ],
      "metadata": {
        "colab": {
          "base_uri": "https://localhost:8080/"
        },
        "id": "tqEoK6CRSoeZ",
        "outputId": "b283ebd0-1f09-4b89-a3e0-6ee40b14effc"
      },
      "execution_count": 60,
      "outputs": [
        {
          "output_type": "stream",
          "name": "stdout",
          "text": [
            "30\n",
            "-10\n"
          ]
        }
      ]
    },
    {
      "cell_type": "code",
      "source": [
        "# 29.5 함수의 호출 과정 알아보기\n",
        "def mul(a, b):\n",
        "    c = a * b\n",
        "    return c\n",
        " \n",
        "def add(a, b):\n",
        "    c = a + b\n",
        "    print(c)\n",
        "    d = mul(a, b)\n",
        "    print(d)\n",
        " \n",
        "x = 10\n",
        "y = 20\n",
        "add(x, y)"
      ],
      "metadata": {
        "colab": {
          "base_uri": "https://localhost:8080/"
        },
        "id": "Frsym112Tmqs",
        "outputId": "40353c76-2c32-4cfa-c7b7-183a297a0e1a"
      },
      "execution_count": 61,
      "outputs": [
        {
          "output_type": "stream",
          "name": "stdout",
          "text": [
            "30\n",
            "200\n"
          ]
        }
      ]
    },
    {
      "cell_type": "markdown",
      "source": [
        "**Unit 30. 함수에서 위치 인수와 키워드 인수 사용하기**"
      ],
      "metadata": {
        "id": "IaF1J0ttWvh8"
      }
    },
    {
      "cell_type": "code",
      "source": [
        "# 30.1 위치 인수와 리스트 언패킹 사용하기\n",
        "print(10, 20, 30)\n",
        "\n",
        "# 30.1.1  위치 인수를 사용하는 함수를 만들고 호출하기\n",
        "def print_numbers(a, b, c):\n",
        "  print(a)\n",
        "  print(b)\n",
        "  print(c)\n",
        "print_numbers(10, 20, 30)"
      ],
      "metadata": {
        "colab": {
          "base_uri": "https://localhost:8080/"
        },
        "id": "Fp1gF7_wWw9Z",
        "outputId": "64c4836a-7d55-4757-c2fc-e3f9d5845d19"
      },
      "execution_count": 62,
      "outputs": [
        {
          "output_type": "stream",
          "name": "stdout",
          "text": [
            "10 20 30\n",
            "10\n",
            "20\n",
            "30\n"
          ]
        }
      ]
    },
    {
      "cell_type": "code",
      "source": [
        "# 30.1.2  언패킹 사용하기\n",
        "x = [10, 20, 30]\n",
        "print_numbers(*x)\n",
        "\n",
        "print_numbers(*[10, 20, 30])\n",
        "\n",
        "# 30.1.3  가변 인수 함수 만들기\n",
        "def print_numbers(*args):\n",
        "  for arg in args:\n",
        "    print(arg)\n",
        "print_numbers(10)"
      ],
      "metadata": {
        "colab": {
          "base_uri": "https://localhost:8080/"
        },
        "id": "MLNt3sBDWxAD",
        "outputId": "29715245-837d-49a1-95d1-238b67a41390"
      },
      "execution_count": 65,
      "outputs": [
        {
          "output_type": "stream",
          "name": "stdout",
          "text": [
            "10\n",
            "20\n",
            "30\n",
            "10\n",
            "20\n",
            "30\n",
            "10\n"
          ]
        }
      ]
    },
    {
      "cell_type": "code",
      "source": [
        "# 30.2 키워드 인수 사용하기\n",
        "def personal_info(name, age, address):\n",
        "  print('이름: ', name)\n",
        "  print('나이: ', age)\n",
        "  print('주소: ', address)\n",
        "personal_info('홍길동', 30, '서울시 용산구 이촌동')"
      ],
      "metadata": {
        "colab": {
          "base_uri": "https://localhost:8080/"
        },
        "id": "tzBVrUCyWxCc",
        "outputId": "89d8bf7e-1310-49a2-8fa0-c12c6a26d81a"
      },
      "execution_count": 66,
      "outputs": [
        {
          "output_type": "stream",
          "name": "stdout",
          "text": [
            "이름:  홍길동\n",
            "나이:  30\n",
            "주소:  서울시 용산구 이촌동\n"
          ]
        }
      ]
    },
    {
      "cell_type": "code",
      "source": [
        "# 30.3 키워드 인수와 딕셔너리 언패킹 사용하기\n",
        "def personal_info(name, age, address):\n",
        "  print('이름: ', name)\n",
        "  print('나이: ', age)\n",
        "  print('주소: ', address)\n",
        "x = {'name': '홍길동', 'age': 30, 'address': '서울시 용산구 이촌동'}\n",
        "personal_info(**x)\n",
        "\n",
        "# 30.3.1  **를 두 번 사용하는 이유\n",
        "x = {'name': '홍길동', 'age': 30, 'address': '서울시 용산구 이촌동'}\n",
        "personal_info(*x)\n",
        "personal_info(**x)\n",
        "\n",
        "# 30.3.2  키워드 인수를 사용하는 가변 인수 함수 만들기\n",
        "def personal_info(**kwargs):\n",
        "  for kw, arg in kwargs.items():\n",
        "    print(kw, ': ', arg, sep='')"
      ],
      "metadata": {
        "colab": {
          "base_uri": "https://localhost:8080/"
        },
        "id": "9z7W-tkqWxE0",
        "outputId": "01d1dde5-bb8b-4249-a7b9-7bb7660bd4c1"
      },
      "execution_count": 72,
      "outputs": [
        {
          "output_type": "stream",
          "name": "stdout",
          "text": [
            "이름:  홍길동\n",
            "나이:  30\n",
            "주소:  서울시 용산구 이촌동\n",
            "이름:  name\n",
            "나이:  age\n",
            "주소:  address\n",
            "이름:  홍길동\n",
            "나이:  30\n",
            "주소:  서울시 용산구 이촌동\n"
          ]
        }
      ]
    },
    {
      "cell_type": "code",
      "source": [
        "# 30.4 매개변수에 초깃값 지정하기\n",
        "def personal_info(name, age, address='비공개'):\n",
        "  print('이름: ', name)\n",
        "  print('나이: ', age)\n",
        "  print('주소: ', address)\n",
        "personal_info('홍길동', 30)"
      ],
      "metadata": {
        "colab": {
          "base_uri": "https://localhost:8080/"
        },
        "id": "Rx0BRs1zWxHK",
        "outputId": "15e2b555-bb7e-41e3-9f93-1703e745c8dc"
      },
      "execution_count": 71,
      "outputs": [
        {
          "output_type": "stream",
          "name": "stdout",
          "text": [
            "이름:  홍길동\n",
            "나이:  30\n",
            "주소:  비공개\n"
          ]
        }
      ]
    },
    {
      "cell_type": "markdown",
      "source": [
        "**Unit 31. 함수에서 재귀호출 사용하기**"
      ],
      "metadata": {
        "id": "ngbO6cTCaP4F"
      }
    },
    {
      "cell_type": "code",
      "source": [
        "# 31.1 재귀호출 사용하기\n",
        "def hello():\n",
        "    print('Hello, world!')\n",
        "    #hello()\n",
        "\n",
        "hello()"
      ],
      "metadata": {
        "colab": {
          "base_uri": "https://localhost:8080/"
        },
        "id": "8RLp5DWUWxJX",
        "outputId": "9789d557-9d50-40d8-9bd0-76fb31a9ce96"
      },
      "execution_count": 77,
      "outputs": [
        {
          "output_type": "stream",
          "name": "stdout",
          "text": [
            "Hello, world!\n"
          ]
        }
      ]
    },
    {
      "cell_type": "code",
      "source": [
        "# 31.1.1  재귀호출에 종료 조건 만들기\n",
        "def hello(count):\n",
        "    if count == 0:    # 종료 조건을 만듦. count가 0이면 다시 hello 함수를 호출하지 않고 끝냄\n",
        "        return\n",
        "    \n",
        "    print('Hello, world!', count)\n",
        "    \n",
        "    count -= 1      # count를 1 감소시킨 뒤\n",
        "    hello(count)    # 다시 hello에 넣음\n",
        " \n",
        "hello(5)    # hello 함수 호출"
      ],
      "metadata": {
        "colab": {
          "base_uri": "https://localhost:8080/"
        },
        "id": "mrjEoOaJaF5m",
        "outputId": "5f460468-b86c-4057-c62e-617b32e4ee96"
      },
      "execution_count": 78,
      "outputs": [
        {
          "output_type": "stream",
          "name": "stdout",
          "text": [
            "Hello, world! 5\n",
            "Hello, world! 4\n",
            "Hello, world! 3\n",
            "Hello, world! 2\n",
            "Hello, world! 1\n"
          ]
        }
      ]
    },
    {
      "cell_type": "code",
      "source": [
        "# 31.2 재귀호출로 팩토리얼 구하기\n",
        "def factorial(n):\n",
        "    if n == 1:      # n이 1일 때\n",
        "        return 1    # 1을 반환하고 재귀호출을 끝냄\n",
        "    return n * factorial(n - 1)    # n과 factorial 함수에 n - 1을 넣어서 반환된 값을 곱함\n",
        " \n",
        "print(factorial(5))\n",
        "\n",
        "def factorial(n):\n",
        "    if n == 1:      # n이 1일 때\n",
        "        return 1    # 1을 반환하고 재귀호출을 끝냄"
      ],
      "metadata": {
        "colab": {
          "base_uri": "https://localhost:8080/"
        },
        "id": "N_L6jowcaidz",
        "outputId": "76dc81fc-2510-42c4-9ba8-f6343a0ffec3"
      },
      "execution_count": 81,
      "outputs": [
        {
          "output_type": "stream",
          "name": "stdout",
          "text": [
            "120\n"
          ]
        }
      ]
    },
    {
      "cell_type": "markdown",
      "source": [
        "**Unit 32. 람다 표현식 사용하기**"
      ],
      "metadata": {
        "id": "O1CyBQa3hqpI"
      }
    },
    {
      "cell_type": "code",
      "source": [
        "# 32.1 람다 표현식으로 함수 만들기\n",
        "def plus_ten(x):\n",
        "  return x + 10\n",
        "plus_ten(1)"
      ],
      "metadata": {
        "colab": {
          "base_uri": "https://localhost:8080/"
        },
        "id": "A2wmPIDUaigY",
        "outputId": "ae3a3644-11da-4334-9988-eb08747e47d0"
      },
      "execution_count": 82,
      "outputs": [
        {
          "output_type": "execute_result",
          "data": {
            "text/plain": [
              "11"
            ]
          },
          "metadata": {},
          "execution_count": 82
        }
      ]
    },
    {
      "cell_type": "code",
      "source": [
        "lambda x: x + 10"
      ],
      "metadata": {
        "colab": {
          "base_uri": "https://localhost:8080/"
        },
        "id": "A3I9bYrtaiiv",
        "outputId": "fedaa629-74c2-4bea-e487-4f51fc8b896b"
      },
      "execution_count": 83,
      "outputs": [
        {
          "output_type": "execute_result",
          "data": {
            "text/plain": [
              "<function __main__.<lambda>(x)>"
            ]
          },
          "metadata": {},
          "execution_count": 83
        }
      ]
    },
    {
      "cell_type": "code",
      "source": [
        "plus_ten = lambda x: x + 10\n",
        "plus_ten(1)"
      ],
      "metadata": {
        "colab": {
          "base_uri": "https://localhost:8080/"
        },
        "id": "U5GaggsCailY",
        "outputId": "5e3e364e-9ce8-49a5-aa00-e1070b6332e8"
      },
      "execution_count": 84,
      "outputs": [
        {
          "output_type": "execute_result",
          "data": {
            "text/plain": [
              "11"
            ]
          },
          "metadata": {},
          "execution_count": 84
        }
      ]
    },
    {
      "cell_type": "code",
      "source": [
        "# 32.1.1  람다 표현식 자체를 호출하기\n",
        "(lambda x: x + 10)(1)\n",
        "\n",
        "# 32.1.2  람다 표현식 안에서는 변수를 만들 수 없다\n",
        "(lambda x: x + y)(1)\n",
        "\n",
        "# 32.1.3  람다 표현식을 인수로 사용하기\n",
        "def plus_ten(x):\n",
        "  return x + 10\n",
        "\n",
        "list(map(plus_ten, [1, 2, 3]))\n",
        "list(map(lambda x: x + 10, [1, 2, 3]))"
      ],
      "metadata": {
        "colab": {
          "base_uri": "https://localhost:8080/"
        },
        "id": "rzWVtpMUains",
        "outputId": "a065e993-9240-4693-fe03-4f3f0eea929c"
      },
      "execution_count": 88,
      "outputs": [
        {
          "output_type": "execute_result",
          "data": {
            "text/plain": [
              "[11, 12, 13]"
            ]
          },
          "metadata": {},
          "execution_count": 88
        }
      ]
    },
    {
      "cell_type": "markdown",
      "source": [
        "**Unit 32. 람다 표현식 사용하기**"
      ],
      "metadata": {
        "id": "DxHaDtuSm_er"
      }
    },
    {
      "cell_type": "code",
      "source": [
        "# 32.2 람다 표현식과 map, filter, reduce 함수 활용하기\n",
        "# 32.2.1  람다 표현식에 조건부 표현식 사용하기\n",
        "a = [1, 2, 3, 4, 5, 6, 7, 8, 9, 10]\n",
        "list(map(lambda x: str(x) if x % 3 == 0 else x, a))\n",
        "list(map(lambda x: str(x) if x % 3 == 0, a))\n",
        "a = [1, 2, 3, 4, 5, 6, 7, 8, 9, 10]\n",
        "list(map(lambda x: str(x) if x == 1 else float(x) if x == 2 else x + 10, a))"
      ],
      "metadata": {
        "colab": {
          "base_uri": "https://localhost:8080/"
        },
        "id": "yT7qcKbmaisn",
        "outputId": "ed4fb5c0-551d-4b31-f3e8-096870dabe5a"
      },
      "execution_count": 90,
      "outputs": [
        {
          "output_type": "execute_result",
          "data": {
            "text/plain": [
              "[1, 2, '3', 4, 5, '6', 7, 8, '9', 10]"
            ]
          },
          "metadata": {},
          "execution_count": 90
        }
      ]
    },
    {
      "cell_type": "code",
      "source": [
        "def f(x):\n",
        "  if x == 1:\n",
        "    return str(x)\n",
        "  elif x == 2:\n",
        "    return float(x)\n",
        "  else:\n",
        "    return x + 10\n",
        "\n",
        "a = [1, 2, 3, 4, 5, 6, 7, 8, 9, 10]\n",
        "list(map(f, a))"
      ],
      "metadata": {
        "colab": {
          "base_uri": "https://localhost:8080/"
        },
        "id": "mrdbrZwPWxLb",
        "outputId": "cc591828-7a46-4991-c7af-0aaad0dc5cc6"
      },
      "execution_count": 91,
      "outputs": [
        {
          "output_type": "execute_result",
          "data": {
            "text/plain": [
              "['1', 2.0, 13, 14, 15, 16, 17, 18, 19, 20]"
            ]
          },
          "metadata": {},
          "execution_count": 91
        }
      ]
    },
    {
      "cell_type": "code",
      "source": [
        "# 32.2.2  map에 객체를 여러 개 넣기\n",
        "a = [1, 2, 3, 4, 5]\n",
        "b = [2, 4, 6, 8, 10]\n",
        "list(map(lambda x, y: x * y, a, b))\n",
        "\n",
        "# 32.2.3  filter 사용하기\n",
        "def f(x):\n",
        "  return x > 5 and x < 10\n",
        "\n",
        "a = [8, 3, 2, 10, 15, 7, 1, 9, 0, 11]\n",
        "list(filter(f, a))"
      ],
      "metadata": {
        "colab": {
          "base_uri": "https://localhost:8080/"
        },
        "id": "oNnUfR6po3Z4",
        "outputId": "1d981445-0de2-4ac6-b837-cd369f128993"
      },
      "execution_count": 93,
      "outputs": [
        {
          "output_type": "execute_result",
          "data": {
            "text/plain": [
              "[8, 7, 9]"
            ]
          },
          "metadata": {},
          "execution_count": 93
        }
      ]
    },
    {
      "cell_type": "code",
      "source": [
        "# 32.2.4  reduce 사용하기\n",
        "def f(x, y):\n",
        "  return x + y\n",
        "\n",
        "a = [1, 2, 3, 4, 5]\n",
        "from functools import reduce\n",
        "reduce(f, a)"
      ],
      "metadata": {
        "colab": {
          "base_uri": "https://localhost:8080/"
        },
        "id": "c1WicWWro3ca",
        "outputId": "64fd9eb1-b4e5-4afe-a458-3e14d5cf2d35"
      },
      "execution_count": 95,
      "outputs": [
        {
          "output_type": "execute_result",
          "data": {
            "text/plain": [
              "15"
            ]
          },
          "metadata": {},
          "execution_count": 95
        }
      ]
    },
    {
      "cell_type": "markdown",
      "source": [
        "**Unit 33. 클로저 사용하기**"
      ],
      "metadata": {
        "id": "F5yUuRQgp10x"
      }
    },
    {
      "cell_type": "code",
      "source": [
        "# 33.1 변수의 사용 범위 알아보기\n",
        "x = 10          # 전역 변수\n",
        "def foo():\n",
        "    print(x)    # 전역 변수 출력\n",
        " \n",
        "foo()\n",
        "print(x)        # 전역 변수 출력"
      ],
      "metadata": {
        "colab": {
          "base_uri": "https://localhost:8080/"
        },
        "id": "gox7ndJvo3ew",
        "outputId": "a8e8ff88-6594-4027-c733-f2f3d008cf0a"
      },
      "execution_count": 96,
      "outputs": [
        {
          "output_type": "stream",
          "name": "stdout",
          "text": [
            "10\n",
            "10\n"
          ]
        }
      ]
    },
    {
      "cell_type": "code",
      "source": [
        "# 33.1.1  함수 안에서 전역 변수 변경하기\n",
        "x = 10          # 전역 변수\n",
        "def foo():\n",
        "    x = 20      # x는 foo의 지역 변수\n",
        "    print(x)    # foo의 지역 변수 출력\n",
        " \n",
        "foo()\n",
        "print(x)        # 전역 변수 출력"
      ],
      "metadata": {
        "colab": {
          "base_uri": "https://localhost:8080/"
        },
        "id": "oP40HUmDo3hG",
        "outputId": "dd7c14a7-7c87-421a-cb33-a748f0121ade"
      },
      "execution_count": 97,
      "outputs": [
        {
          "output_type": "stream",
          "name": "stdout",
          "text": [
            "20\n",
            "10\n"
          ]
        }
      ]
    },
    {
      "cell_type": "code",
      "source": [
        "x = 10          # 전역 변수\n",
        "def foo():\n",
        "    global x    # 전역 변수 x를 사용하겠다고 설정\n",
        "    x = 20      # x는 전역 변수\n",
        "    print(x)    # 전역 변수 출력\n",
        " \n",
        "foo()\n",
        "print(x)        # 전역 변수 출력"
      ],
      "metadata": {
        "colab": {
          "base_uri": "https://localhost:8080/"
        },
        "id": "VDigBTJQo3je",
        "outputId": "947f414b-df4f-4bb7-9f92-784342d93731"
      },
      "execution_count": 98,
      "outputs": [
        {
          "output_type": "stream",
          "name": "stdout",
          "text": [
            "20\n",
            "20\n"
          ]
        }
      ]
    },
    {
      "cell_type": "code",
      "source": [
        "# 전역 변수 x가 없는 상태\n",
        "def foo():\n",
        "    global x    # x를 전역 변수로 만듦\n",
        "    x = 20      # x는 전역 변수\n",
        "    print(x)    # 전역 변수 출력\n",
        " \n",
        "foo()\n",
        "print(x)        # 전역 변수 출력"
      ],
      "metadata": {
        "colab": {
          "base_uri": "https://localhost:8080/"
        },
        "id": "ycrLE9x3o3l2",
        "outputId": "16060602-4115-4419-bd5a-b89c054000e2"
      },
      "execution_count": 99,
      "outputs": [
        {
          "output_type": "stream",
          "name": "stdout",
          "text": [
            "20\n",
            "20\n"
          ]
        }
      ]
    },
    {
      "cell_type": "code",
      "source": [
        "# 33.2 함수 안에서 함수 만들기\n",
        "def print_hello():\n",
        "    hello = 'Hello, world!'\n",
        "    def print_message():\n",
        "        print(hello)\n",
        "    print_message()\n",
        " \n",
        "print_hello()"
      ],
      "metadata": {
        "colab": {
          "base_uri": "https://localhost:8080/"
        },
        "id": "4V6plbaKo3oa",
        "outputId": "d667c329-5bc3-4a3a-e36e-a154b904f1ad"
      },
      "execution_count": 100,
      "outputs": [
        {
          "output_type": "stream",
          "name": "stdout",
          "text": [
            "Hello, world!\n"
          ]
        }
      ]
    },
    {
      "cell_type": "code",
      "source": [
        "# 33.2.1  지역 변수의 범위\n",
        "def print_hello():\n",
        "    hello = 'Hello, world!'\n",
        "    def print_message():\n",
        "        print(hello)    # 바깥쪽 함수의 지역 변수를 사용"
      ],
      "metadata": {
        "id": "C24PPOCkt5V9"
      },
      "execution_count": 101,
      "outputs": []
    },
    {
      "cell_type": "code",
      "source": [
        "# 33.2.2  지역 변수 변경하기\n",
        "def A():\n",
        "    x = 10        # A의 지역 변수 x\n",
        "    def B():\n",
        "        x = 20    # x에 20 할당\n",
        " \n",
        "    B()\n",
        "    print(x)      # A의 지역 변수 x 출력\n",
        " \n",
        "A()"
      ],
      "metadata": {
        "colab": {
          "base_uri": "https://localhost:8080/"
        },
        "id": "GTHiH820t5Y1",
        "outputId": "4b352eab-3322-474e-a9bb-49b417f3ccb9"
      },
      "execution_count": 102,
      "outputs": [
        {
          "output_type": "stream",
          "name": "stdout",
          "text": [
            "10\n"
          ]
        }
      ]
    },
    {
      "cell_type": "code",
      "source": [
        "def A():\n",
        "    x = 10        # A의 지역 변수 x\n",
        "    def B():\n",
        "        x = 20    # B의 지역 변수 x를 새로 만듦"
      ],
      "metadata": {
        "id": "gybNdfXYt5bF"
      },
      "execution_count": 103,
      "outputs": []
    },
    {
      "cell_type": "code",
      "source": [
        "def A():\n",
        "    x = 10        # A의 지역 변수 x\n",
        "    def B():\n",
        "        nonlocal x    # 현재 함수의 바깥쪽에 있는 지역 변수 사용\n",
        "        x = 20        # A의 지역 변수 x에 20 할당\n",
        " \n",
        "    B()\n",
        "    print(x)      # A의 지역 변수 x 출력\n",
        " \n",
        "A()"
      ],
      "metadata": {
        "colab": {
          "base_uri": "https://localhost:8080/"
        },
        "id": "c52Obk_Pt5dm",
        "outputId": "4a7db6b2-5a73-4f3e-abd9-cb9aee84d283"
      },
      "execution_count": 104,
      "outputs": [
        {
          "output_type": "stream",
          "name": "stdout",
          "text": [
            "20\n"
          ]
        }
      ]
    },
    {
      "cell_type": "code",
      "source": [
        "# 33.2.3  nonlocal이 변수를 찾는 순서\n",
        "def A():\n",
        "    x = 10\n",
        "    y = 100\n",
        "    def B():\n",
        "        x = 20\n",
        "        def C():\n",
        "            nonlocal x\n",
        "            nonlocal y\n",
        "            x = x + 30\n",
        "            y = y + 300\n",
        "            print(x)\n",
        "            print(y)\n",
        "        C()\n",
        "    B()\n",
        " \n",
        "A()"
      ],
      "metadata": {
        "colab": {
          "base_uri": "https://localhost:8080/"
        },
        "id": "f7vPgwxFt5gF",
        "outputId": "7f325184-85d9-47f6-fa32-511542508154"
      },
      "execution_count": 105,
      "outputs": [
        {
          "output_type": "stream",
          "name": "stdout",
          "text": [
            "50\n",
            "400\n"
          ]
        }
      ]
    },
    {
      "cell_type": "code",
      "source": [
        "# 33.2.4  global로 전역 변수 사용하기\n",
        "x = 1\n",
        "def A():\n",
        "    x = 10\n",
        "    def B():\n",
        "        x = 20\n",
        "        def C():\n",
        "            global x\n",
        "            x = x + 30\n",
        "            print(x)\n",
        "        C()\n",
        "    B()\n",
        " \n",
        "A()"
      ],
      "metadata": {
        "colab": {
          "base_uri": "https://localhost:8080/"
        },
        "id": "mMJMmxAst5ix",
        "outputId": "c4431773-a770-494d-8916-4d5a0698aa34"
      },
      "execution_count": 106,
      "outputs": [
        {
          "output_type": "stream",
          "name": "stdout",
          "text": [
            "31\n"
          ]
        }
      ]
    },
    {
      "cell_type": "code",
      "source": [
        "# 33.3 클로저 사용하기\n",
        "def calc():\n",
        "    a = 3\n",
        "    b = 5\n",
        "    def mul_add(x):\n",
        "        return a * x + b    # 함수 바깥쪽에 있는 지역 변수 a, b를 사용하여 계산\n",
        "    return mul_add          # mul_add 함수를 반환\n",
        " \n",
        "c = calc()\n",
        "print(c(1), c(2), c(3), c(4), c(5))"
      ],
      "metadata": {
        "colab": {
          "base_uri": "https://localhost:8080/"
        },
        "id": "3dRQYrAFuv0R",
        "outputId": "49880dab-28ed-4c45-fb31-ef88ed6ea38c"
      },
      "execution_count": 107,
      "outputs": [
        {
          "output_type": "stream",
          "name": "stdout",
          "text": [
            "8 11 14 17 20\n"
          ]
        }
      ]
    },
    {
      "cell_type": "code",
      "source": [
        "def calc():\n",
        "    a = 3\n",
        "    b = 5\n",
        "    def mul_add(x):\n",
        "        return a * x + b    # 함수 바깥쪽에 있는 지역 변수 a, b를 사용하여 계산"
      ],
      "metadata": {
        "id": "_AbjVQFQuv3A"
      },
      "execution_count": 108,
      "outputs": []
    },
    {
      "cell_type": "code",
      "source": [
        "# 33.3.2  클로저의 지역 변수 변경하기\n",
        "def calc():\n",
        "    a = 3\n",
        "    b = 5\n",
        "    total = 0\n",
        "    def mul_add(x):\n",
        "        nonlocal total\n",
        "        total = total + a * x + b\n",
        "        print(total)\n",
        "    return mul_add\n",
        " \n",
        "c = calc()\n",
        "c(1)\n",
        "c(2)\n",
        "c(3)"
      ],
      "metadata": {
        "colab": {
          "base_uri": "https://localhost:8080/"
        },
        "id": "mExffgyNuv5c",
        "outputId": "c3791e33-7045-4d6c-b7f1-065fe4d9b0f5"
      },
      "execution_count": 109,
      "outputs": [
        {
          "output_type": "stream",
          "name": "stdout",
          "text": [
            "8\n",
            "19\n",
            "33\n"
          ]
        }
      ]
    },
    {
      "cell_type": "code",
      "source": [],
      "metadata": {
        "id": "1C1u3iLHuv7-"
      },
      "execution_count": null,
      "outputs": []
    },
    {
      "cell_type": "code",
      "source": [],
      "metadata": {
        "id": "UzRODPUjuv-p"
      },
      "execution_count": null,
      "outputs": []
    },
    {
      "cell_type": "code",
      "source": [],
      "metadata": {
        "id": "lE7Jx31euwBN"
      },
      "execution_count": null,
      "outputs": []
    },
    {
      "cell_type": "code",
      "source": [],
      "metadata": {
        "id": "_NBuxL9auwDd"
      },
      "execution_count": null,
      "outputs": []
    }
  ]
}