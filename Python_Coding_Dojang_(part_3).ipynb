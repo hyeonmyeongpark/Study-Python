{
  "nbformat": 4,
  "nbformat_minor": 0,
  "metadata": {
    "colab": {
      "provenance": [],
      "authorship_tag": "ABX9TyPT6L6n1VxpjU4/iPwnf6DU",
      "include_colab_link": true
    },
    "kernelspec": {
      "name": "python3",
      "display_name": "Python 3"
    },
    "language_info": {
      "name": "python"
    }
  },
  "cells": [
    {
      "cell_type": "markdown",
      "metadata": {
        "id": "view-in-github",
        "colab_type": "text"
      },
      "source": [
        "<a href=\"https://colab.research.google.com/github/hyeonmyeongpark/Study-Python/blob/main/Python_Coding_Dojang_(part_3).ipynb\" target=\"_parent\"><img src=\"https://colab.research.google.com/assets/colab-badge.svg\" alt=\"Open In Colab\"/></a>"
      ]
    },
    {
      "cell_type": "markdown",
      "source": [
        "**Unit 20. FizzBuzz 문제**"
      ],
      "metadata": {
        "id": "dEZVik70LTYm"
      }
    },
    {
      "cell_type": "code",
      "execution_count": 3,
      "metadata": {
        "colab": {
          "base_uri": "https://localhost:8080/"
        },
        "id": "Nk5X-7HwJ-zJ",
        "outputId": "d76b04b4-e1e2-480e-865d-d21602f117ef"
      },
      "outputs": [
        {
          "output_type": "stream",
          "name": "stdout",
          "text": [
            "1\n",
            "2\n",
            "3\n",
            "4\n",
            "5\n",
            "6\n",
            "7\n",
            "8\n",
            "9\n",
            "1\n",
            "2\n",
            "Fizz\n",
            "4\n",
            "Buzz\n",
            "Fizz\n",
            "7\n",
            "8\n",
            "Fizz\n",
            "Buzz\n",
            "11\n",
            "Fizz\n",
            "13\n",
            "14\n",
            "Fizz\n",
            "16\n",
            "17\n",
            "Fizz\n",
            "19\n",
            "Buzz\n",
            "Fizz\n",
            "22\n",
            "23\n",
            "Fizz\n",
            "Buzz\n",
            "26\n",
            "Fizz\n",
            "28\n",
            "29\n",
            "Fizz\n",
            "31\n",
            "32\n",
            "Fizz\n",
            "34\n",
            "Buzz\n",
            "Fizz\n",
            "37\n",
            "38\n",
            "Fizz\n",
            "Buzz\n",
            "41\n",
            "Fizz\n",
            "43\n",
            "44\n",
            "Fizz\n",
            "46\n",
            "47\n",
            "Fizz\n",
            "49\n",
            "Buzz\n",
            "Fizz\n",
            "52\n",
            "53\n",
            "Fizz\n",
            "Buzz\n",
            "56\n",
            "Fizz\n",
            "58\n",
            "59\n",
            "Fizz\n",
            "61\n",
            "62\n",
            "Fizz\n",
            "64\n",
            "Buzz\n",
            "Fizz\n",
            "67\n",
            "68\n",
            "Fizz\n",
            "Buzz\n",
            "71\n",
            "Fizz\n",
            "73\n",
            "74\n",
            "Fizz\n",
            "76\n",
            "77\n",
            "Fizz\n",
            "79\n",
            "Buzz\n",
            "Fizz\n",
            "82\n",
            "83\n",
            "Fizz\n",
            "Buzz\n",
            "86\n",
            "Fizz\n",
            "88\n",
            "89\n",
            "Fizz\n",
            "91\n",
            "92\n",
            "Fizz\n",
            "94\n",
            "Buzz\n",
            "Fizz\n",
            "97\n",
            "98\n",
            "Fizz\n",
            "Buzz\n"
          ]
        }
      ],
      "source": [
        "# 20.1 1부터 10까지 숫자 출력하기\n",
        "for i in range(1, 10):    # 1부터 100까지 100번 반복\n",
        "    print(i)\n",
        "\n",
        "# 20.2 3의 배수일 때와 5의 배수일 때 처리하기\n",
        "for i in range(1, 101):\n",
        "  if i % 3 == 0:\n",
        "    print('Fizz')\n",
        "  elif i % 5 == 0:\n",
        "    print('Buzz')\n",
        "  else:\n",
        "    print(i)"
      ]
    },
    {
      "cell_type": "markdown",
      "source": [
        "**Unit 21. 터틀 그래픽스로 그림 그리기**"
      ],
      "metadata": {
        "id": "UjyNbBKfikFY"
      }
    },
    {
      "cell_type": "code",
      "source": [
        "# 21.1 사각형 그리기\n",
        "import turtle as t\n",
        "t.shape('turtle')"
      ],
      "metadata": {
        "colab": {
          "base_uri": "https://localhost:8080/",
          "height": 359
        },
        "id": "ymQnWdedin0O",
        "outputId": "dfc5f2c5-1a14-46c7-c7ca-67f69877a777"
      },
      "execution_count": 26,
      "outputs": [
        {
          "output_type": "error",
          "ename": "TclError",
          "evalue": "ignored",
          "traceback": [
            "\u001b[0;31m---------------------------------------------------------------------------\u001b[0m",
            "\u001b[0;31mTclError\u001b[0m                                  Traceback (most recent call last)",
            "\u001b[0;32m<ipython-input-26-1bb37930c35b>\u001b[0m in \u001b[0;36m<module>\u001b[0;34m\u001b[0m\n\u001b[1;32m      1\u001b[0m \u001b[0;31m# 21.1 사각형 그리기\u001b[0m\u001b[0;34m\u001b[0m\u001b[0;34m\u001b[0m\u001b[0;34m\u001b[0m\u001b[0m\n\u001b[1;32m      2\u001b[0m \u001b[0;32mimport\u001b[0m \u001b[0mturtle\u001b[0m \u001b[0;32mas\u001b[0m \u001b[0mt\u001b[0m\u001b[0;34m\u001b[0m\u001b[0;34m\u001b[0m\u001b[0m\n\u001b[0;32m----> 3\u001b[0;31m \u001b[0mt\u001b[0m\u001b[0;34m.\u001b[0m\u001b[0mshape\u001b[0m\u001b[0;34m(\u001b[0m\u001b[0;34m'turtle'\u001b[0m\u001b[0;34m)\u001b[0m\u001b[0;34m\u001b[0m\u001b[0;34m\u001b[0m\u001b[0m\n\u001b[0m",
            "\u001b[0;32m/usr/lib/python3.8/turtle.py\u001b[0m in \u001b[0;36mshape\u001b[0;34m(name)\u001b[0m\n",
            "\u001b[0;32m/usr/lib/python3.8/turtle.py\u001b[0m in \u001b[0;36m__init__\u001b[0;34m(self, shape, undobuffersize, visible)\u001b[0m\n\u001b[1;32m   3811\u001b[0m                  visible=_CFG[\"visible\"]):\n\u001b[1;32m   3812\u001b[0m         \u001b[0;32mif\u001b[0m \u001b[0mTurtle\u001b[0m\u001b[0;34m.\u001b[0m\u001b[0m_screen\u001b[0m \u001b[0;32mis\u001b[0m \u001b[0;32mNone\u001b[0m\u001b[0;34m:\u001b[0m\u001b[0;34m\u001b[0m\u001b[0;34m\u001b[0m\u001b[0m\n\u001b[0;32m-> 3813\u001b[0;31m             \u001b[0mTurtle\u001b[0m\u001b[0;34m.\u001b[0m\u001b[0m_screen\u001b[0m \u001b[0;34m=\u001b[0m \u001b[0mScreen\u001b[0m\u001b[0;34m(\u001b[0m\u001b[0;34m)\u001b[0m\u001b[0;34m\u001b[0m\u001b[0;34m\u001b[0m\u001b[0m\n\u001b[0m\u001b[1;32m   3814\u001b[0m         RawTurtle.__init__(self, Turtle._screen,\n\u001b[1;32m   3815\u001b[0m                            \u001b[0mshape\u001b[0m\u001b[0;34m=\u001b[0m\u001b[0mshape\u001b[0m\u001b[0;34m,\u001b[0m\u001b[0;34m\u001b[0m\u001b[0;34m\u001b[0m\u001b[0m\n",
            "\u001b[0;32m/usr/lib/python3.8/turtle.py\u001b[0m in \u001b[0;36mScreen\u001b[0;34m()\u001b[0m\n\u001b[1;32m   3661\u001b[0m     else return the existing one.\"\"\"\n\u001b[1;32m   3662\u001b[0m     \u001b[0;32mif\u001b[0m \u001b[0mTurtle\u001b[0m\u001b[0;34m.\u001b[0m\u001b[0m_screen\u001b[0m \u001b[0;32mis\u001b[0m \u001b[0;32mNone\u001b[0m\u001b[0;34m:\u001b[0m\u001b[0;34m\u001b[0m\u001b[0;34m\u001b[0m\u001b[0m\n\u001b[0;32m-> 3663\u001b[0;31m         \u001b[0mTurtle\u001b[0m\u001b[0;34m.\u001b[0m\u001b[0m_screen\u001b[0m \u001b[0;34m=\u001b[0m \u001b[0m_Screen\u001b[0m\u001b[0;34m(\u001b[0m\u001b[0;34m)\u001b[0m\u001b[0;34m\u001b[0m\u001b[0;34m\u001b[0m\u001b[0m\n\u001b[0m\u001b[1;32m   3664\u001b[0m     \u001b[0;32mreturn\u001b[0m \u001b[0mTurtle\u001b[0m\u001b[0;34m.\u001b[0m\u001b[0m_screen\u001b[0m\u001b[0;34m\u001b[0m\u001b[0;34m\u001b[0m\u001b[0m\n\u001b[1;32m   3665\u001b[0m \u001b[0;34m\u001b[0m\u001b[0m\n",
            "\u001b[0;32m/usr/lib/python3.8/turtle.py\u001b[0m in \u001b[0;36m__init__\u001b[0;34m(self)\u001b[0m\n\u001b[1;32m   3677\u001b[0m         \u001b[0;31m# preserved (perhaps by passing it as an optional parameter)\u001b[0m\u001b[0;34m\u001b[0m\u001b[0;34m\u001b[0m\u001b[0;34m\u001b[0m\u001b[0m\n\u001b[1;32m   3678\u001b[0m         \u001b[0;32mif\u001b[0m \u001b[0m_Screen\u001b[0m\u001b[0;34m.\u001b[0m\u001b[0m_root\u001b[0m \u001b[0;32mis\u001b[0m \u001b[0;32mNone\u001b[0m\u001b[0;34m:\u001b[0m\u001b[0;34m\u001b[0m\u001b[0;34m\u001b[0m\u001b[0m\n\u001b[0;32m-> 3679\u001b[0;31m             \u001b[0m_Screen\u001b[0m\u001b[0;34m.\u001b[0m\u001b[0m_root\u001b[0m \u001b[0;34m=\u001b[0m \u001b[0mself\u001b[0m\u001b[0;34m.\u001b[0m\u001b[0m_root\u001b[0m \u001b[0;34m=\u001b[0m \u001b[0m_Root\u001b[0m\u001b[0;34m(\u001b[0m\u001b[0;34m)\u001b[0m\u001b[0;34m\u001b[0m\u001b[0;34m\u001b[0m\u001b[0m\n\u001b[0m\u001b[1;32m   3680\u001b[0m             \u001b[0mself\u001b[0m\u001b[0;34m.\u001b[0m\u001b[0m_root\u001b[0m\u001b[0;34m.\u001b[0m\u001b[0mtitle\u001b[0m\u001b[0;34m(\u001b[0m\u001b[0m_Screen\u001b[0m\u001b[0;34m.\u001b[0m\u001b[0m_title\u001b[0m\u001b[0;34m)\u001b[0m\u001b[0;34m\u001b[0m\u001b[0;34m\u001b[0m\u001b[0m\n\u001b[1;32m   3681\u001b[0m             \u001b[0mself\u001b[0m\u001b[0;34m.\u001b[0m\u001b[0m_root\u001b[0m\u001b[0;34m.\u001b[0m\u001b[0mondestroy\u001b[0m\u001b[0;34m(\u001b[0m\u001b[0mself\u001b[0m\u001b[0;34m.\u001b[0m\u001b[0m_destroy\u001b[0m\u001b[0;34m)\u001b[0m\u001b[0;34m\u001b[0m\u001b[0;34m\u001b[0m\u001b[0m\n",
            "\u001b[0;32m/usr/lib/python3.8/turtle.py\u001b[0m in \u001b[0;36m__init__\u001b[0;34m(self)\u001b[0m\n\u001b[1;32m    433\u001b[0m     \u001b[0;34m\"\"\"Root class for Screen based on Tkinter.\"\"\"\u001b[0m\u001b[0;34m\u001b[0m\u001b[0;34m\u001b[0m\u001b[0m\n\u001b[1;32m    434\u001b[0m     \u001b[0;32mdef\u001b[0m \u001b[0m__init__\u001b[0m\u001b[0;34m(\u001b[0m\u001b[0mself\u001b[0m\u001b[0;34m)\u001b[0m\u001b[0;34m:\u001b[0m\u001b[0;34m\u001b[0m\u001b[0;34m\u001b[0m\u001b[0m\n\u001b[0;32m--> 435\u001b[0;31m         \u001b[0mTK\u001b[0m\u001b[0;34m.\u001b[0m\u001b[0mTk\u001b[0m\u001b[0;34m.\u001b[0m\u001b[0m__init__\u001b[0m\u001b[0;34m(\u001b[0m\u001b[0mself\u001b[0m\u001b[0;34m)\u001b[0m\u001b[0;34m\u001b[0m\u001b[0;34m\u001b[0m\u001b[0m\n\u001b[0m\u001b[1;32m    436\u001b[0m \u001b[0;34m\u001b[0m\u001b[0m\n\u001b[1;32m    437\u001b[0m     \u001b[0;32mdef\u001b[0m \u001b[0msetupcanvas\u001b[0m\u001b[0;34m(\u001b[0m\u001b[0mself\u001b[0m\u001b[0;34m,\u001b[0m \u001b[0mwidth\u001b[0m\u001b[0;34m,\u001b[0m \u001b[0mheight\u001b[0m\u001b[0;34m,\u001b[0m \u001b[0mcwidth\u001b[0m\u001b[0;34m,\u001b[0m \u001b[0mcheight\u001b[0m\u001b[0;34m)\u001b[0m\u001b[0;34m:\u001b[0m\u001b[0;34m\u001b[0m\u001b[0;34m\u001b[0m\u001b[0m\n",
            "\u001b[0;32m/usr/lib/python3.8/tkinter/__init__.py\u001b[0m in \u001b[0;36m__init__\u001b[0;34m(self, screenName, baseName, className, useTk, sync, use)\u001b[0m\n\u001b[1;32m   2259\u001b[0m                 \u001b[0mbaseName\u001b[0m \u001b[0;34m=\u001b[0m \u001b[0mbaseName\u001b[0m \u001b[0;34m+\u001b[0m \u001b[0mext\u001b[0m\u001b[0;34m\u001b[0m\u001b[0;34m\u001b[0m\u001b[0m\n\u001b[1;32m   2260\u001b[0m         \u001b[0minteractive\u001b[0m \u001b[0;34m=\u001b[0m \u001b[0;36m0\u001b[0m\u001b[0;34m\u001b[0m\u001b[0;34m\u001b[0m\u001b[0m\n\u001b[0;32m-> 2261\u001b[0;31m         \u001b[0mself\u001b[0m\u001b[0;34m.\u001b[0m\u001b[0mtk\u001b[0m \u001b[0;34m=\u001b[0m \u001b[0m_tkinter\u001b[0m\u001b[0;34m.\u001b[0m\u001b[0mcreate\u001b[0m\u001b[0;34m(\u001b[0m\u001b[0mscreenName\u001b[0m\u001b[0;34m,\u001b[0m \u001b[0mbaseName\u001b[0m\u001b[0;34m,\u001b[0m \u001b[0mclassName\u001b[0m\u001b[0;34m,\u001b[0m \u001b[0minteractive\u001b[0m\u001b[0;34m,\u001b[0m \u001b[0mwantobjects\u001b[0m\u001b[0;34m,\u001b[0m \u001b[0museTk\u001b[0m\u001b[0;34m,\u001b[0m \u001b[0msync\u001b[0m\u001b[0;34m,\u001b[0m \u001b[0muse\u001b[0m\u001b[0;34m)\u001b[0m\u001b[0;34m\u001b[0m\u001b[0;34m\u001b[0m\u001b[0m\n\u001b[0m\u001b[1;32m   2262\u001b[0m         \u001b[0;32mif\u001b[0m \u001b[0museTk\u001b[0m\u001b[0;34m:\u001b[0m\u001b[0;34m\u001b[0m\u001b[0;34m\u001b[0m\u001b[0m\n\u001b[1;32m   2263\u001b[0m             \u001b[0mself\u001b[0m\u001b[0;34m.\u001b[0m\u001b[0m_loadtk\u001b[0m\u001b[0;34m(\u001b[0m\u001b[0;34m)\u001b[0m\u001b[0;34m\u001b[0m\u001b[0;34m\u001b[0m\u001b[0m\n",
            "\u001b[0;31mTclError\u001b[0m: no display name and no $DISPLAY environment variable"
          ]
        }
      ]
    },
    {
      "cell_type": "code",
      "source": [],
      "metadata": {
        "id": "zAKQwhN5in23"
      },
      "execution_count": null,
      "outputs": []
    },
    {
      "cell_type": "code",
      "source": [],
      "metadata": {
        "id": "hJVYQ6Kvin5E"
      },
      "execution_count": null,
      "outputs": []
    },
    {
      "cell_type": "code",
      "source": [],
      "metadata": {
        "id": "pq62ZVxPin7d"
      },
      "execution_count": null,
      "outputs": []
    },
    {
      "cell_type": "code",
      "source": [],
      "metadata": {
        "id": "k3n00qj-in-A"
      },
      "execution_count": null,
      "outputs": []
    },
    {
      "cell_type": "code",
      "source": [],
      "metadata": {
        "id": "nuej52xOioAT"
      },
      "execution_count": null,
      "outputs": []
    },
    {
      "cell_type": "code",
      "source": [],
      "metadata": {
        "id": "vhaktzBnioCl"
      },
      "execution_count": null,
      "outputs": []
    },
    {
      "cell_type": "code",
      "source": [],
      "metadata": {
        "id": "TOQNbEiRioFE"
      },
      "execution_count": null,
      "outputs": []
    },
    {
      "cell_type": "markdown",
      "source": [
        "**Unit 22. 리스트와 튜플 응용하기**"
      ],
      "metadata": {
        "id": "giaKl1Y4RuWL"
      }
    },
    {
      "cell_type": "code",
      "source": [
        "# 22.1.2  리스트에 요소 하나 추가하기\n",
        "a = [10, 20, 30]\n",
        "a.append(500)\n",
        "print(a)\n",
        "print(len(a))"
      ],
      "metadata": {
        "colab": {
          "base_uri": "https://localhost:8080/"
        },
        "id": "41VLukrWQR-9",
        "outputId": "8829af0a-e37a-4aa9-9070-06e58017d82a"
      },
      "execution_count": 7,
      "outputs": [
        {
          "output_type": "stream",
          "name": "stdout",
          "text": [
            "[10, 20, 30, 500]\n",
            "4\n"
          ]
        }
      ]
    },
    {
      "cell_type": "code",
      "source": [
        "a = []\n",
        "a.append(10)\n",
        "print(a)"
      ],
      "metadata": {
        "colab": {
          "base_uri": "https://localhost:8080/"
        },
        "id": "SdA9yY4aQSBh",
        "outputId": "890b8c91-881e-42c8-d3a6-c5b022279ac4"
      },
      "execution_count": 8,
      "outputs": [
        {
          "output_type": "stream",
          "name": "stdout",
          "text": [
            "[10]\n"
          ]
        }
      ]
    },
    {
      "cell_type": "code",
      "source": [
        "# 22.1.3  리스트 안에 리스트 추가하기\n",
        "a = [10,20,30]\n",
        "a.append([500, 600])\n",
        "print(a)\n",
        "\n",
        "# 22.1.4  리스트 확장하기\n",
        "a = [10, 20, 30]\n",
        "a.extend([500, 600])\n",
        "print(a)"
      ],
      "metadata": {
        "colab": {
          "base_uri": "https://localhost:8080/"
        },
        "id": "cVufdsBHQSDr",
        "outputId": "9b69bc54-8cb5-4091-e192-4a8118cc3919"
      },
      "execution_count": 10,
      "outputs": [
        {
          "output_type": "stream",
          "name": "stdout",
          "text": [
            "[10, 20, 30, [500, 600]]\n",
            "[10, 20, 30, 500, 600]\n"
          ]
        }
      ]
    },
    {
      "cell_type": "code",
      "source": [
        "# 22.2 리스트의 할당과 복사 알아보기\n",
        "a = [0, 0, 0, 0, 0]\n",
        "b = a\n",
        "print(a is b)\n",
        "b[2] = 99\n",
        "print(a)\n",
        "print(b)"
      ],
      "metadata": {
        "colab": {
          "base_uri": "https://localhost:8080/"
        },
        "id": "FaLP-42gQSGK",
        "outputId": "3e16156b-ced9-4d6e-b0bc-84716f8f7d7d"
      },
      "execution_count": 13,
      "outputs": [
        {
          "output_type": "stream",
          "name": "stdout",
          "text": [
            "True\n",
            "[0, 0, 99, 0, 0]\n",
            "[0, 0, 99, 0, 0]\n"
          ]
        }
      ]
    },
    {
      "cell_type": "code",
      "source": [
        "a = [0, 0, 0, 0, 0]\n",
        "b = a.copy()\n",
        "print(a is b)\n",
        "print(a == b)"
      ],
      "metadata": {
        "colab": {
          "base_uri": "https://localhost:8080/"
        },
        "id": "_g0J6PJfQSIg",
        "outputId": "f4f7a195-eb50-4fd7-ab7b-f6ac4b3a061e"
      },
      "execution_count": 17,
      "outputs": [
        {
          "output_type": "stream",
          "name": "stdout",
          "text": [
            "False\n",
            "True\n"
          ]
        }
      ]
    },
    {
      "cell_type": "code",
      "source": [
        "# 22.3 반복문으로 리스트의 요소를 모두 출력하기\n",
        "# 22.3.1  for 반복문으로 요소 출력하기\n",
        "a = [38, 21, 53, 62, 19]\n",
        "for i in a:\n",
        "  print(i)\n",
        "for i in [38, 21, 53, 62, 19]:\n",
        "    print(i)"
      ],
      "metadata": {
        "colab": {
          "base_uri": "https://localhost:8080/"
        },
        "id": "FegFJfHyQSKz",
        "outputId": "b46fbe64-2cb8-4b2e-c0b9-be07a0de824c"
      },
      "execution_count": 19,
      "outputs": [
        {
          "output_type": "stream",
          "name": "stdout",
          "text": [
            "38\n",
            "21\n",
            "53\n",
            "62\n",
            "19\n",
            "38\n",
            "21\n",
            "53\n",
            "62\n",
            "19\n"
          ]
        }
      ]
    },
    {
      "cell_type": "code",
      "source": [
        "# 22.3.2  인덱스와 요소를 함께 출력하기\n",
        "# for 인덱스, 요소 in enumerate(리스트):\n",
        "\n",
        "a = [38, 21, 53, 62, 19]\n",
        "for index, value in enumerate(a):\n",
        "  print(index, value)\n",
        "\n",
        "# for 인덱스, 요소 in enumerate(리스트, start=숫자):\n",
        "for index, value in enumerate(a, start=1):\n",
        "  print(index, value)"
      ],
      "metadata": {
        "colab": {
          "base_uri": "https://localhost:8080/"
        },
        "id": "Y-ft82RbQSNC",
        "outputId": "1080015a-5cf2-4beb-dda7-6b69bf257def"
      },
      "execution_count": 22,
      "outputs": [
        {
          "output_type": "stream",
          "name": "stdout",
          "text": [
            "0 38\n",
            "1 21\n",
            "2 53\n",
            "3 62\n",
            "4 19\n",
            "1 38\n",
            "2 21\n",
            "3 53\n",
            "4 62\n",
            "5 19\n"
          ]
        }
      ]
    },
    {
      "cell_type": "code",
      "source": [
        "#  for 반복문에서 인덱스로 요소를 출력하기\n",
        "a = [38, 21, 53, 62, 19]\n",
        "for i in range(len(a)):\n",
        "  print(a[i])\n",
        "\n",
        "# 22.3.3  while반복문으로 요소 출력하기\n",
        "a = [38, 21, 53, 62, 19]\n",
        "i = 0\n",
        "while i < len(a):\n",
        "  print(a[i])\n",
        "  i += 1"
      ],
      "metadata": {
        "colab": {
          "base_uri": "https://localhost:8080/"
        },
        "id": "OmBNjvXAQSPO",
        "outputId": "f3aef3b4-5fef-45c0-900e-8e5e76442e89"
      },
      "execution_count": 24,
      "outputs": [
        {
          "output_type": "stream",
          "name": "stdout",
          "text": [
            "38\n",
            "21\n",
            "53\n",
            "62\n",
            "19\n",
            "38\n",
            "21\n",
            "53\n",
            "62\n",
            "19\n"
          ]
        }
      ]
    },
    {
      "cell_type": "code",
      "source": [
        "# 22.4 리스트의 가장 작은 수, 가장 큰 수, 합계 구하기\n",
        "# 22.4.1  가장 작은 수와 가장 큰 수 구하기\n",
        "a = [38, 21, 53, 62, 19]\n",
        "smallest = a[0]\n",
        "for i in a:\n",
        "  if i < smallest:\n",
        "    smallest = i\n",
        "print(smallest)"
      ],
      "metadata": {
        "colab": {
          "base_uri": "https://localhost:8080/"
        },
        "id": "0cobsvywZKwR",
        "outputId": "3cd51609-a954-4dac-80cb-cbf8b615afe7"
      },
      "execution_count": 25,
      "outputs": [
        {
          "output_type": "stream",
          "name": "stdout",
          "text": [
            "19\n"
          ]
        }
      ]
    },
    {
      "cell_type": "code",
      "source": [
        "a = [38, 21, 53, 62, 19]\n",
        "smallest = a[0]\n",
        "for i in a:\n",
        "  if i > smallest:\n",
        "    smallest = i\n",
        "print(smallest)"
      ],
      "metadata": {
        "colab": {
          "base_uri": "https://localhost:8080/"
        },
        "id": "j4y1T5WEZKy4",
        "outputId": "e9f61574-cbe6-4c40-d534-54ab311c1e57"
      },
      "execution_count": 27,
      "outputs": [
        {
          "output_type": "stream",
          "name": "stdout",
          "text": [
            "62\n"
          ]
        }
      ]
    },
    {
      "cell_type": "code",
      "source": [
        "a = [38, 21, 53, 62, 19]\n",
        "a.sort()\n",
        "print(a[0])\n",
        "print(a[4])\n"
      ],
      "metadata": {
        "colab": {
          "base_uri": "https://localhost:8080/"
        },
        "id": "HEzowtShZK1H",
        "outputId": "4893f344-60b1-4706-8073-568f30ad133d"
      },
      "execution_count": 28,
      "outputs": [
        {
          "output_type": "stream",
          "name": "stdout",
          "text": [
            "19\n",
            "62\n"
          ]
        }
      ]
    },
    {
      "cell_type": "code",
      "source": [
        "# 22.4.2  요소의 합계 구하기\n",
        "a = [10, 10, 10, 10]\n",
        "x = 0\n",
        "for i in a:\n",
        "  x += i\n",
        "print(x)"
      ],
      "metadata": {
        "colab": {
          "base_uri": "https://localhost:8080/"
        },
        "id": "N_oAcwZkZK3Y",
        "outputId": "120e51ae-3a77-4ada-e8c9-9c5f2502b1ac"
      },
      "execution_count": 29,
      "outputs": [
        {
          "output_type": "stream",
          "name": "stdout",
          "text": [
            "40\n"
          ]
        }
      ]
    },
    {
      "cell_type": "code",
      "source": [
        "a = [10, 10, 10, 10, 10]\n",
        "sum(a)"
      ],
      "metadata": {
        "colab": {
          "base_uri": "https://localhost:8080/"
        },
        "id": "cVIhGWuzZK5x",
        "outputId": "a7cd33d3-3bd1-4da5-c446-6dc035cd72d4"
      },
      "execution_count": 31,
      "outputs": [
        {
          "output_type": "execute_result",
          "data": {
            "text/plain": [
              "50"
            ]
          },
          "metadata": {},
          "execution_count": 31
        }
      ]
    },
    {
      "cell_type": "code",
      "source": [
        "# 22.5 리스트 표현식 사용하기\n",
        "a = [i for i in range(10)]        # 0부터 9까지 숫자를 생성하여 리스트 생성\n",
        "print(a)\n",
        "\n",
        "b = list(i for i in range(10))    # 0부터 9까지 숫자를 생성하여 리스트 생성\n",
        "print(b)"
      ],
      "metadata": {
        "colab": {
          "base_uri": "https://localhost:8080/"
        },
        "id": "y5Su_OwjZK75",
        "outputId": "e80377ca-b53f-42e8-b20b-930d5b5abc15"
      },
      "execution_count": 32,
      "outputs": [
        {
          "output_type": "stream",
          "name": "stdout",
          "text": [
            "[0, 1, 2, 3, 4, 5, 6, 7, 8, 9]\n",
            "[0, 1, 2, 3, 4, 5, 6, 7, 8, 9]\n"
          ]
        }
      ]
    },
    {
      "cell_type": "code",
      "source": [
        "# 22.5.2  for 반복문과 if 조건문을 여러 번 사용하기\n",
        "a = [i * j for j in range(2, 10) for i in range(1, 10)]\n",
        "print(a)"
      ],
      "metadata": {
        "colab": {
          "base_uri": "https://localhost:8080/"
        },
        "id": "8oD1tDOPZK-L",
        "outputId": "d0306d4f-e913-4a93-9fd7-00579944f785"
      },
      "execution_count": 1,
      "outputs": [
        {
          "output_type": "stream",
          "name": "stdout",
          "text": [
            "[2, 4, 6, 8, 10, 12, 14, 16, 18, 3, 6, 9, 12, 15, 18, 21, 24, 27, 4, 8, 12, 16, 20, 24, 28, 32, 36, 5, 10, 15, 20, 25, 30, 35, 40, 45, 6, 12, 18, 24, 30, 36, 42, 48, 54, 7, 14, 21, 28, 35, 42, 49, 56, 63, 8, 16, 24, 32, 40, 48, 56, 64, 72, 9, 18, 27, 36, 45, 54, 63, 72, 81]\n"
          ]
        }
      ]
    },
    {
      "cell_type": "code",
      "source": [
        "# 22.6 리스트에 map 사용하기\n",
        "a = [1.2, 2.5, 3.7, 4.6]\n",
        "for i in range(len(a)):\n",
        "  a[i] = int(a[i])\n",
        "print(a)\n",
        "\n",
        "a1 = list(map(str, range(10)))\n",
        "print(a1)"
      ],
      "metadata": {
        "colab": {
          "base_uri": "https://localhost:8080/"
        },
        "id": "cLStdY-RZLAH",
        "outputId": "11e89912-7001-4bd7-9096-de3bf86a5a04"
      },
      "execution_count": 3,
      "outputs": [
        {
          "output_type": "stream",
          "name": "stdout",
          "text": [
            "[1, 2, 3, 4]\n",
            "['0', '1', '2', '3', '4', '5', '6', '7', '8', '9']\n"
          ]
        }
      ]
    },
    {
      "cell_type": "code",
      "source": [
        "# 22.6.1  input().split()과 map\n",
        "a = input().split()\n",
        "print(a)\n",
        "\n",
        "x = input().split()    # input().split()의 결과는 문자열 리스트\n",
        "m = map(int, x)        # 리스트의 요소를 int로 변환, 결과는 맵 객체\n",
        "a1, b1 = m            # 맵 객체는 변수 여러 개에 저장할 수 있음\n",
        "print(a1)\n",
        "print(b1)"
      ],
      "metadata": {
        "colab": {
          "base_uri": "https://localhost:8080/"
        },
        "id": "Bun7hNwBZLCh",
        "outputId": "534744b2-812b-4d45-9f23-646e06dcf969"
      },
      "execution_count": 6,
      "outputs": [
        {
          "output_type": "stream",
          "name": "stdout",
          "text": [
            "10 20\n",
            "['10', '20']\n",
            "10 20\n",
            "10\n",
            "20\n"
          ]
        }
      ]
    },
    {
      "cell_type": "code",
      "source": [
        "# 22.7 튜플 응용하기\n",
        "# 22.7.1  튜플에서 특정 값의 인덱스 구하기\n",
        "a = (38, 21, 53, 62, 19, 53)\n",
        "a.index(53)\n",
        "\n",
        "# 22.7.2  특정 값의 개수 구하기\n",
        "a = (10, 20, 30, 15, 20, 40)\n",
        "a.count(20)\n",
        "\n",
        "# 22.7.3  for 반복문으로 요소 출력하기\n",
        "a = (38, 21, 53, 62, 19)\n",
        "for i in a:\n",
        "  print(i, end=' ')\n",
        "\n",
        "# 22.7.4  튜플 표현식 사용하기\n",
        "a1 = tuple(i for i in range(10) if i % 2 == 0)\n",
        "print(a1)"
      ],
      "metadata": {
        "colab": {
          "base_uri": "https://localhost:8080/"
        },
        "id": "2VnDFZ82efuy",
        "outputId": "8cffff7a-7536-41df-a52f-4fbacd37516c"
      },
      "execution_count": 9,
      "outputs": [
        {
          "output_type": "stream",
          "name": "stdout",
          "text": [
            "38 21 53 62 19 (0, 2, 4, 6, 8)\n"
          ]
        }
      ]
    },
    {
      "cell_type": "code",
      "source": [
        "# 22.7.5  tuple에 map 사용하기\n",
        "a = (1.2, 2.5, 3.7, 4.6)\n",
        "a = tuple(map(int, a))\n",
        "print(a)\n",
        "\n",
        "# 22.7.6  튜플에서 가장 작은 수, 가장 큰 수, 합계 구하기\n",
        "a = (38, 21, 53, 62, 19)\n",
        "print(min(a))\n",
        "print(max(a))\n",
        "print(sum(a))"
      ],
      "metadata": {
        "id": "_1Qoa59wfOL4"
      },
      "execution_count": null,
      "outputs": []
    },
    {
      "cell_type": "markdown",
      "source": [
        "**Unit 23. 2차원 리스트 사용하기**"
      ],
      "metadata": {
        "id": "2XhzPEMYf4qG"
      }
    },
    {
      "cell_type": "code",
      "source": [
        "# 23.1 2차원 리스트를 만들고 요소에 접근하기\n",
        "a = [[10, 20], [30, 40], [50, 60]]\n",
        "print(a)\n",
        "\n",
        "# 23.1.1  2차원 리스트의 요소에 접근하기\n",
        "a = [[10, 20], [30, 40], [50, 60]]\n",
        "print(a[0] [0])            # 세로 인덱스 0, 가로 인덱스 0인 요소 출력\n",
        "print(a[1][1])           # 세로 인덱스 1, 가로 인덱스 1인 요소 출력\n",
        "print(a[2][1])           # 세로 인덱스 2, 가로 인덱스 0인 요소 출력\n",
        "a[0][1] = 1000    # 세로 인덱스 0, 가로 인덱스 1인 요소에 값 할당\n",
        "print(a[0][1])"
      ],
      "metadata": {
        "colab": {
          "base_uri": "https://localhost:8080/"
        },
        "id": "2bgJuEtffQJ5",
        "outputId": "b0937784-4c05-414d-e7a3-bc111480aab8"
      },
      "execution_count": 10,
      "outputs": [
        {
          "output_type": "stream",
          "name": "stdout",
          "text": [
            "[[10, 20], [30, 40], [50, 60]]\n",
            "10\n",
            "40\n",
            "60\n",
            "1000\n"
          ]
        }
      ]
    },
    {
      "cell_type": "code",
      "source": [
        "# 23.2.1  for 반복문을 한 번만 사용하기\n",
        "a = [[10, 20], [30, 40], [50, 60]]\n",
        "for x, y in a:    # 리스트의 가로 한 줄(안쪽 리스트)에서 요소 두 개를 꺼냄\n",
        "  print(x, y)"
      ],
      "metadata": {
        "colab": {
          "base_uri": "https://localhost:8080/"
        },
        "id": "ZF8rRbeBgVdL",
        "outputId": "b80ab29c-fae0-46a6-cb0c-6a9d47953dc1"
      },
      "execution_count": 11,
      "outputs": [
        {
          "output_type": "stream",
          "name": "stdout",
          "text": [
            "10 20\n",
            "30 40\n",
            "50 60\n"
          ]
        }
      ]
    },
    {
      "cell_type": "code",
      "source": [
        "# 23.2.2  for 반복문을 두 번 사용하기\n",
        "a = [[10, 20], [30, 40], [50, 60]]\n",
        " \n",
        "for i in a:        # a에서 안쪽 리스트를 꺼냄\n",
        "    for j in i:    # 안쪽 리스트에서 요소를 하나씩 꺼냄\n",
        "        print(j, end=' ')\n",
        "    print()"
      ],
      "metadata": {
        "colab": {
          "base_uri": "https://localhost:8080/"
        },
        "id": "sd1jrLDyggqE",
        "outputId": "7fa417ac-5268-4dbe-87c3-572cea76ae59"
      },
      "execution_count": 12,
      "outputs": [
        {
          "output_type": "stream",
          "name": "stdout",
          "text": [
            "10 20 \n",
            "30 40 \n",
            "50 60 \n"
          ]
        }
      ]
    },
    {
      "cell_type": "code",
      "source": [
        "# 23.2.3  for와 range 사용하기\n",
        "a = [[10, 20], [30, 40], [50, 60]]\n",
        " \n",
        "for i in range(len(a)):            # 세로 크기\n",
        "    for j in range(len(a[i])):     # 가로 크기\n",
        "        print(a[i][j], end=' ')\n",
        "    print()"
      ],
      "metadata": {
        "colab": {
          "base_uri": "https://localhost:8080/"
        },
        "id": "Le9BJSbBggtY",
        "outputId": "bc59b7c3-a403-4ed8-b324-cf4da3abc154"
      },
      "execution_count": 13,
      "outputs": [
        {
          "output_type": "stream",
          "name": "stdout",
          "text": [
            "10 20 \n",
            "30 40 \n",
            "50 60 \n"
          ]
        }
      ]
    },
    {
      "cell_type": "code",
      "source": [
        "# 23.2.4  while 반복문을 한 번 사용하기\n",
        "a = [[10, 20], [30, 40], [50, 60]]\n",
        " \n",
        "i = 0\n",
        "while i < len(a):    # 반복할 때 리스트의 크기 활용(세로 크기)\n",
        "    x, y = a[i]      # 요소 두 개를 한꺼번에 가져오기\n",
        "    print(x, y)\n",
        "    i += 1           # 인덱스를 1 증가시킴"
      ],
      "metadata": {
        "colab": {
          "base_uri": "https://localhost:8080/"
        },
        "id": "HgPdJuhcggw_",
        "outputId": "f3edeed6-b1f5-48b3-f5d2-4c48ab36bb25"
      },
      "execution_count": 14,
      "outputs": [
        {
          "output_type": "stream",
          "name": "stdout",
          "text": [
            "10 20\n",
            "30 40\n",
            "50 60\n"
          ]
        }
      ]
    },
    {
      "cell_type": "code",
      "source": [
        "# 23.2.5  while 반복문을 두 번 사용하기\n",
        "a = [[10, 20], [30, 40], [50, 60]]\n",
        " \n",
        "i = 0\n",
        "while i < len(a):           # 세로 크기\n",
        "    j = 0\n",
        "    while j < len(a[i]):    # 가로 크기\n",
        "        print(a[i][j], end=' ')\n",
        "        j += 1              # 가로 인덱스를 1 증가시킴\n",
        "    print()\n",
        "    i += 1                  # 세로 인덱스를 1 증가시킴"
      ],
      "metadata": {
        "colab": {
          "base_uri": "https://localhost:8080/"
        },
        "id": "dIWofCG2gg6r",
        "outputId": "4308a0dc-0ad5-4f5e-acdd-80c295071e07"
      },
      "execution_count": 15,
      "outputs": [
        {
          "output_type": "stream",
          "name": "stdout",
          "text": [
            "10 20 \n",
            "30 40 \n",
            "50 60 \n"
          ]
        }
      ]
    },
    {
      "cell_type": "code",
      "source": [
        "# 23.3 반복문으로 리스트 만들기\n",
        "# 23.3.1  for 반복문으로 1차원 리스트 만들기\n",
        "a = []    # 빈 리스트 생성\n",
        " \n",
        "for i in range(10):\n",
        "    a.append(0)    # append로 요소 추가\n",
        " \n",
        "print(a)\n",
        "\n",
        "# 23.3.2  for 반복문으로 2차원 리스트 만들기\n",
        "a = []    # 빈 리스트 생성\n",
        " \n",
        "for i in range(3):\n",
        "    line = []              # 안쪽 리스트로 사용할 빈 리스트 생성\n",
        "    for j in range(2):\n",
        "        line.append(0)     # 안쪽 리스트에 0 추가\n",
        "    a.append(line)         # 전체 리스트에 안쪽 리스트를 추가\n",
        " \n",
        "print(a)\n",
        "\n",
        "\n",
        "for i in range(3):\n",
        "    line = []              # 안쪽 리스트로 사용할 빈 리스트 생성\n",
        "\n",
        "for j in range(2):\n",
        "  line.append(0)     # 안쪽 리스트에 0 추가\n",
        "a.append(line)         # 전체 리스트에 안쪽 리스트를 추가\n"
      ],
      "metadata": {
        "colab": {
          "base_uri": "https://localhost:8080/"
        },
        "id": "SF07yfC6gg-K",
        "outputId": "bf3c9aac-8cfd-460c-8891-a3f027edfc69"
      },
      "execution_count": 17,
      "outputs": [
        {
          "output_type": "stream",
          "name": "stdout",
          "text": [
            "[0, 0, 0, 0, 0, 0, 0, 0, 0, 0]\n",
            "[[0, 0], [0, 0], [0, 0]]\n"
          ]
        }
      ]
    },
    {
      "cell_type": "code",
      "source": [
        "# 23.3.3  리스트 표현식으로 2차원 리스트 만들기\n",
        "a = [[0 for j in range(2)] for i in range(3)]\n",
        "print(a)\n",
        "\n",
        "# 23.3.4  톱니형 리스트 만들기\n",
        "a = [3, 1, 3, 2, 5]    # 가로 크기를 저장한 리스트\n",
        "b = []    # 빈 리스트 생성\n",
        " \n",
        "for i in a:      # 가로 크기를 저장한 리스트로 반복\n",
        "    line = []    # 안쪽 리스트로 사용할 빈 리스트 생성\n",
        "    for j in range(i):    # 리스트 a에 저장된 가로 크기만큼 반복\n",
        "        line.append(0)\n",
        "    b.append(line)        # 리스트 b에 안쪽 리스트를 추가\n",
        " \n",
        "print(b)"
      ],
      "metadata": {
        "colab": {
          "base_uri": "https://localhost:8080/"
        },
        "id": "pK1KHv9sghBp",
        "outputId": "056671c1-8ca4-43b5-8f7d-eb69d4c28eb6"
      },
      "execution_count": 18,
      "outputs": [
        {
          "output_type": "stream",
          "name": "stdout",
          "text": [
            "[[0, 0], [0, 0], [0, 0]]\n",
            "[[0, 0, 0], [0], [0, 0, 0], [0, 0], [0, 0, 0, 0, 0]]\n"
          ]
        }
      ]
    },
    {
      "cell_type": "code",
      "source": [
        "# 23.4 2차원 리스트의 할당과 복사 알아보기\n",
        "a = [[10, 20], [30, 40]]\n",
        "b = a\n",
        "b[0][0] = 500\n",
        "print(a)\n",
        "print(b)\n",
        "\n",
        "a1 = [[10, 20], [30, 40]]\n",
        "b1 = a.copy()\n",
        "b1[0][0] = 500\n",
        "print(a1)\n",
        "print(b1)"
      ],
      "metadata": {
        "colab": {
          "base_uri": "https://localhost:8080/"
        },
        "id": "hSZki67vghFD",
        "outputId": "2cec27c1-9f97-4c62-dd12-863e771e3d72"
      },
      "execution_count": 19,
      "outputs": [
        {
          "output_type": "stream",
          "name": "stdout",
          "text": [
            "[[500, 20], [30, 40]]\n",
            "[[500, 20], [30, 40]]\n",
            "[[10, 20], [30, 40]]\n",
            "[[500, 20], [30, 40]]\n"
          ]
        }
      ]
    },
    {
      "cell_type": "markdown",
      "source": [
        "**Unit 24. 문자열 응용하기**"
      ],
      "metadata": {
        "id": "U75vQxz7jt3S"
      }
    },
    {
      "cell_type": "code",
      "source": [
        "# 24.1.1  문자열 바꾸기\n",
        "'Hello, world!'.replace('world', 'Python')\n",
        "\n",
        "s = 'Hello, world!'\n",
        "s = s.replace('world!', 'Python')\n",
        "print(s)"
      ],
      "metadata": {
        "colab": {
          "base_uri": "https://localhost:8080/"
        },
        "id": "Wpu_e4-lghT2",
        "outputId": "4dcf347d-6f79-4f2f-ab52-53689355a709"
      },
      "execution_count": 21,
      "outputs": [
        {
          "output_type": "stream",
          "name": "stdout",
          "text": [
            "Hello, Python\n"
          ]
        }
      ]
    },
    {
      "cell_type": "code",
      "source": [
        "# 24.1.2  문자 바꾸기\n",
        "table = str.maketrans('aeiou', '12345')\n",
        "'apple'.translate(table)"
      ],
      "metadata": {
        "colab": {
          "base_uri": "https://localhost:8080/",
          "height": 35
        },
        "id": "G-iQkCD4ghWw",
        "outputId": "d8d13b33-e335-464e-bdc4-0c1ff16902a8"
      },
      "execution_count": 23,
      "outputs": [
        {
          "output_type": "execute_result",
          "data": {
            "text/plain": [
              "'1ppl2'"
            ],
            "application/vnd.google.colaboratory.intrinsic+json": {
              "type": "string"
            }
          },
          "metadata": {},
          "execution_count": 23
        }
      ]
    },
    {
      "cell_type": "code",
      "source": [
        "# 24.1.3  문자열 분리하기\n",
        "'apple pear grape pineapple orange'.split()"
      ],
      "metadata": {
        "colab": {
          "base_uri": "https://localhost:8080/"
        },
        "id": "A9pp0lB2k_Oo",
        "outputId": "84748694-47d4-40b9-a609-0bba4b0d3d03"
      },
      "execution_count": 24,
      "outputs": [
        {
          "output_type": "execute_result",
          "data": {
            "text/plain": [
              "['apple', 'pear', 'grape', 'pineapple', 'orange']"
            ]
          },
          "metadata": {},
          "execution_count": 24
        }
      ]
    },
    {
      "cell_type": "code",
      "source": [
        "# 24.1.4  구분자 문자열과 문자열 리스트 연결하기\n",
        "' '.join(['apple', 'pear', 'grape', 'pineapple', 'orange'])"
      ],
      "metadata": {
        "colab": {
          "base_uri": "https://localhost:8080/",
          "height": 35
        },
        "id": "aten9_6Mk_RA",
        "outputId": "165ce8e5-4166-42ca-cda1-46cba3600e68"
      },
      "execution_count": 25,
      "outputs": [
        {
          "output_type": "execute_result",
          "data": {
            "text/plain": [
              "'apple pear grape pineapple orange'"
            ],
            "application/vnd.google.colaboratory.intrinsic+json": {
              "type": "string"
            }
          },
          "metadata": {},
          "execution_count": 25
        }
      ]
    },
    {
      "cell_type": "code",
      "source": [
        "# 24.1.5  소문자를 대문자로 바꾸기\n",
        "'python'.upper()\n",
        "\n",
        "# 24.1.6  대문자를 소문자로 바꾸기\n",
        "'PYTHON'.lower()\n",
        "\n",
        "# 24.1.7  왼쪽 공백 삭제하기\n",
        "'   Python   '.lstrip()\n",
        "\n",
        "# 24.1.8  오른쪽 공백 삭제하기\n",
        "'   Python   '.rstrip()\n",
        "\n",
        "# 24.1.9  양쪽 공백 삭제하기\n",
        "'   Python   '.strip()\n",
        "\n",
        "# 24.1.10                왼쪽의 특정 문자 삭제하기\n",
        "', python.'.lstrip(',.')\n",
        "\n",
        "# 24.1.11                오른쪽의 특정 문자 삭제하기\n",
        "', python.'.rstrip(',.')\n",
        "\n",
        "# 24.1.12                양쪽의 특정 문자 삭제하기\n",
        "', python.'.strip(',.')\n",
        "\n",
        "# 24.1.13                문자열을 왼쪽 정렬하기\n",
        "'python'.ljust(10)\n",
        "\n",
        "# 24.1.14                문자열을 오른쪽 정렬하기\n",
        "'python'.rjust(10)\n",
        "\n",
        " # 24.1.15                문자열을 가운데 정렬하기\n",
        "'python'.center(10)"
      ],
      "metadata": {
        "colab": {
          "base_uri": "https://localhost:8080/",
          "height": 35
        },
        "id": "-7svQPgMk_TP",
        "outputId": "6ff60bb8-a614-48e3-c906-b170f191fc20"
      },
      "execution_count": 27,
      "outputs": [
        {
          "output_type": "execute_result",
          "data": {
            "text/plain": [
              "'  python  '"
            ],
            "application/vnd.google.colaboratory.intrinsic+json": {
              "type": "string"
            }
          },
          "metadata": {},
          "execution_count": 27
        }
      ]
    },
    {
      "cell_type": "code",
      "source": [
        "# 24.1.16                메서드 체이닝\n",
        "'python'.rjust(10).upper()\n",
        "\n",
        "# 24.1.17                문자열 왼쪽에 0 채우기\n",
        "'35'.zfill(4)        # 숫자 앞에 0을 채움\n",
        "'3.5'.zfill(6)       # 숫자 앞에 0을 채움\n",
        "'hello'.zfill(10)    # 문자열 앞에 0을 채울 수도 있음"
      ],
      "metadata": {
        "colab": {
          "base_uri": "https://localhost:8080/",
          "height": 35
        },
        "id": "J5wMBvYRk_VX",
        "outputId": "363b20fe-f34c-45a0-e2d9-fd32552bcc55"
      },
      "execution_count": 28,
      "outputs": [
        {
          "output_type": "execute_result",
          "data": {
            "text/plain": [
              "'00000hello'"
            ],
            "application/vnd.google.colaboratory.intrinsic+json": {
              "type": "string"
            }
          },
          "metadata": {},
          "execution_count": 28
        }
      ]
    },
    {
      "cell_type": "code",
      "source": [
        "# 24.1.18                문자열 위치 찾기\n",
        "'apple pineapple'.find('pl')\n",
        "\n",
        "# 24.1.19                오른쪽에서부터 문자열 위치 찾기\n",
        "'apple pineapple'.rfind('pl')\n",
        "\n",
        "# 24.1.20                문자열 위치 찾기\n",
        "'apple pineapple'.index('pl')\n",
        "\n",
        "# 24.1.21                오른쪽에서부터 문자열 위치 찾기\n",
        "'apple pineapple'.rindex('pl')\n",
        "\n",
        "# 24.1.22                문자열 개수 세기\n",
        "'apple pineapple'.count('pl')"
      ],
      "metadata": {
        "colab": {
          "base_uri": "https://localhost:8080/"
        },
        "id": "LxWQWHMQk_Xq",
        "outputId": "7a6b2c89-be0e-471b-82fb-c5bc36d648d3"
      },
      "execution_count": 30,
      "outputs": [
        {
          "output_type": "execute_result",
          "data": {
            "text/plain": [
              "2"
            ]
          },
          "metadata": {},
          "execution_count": 30
        }
      ]
    },
    {
      "cell_type": "code",
      "source": [
        "# 24.2 문자열 서식 지정자와 포매팅 사용하기\n",
        "# 24.2.1  서식 지정자로 문자열 넣기'\n",
        "\n",
        "print('I am %s.' % 'james')\n",
        "name = 'maria'\n",
        "print('I am %s.' % name)"
      ],
      "metadata": {
        "colab": {
          "base_uri": "https://localhost:8080/"
        },
        "id": "MZRVd80Pk_aC",
        "outputId": "8bc3c31c-95ef-465a-a447-8c7f1724710f"
      },
      "execution_count": 33,
      "outputs": [
        {
          "output_type": "stream",
          "name": "stdout",
          "text": [
            "I am james.\n",
            "I am maria.\n"
          ]
        }
      ]
    },
    {
      "cell_type": "code",
      "source": [
        "# 24.2.2  서식 지정자로 숫자 넣기\n",
        "print('I am %d years old.' % 20)"
      ],
      "metadata": {
        "colab": {
          "base_uri": "https://localhost:8080/"
        },
        "id": "Gh55NQOhmqic",
        "outputId": "8d0b4f8a-b060-4478-c838-0c8f444872c5"
      },
      "execution_count": 34,
      "outputs": [
        {
          "output_type": "stream",
          "name": "stdout",
          "text": [
            "I am 20 years old.\n"
          ]
        }
      ]
    },
    {
      "cell_type": "code",
      "source": [
        "# 24.2.3  서식 지정자로 소수점 표현하기\n",
        "print('%f' % 2.3)"
      ],
      "metadata": {
        "colab": {
          "base_uri": "https://localhost:8080/"
        },
        "id": "zdoaifo8mqk5",
        "outputId": "d6dadd05-a0a7-4a8c-e415-59333e8d35bc"
      },
      "execution_count": 35,
      "outputs": [
        {
          "output_type": "stream",
          "name": "stdout",
          "text": [
            "2.300000\n"
          ]
        }
      ]
    },
    {
      "cell_type": "code",
      "source": [
        "# 24.2.4  서식 지정자로 문자열 정렬하기\n",
        "print('%10s' % 'python')"
      ],
      "metadata": {
        "colab": {
          "base_uri": "https://localhost:8080/"
        },
        "id": "VM8o02lgmqnS",
        "outputId": "a5668c9f-d398-4704-cb07-6061e14236f2"
      },
      "execution_count": 36,
      "outputs": [
        {
          "output_type": "stream",
          "name": "stdout",
          "text": [
            "    python\n"
          ]
        }
      ]
    },
    {
      "cell_type": "code",
      "source": [
        "# 24.2.5  서식 지정자로 문자열 안에 값 여러 개 넣기\n",
        "print('Today is %d %s.' % (3, 'April'))\n",
        "print('Today is %d%s.' % (3, 'April'))"
      ],
      "metadata": {
        "colab": {
          "base_uri": "https://localhost:8080/"
        },
        "id": "mVCDG7YYmqph",
        "outputId": "d70b9ca2-2d0b-4d22-fdc8-a888f758fed0"
      },
      "execution_count": 37,
      "outputs": [
        {
          "output_type": "stream",
          "name": "stdout",
          "text": [
            "Today is 3 April.\n"
          ]
        }
      ]
    },
    {
      "cell_type": "code",
      "source": [
        "# 24.2.6  format 메서드 사용하기\n",
        "print( 'Hello, {0}'.format('world!'))\n",
        "print('Hello, {0}'.format(100))"
      ],
      "metadata": {
        "colab": {
          "base_uri": "https://localhost:8080/"
        },
        "id": "c0ZHREzDmqsO",
        "outputId": "ab267ae6-758a-4a69-b9ab-c646ee91d7a0"
      },
      "execution_count": 39,
      "outputs": [
        {
          "output_type": "stream",
          "name": "stdout",
          "text": [
            "Hello, world!\n",
            "Hello, 100\n"
          ]
        }
      ]
    },
    {
      "cell_type": "code",
      "source": [
        "# 24.2.7  format 메서드로 값을 여러 개 넣기\n",
        "print('Hello, {0} {2} {1}'.format('Python', 'Script', 3.6))\n",
        "\n",
        "# 24.2.8  format 메서드로 같은 값을 여러 개 넣기\n",
        "print( '{0} {0} {1} {1}'.format('Python', 'Script'))\n",
        "\n",
        "# 24.2.9  format 메서드에서 인덱스 생략하기\n",
        "print('Hello, {} {} {}'.format('Python', 'Script', 3.6))\n",
        "\n",
        "# 24.2.10                format 메서드에서 인덱스 대신 이름 지정하기\n",
        "print('Hello, {language} {version}'.format(language='Python', version=3.6))\n",
        "\n",
        "# 24.2.11                문자열 포매팅에 변수를 그대로 사용하기\n",
        "language = 'Python'\n",
        "version = 3.6\n",
        "print(f'Hello, {language} {version}')"
      ],
      "metadata": {
        "colab": {
          "base_uri": "https://localhost:8080/"
        },
        "id": "4ZmUeGz8mqun",
        "outputId": "ba66e997-a4f8-471c-9444-1c6d6ffe8918"
      },
      "execution_count": 41,
      "outputs": [
        {
          "output_type": "stream",
          "name": "stdout",
          "text": [
            "Hello, Python 3.6 Script\n",
            "Python Python Script Script\n",
            "Hello, Python Script 3.6\n",
            "Hello, Python 3.6\n",
            "Hello, Python 3.6\n"
          ]
        }
      ]
    },
    {
      "cell_type": "code",
      "source": [
        "# 24.2.12                format 메서드로 문자열 정렬하기\n",
        "print('{0:<10}'.format('python'))\n",
        "\n",
        "# 24.2.13                숫자 개수 맞추기\n",
        "print( '%03d' % 1)\n",
        "print('{0:03d}'.format(35))\n",
        "\n",
        "# 24.2.14                채우기와 정렬을 조합해서 사용하기\n",
        "print('{0:0<10}'.format(15))    # 길이 10, 왼쪽으로 정렬하고 남는 공간은 0으로 채움"
      ],
      "metadata": {
        "colab": {
          "base_uri": "https://localhost:8080/"
        },
        "id": "OBymgxMen4f7",
        "outputId": "af33ca8a-9912-4caf-d7be-b748401cc6b5"
      },
      "execution_count": 42,
      "outputs": [
        {
          "output_type": "stream",
          "name": "stdout",
          "text": [
            "python    \n",
            "001\n",
            "035\n",
            "1500000000\n"
          ]
        }
      ]
    }
  ]
}