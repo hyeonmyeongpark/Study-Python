{
  "nbformat": 4,
  "nbformat_minor": 0,
  "metadata": {
    "colab": {
      "provenance": [],
      "authorship_tag": "ABX9TyM93mTIIj9/tS/N17ClAbmr",
      "include_colab_link": true
    },
    "kernelspec": {
      "name": "python3",
      "display_name": "Python 3"
    },
    "language_info": {
      "name": "python"
    }
  },
  "cells": [
    {
      "cell_type": "markdown",
      "metadata": {
        "id": "view-in-github",
        "colab_type": "text"
      },
      "source": [
        "<a href=\"https://colab.research.google.com/github/hyeonmyeongpark/Study-Python/blob/main/Python_Coding_Dojang_(part_2).ipynb\" target=\"_parent\"><img src=\"https://colab.research.google.com/assets/colab-badge.svg\" alt=\"Open In Colab\"/></a>"
      ]
    },
    {
      "cell_type": "markdown",
      "source": [
        "**Unit 13. if 조건문으로 특정 조건일 때 코드 실행하기**"
      ],
      "metadata": {
        "id": "V8H5b_hGMmdv"
      }
    },
    {
      "cell_type": "code",
      "execution_count": null,
      "metadata": {
        "colab": {
          "base_uri": "https://localhost:8080/"
        },
        "id": "xx_KE0b0LSO_",
        "outputId": "0d5c34ca-274e-4add-ee55-b48f8d716417"
      },
      "outputs": [
        {
          "output_type": "stream",
          "name": "stdout",
          "text": [
            "10입니다.\n"
          ]
        }
      ],
      "source": [
        "# Unit 13. if 조건문으로 특정 조건일 때 코드 실행하기\n",
        "# 13.1 if 조건문 사용하기\n",
        "# if 조건문은 if에 조건식을 지정하고 :(콜론)을 붙이며 다음 줄에 실행할 코드가 옵니다. \n",
        "# 이때 실행할 코드는 반드시 들여쓰기를 해야 합니다.\n",
        "\n",
        "x = 10\n",
        "if x == 10:\n",
        "  print('10입니다.')\n",
        "\n",
        "# 13.1.1  if 조건문의 기본 형태와 실행 흐름 알아보기\n",
        "# if x ==10: (조건식, 콜론)\n",
        "# print('10입니다') (들여쓰기 4칸, 조건식이 만족할 때 실행 할 코드)\n",
        "\n",
        "# 13.1.2  if 조건문을 사용할 때 주의할 점\n",
        "# if 조건문을 사용할 때 주의할 점이 있는데 파이썬에서는 =을 할당으로 사용하고 있으므로 값을 비교할 때는 =을 두 개 붙여서 ==로 사용해야 합니다. \n",
        "# 자주 틀리는 부분이니 if 안에서 ==을 사용했는지 반드시 확인하세요. 다음과 같이 if에 =을 사용하면 문법 에러가 발생합니다.\n",
        "# 조건식 끝에 :을 빠뜨리는 실수도 자주하니 :도 확인해주세요.\n",
        "\n",
        "# 13.1.3  if 조건문에서 코드를 생략하기\n",
        "x = 10\n",
        "if x == 10:\n",
        "  pass\n",
        "\n",
        "# pass는 아무 일도 하지 않는 코드라서 의미가 없을 것 같지만 나중에 작성해야 할 코드를 표시할 때 사용할 수 있습니다. \n",
        "# 즉, 다음과 같이 pass만 넣고 나중에 할 일은 주석으로 남겨놓는 방식입니다.\n"
      ]
    },
    {
      "cell_type": "code",
      "source": [
        "# 13.2 if 조건문과 들여쓰기\n",
        "x = 10\n",
        " \n",
        "if x == 10:\n",
        "     print('x에 들어있는 숫자는')\n",
        "     print('10입니다.') \n",
        "\n",
        "#이제 실행이 잘 됩니다. 즉, if 다음에 오는 코드들은 반드시 들여쓰기 깊이가 같아야 합니다\n",
        "# 만약 첫 번째 print만 들여쓰기를 하고, 두 번째 print는 들여쓰기를 하지 않으면 \n",
        "# 의도치 않은 동작이 됩니다.\n",
        "\n",
        "x1 = 5\n",
        " \n",
        "if x1 == 10:    # x가 5라서 조건식이 만족하지 않음\n",
        "    print('x에 들어있는 숫자는')\n",
        " \n",
        "print('10입니다.')    # 위의 if와는 상관없는 코드"
      ],
      "metadata": {
        "colab": {
          "base_uri": "https://localhost:8080/"
        },
        "id": "J3shoIEVQCCG",
        "outputId": "fe2b0bd5-948f-4700-b987-0356cc872c67"
      },
      "execution_count": null,
      "outputs": [
        {
          "output_type": "stream",
          "name": "stdout",
          "text": [
            "x에 들어있는 숫자는\n",
            "10입니다.\n",
            "10입니다.\n"
          ]
        }
      ]
    },
    {
      "cell_type": "code",
      "source": [
        "# 13.3 중첩 if 조건문 사용하기\n",
        "x = 15\n",
        " \n",
        "if x >= 10:\n",
        "     print('10 이상입니다.')\n",
        " \n",
        "     if x == 15:\n",
        "         print('15입니다.')\n",
        " \n",
        "     if x == 20:\n",
        "         print('20입니다.')"
      ],
      "metadata": {
        "colab": {
          "base_uri": "https://localhost:8080/"
        },
        "id": "aU5JNL5nQCEt",
        "outputId": "ff8afa0a-ecd9-41f5-999c-f2dea2bc4a54"
      },
      "execution_count": null,
      "outputs": [
        {
          "output_type": "stream",
          "name": "stdout",
          "text": [
            "10 이상입니다.\n",
            "15입니다.\n"
          ]
        }
      ]
    },
    {
      "cell_type": "code",
      "source": [
        "# 13.4 사용자가 입력한 값에 if 조건문 사용하기\n",
        "x = int(input())          # 입력받은 값을 변수에 저장\n",
        " \n",
        "if x == 10:               # x가 10이면\n",
        "    print('10입니다.')    # '10입니다.'를 출력\n",
        " \n",
        "if x == 20:               # x가 20이면\n",
        "    print('20입니다.')    # '20입니다.'를 출력"
      ],
      "metadata": {
        "colab": {
          "base_uri": "https://localhost:8080/"
        },
        "id": "N0xwn3iTQCHU",
        "outputId": "5254e4bd-882e-410d-9afb-79db7bd33175"
      },
      "execution_count": null,
      "outputs": [
        {
          "output_type": "stream",
          "name": "stdout",
          "text": [
            "10\n",
            "10입니다.\n"
          ]
        }
      ]
    },
    {
      "cell_type": "markdown",
      "source": [
        "**Unit 14.else 사용하기**"
      ],
      "metadata": {
        "id": "jAqXYLagY0Ii"
      }
    },
    {
      "cell_type": "code",
      "source": [
        "# Unit 14. else를 사용하여 두 방향으로 분기하기\n",
        "# 14.1 else 사용하기\n",
        "x = 5\n",
        "if x == 10:\n",
        "  print('10입니다.')\n",
        "else:\n",
        "  print('10이 아닙니다.')"
      ],
      "metadata": {
        "id": "S9loBpujQCLd",
        "colab": {
          "base_uri": "https://localhost:8080/"
        },
        "outputId": "7b8543dd-edf2-4b01-ea2e-9fefd5e50b38"
      },
      "execution_count": null,
      "outputs": [
        {
          "output_type": "stream",
          "name": "stdout",
          "text": [
            "10이 아닙니다.\n"
          ]
        }
      ]
    },
    {
      "cell_type": "code",
      "source": [
        "# 14.1.1  if와 else의 기본 형태와 실행 흐름 알아보기\n",
        "\n",
        "# else는 if의 조건식이 만족하지 않을 때 코드를 실행합니다. 여기서는 x에 5가 들어있어서 x == 10을 만족하지 않으므로 \n",
        "# else의 print가 실행되어 '10이 아닙니다.'가 출력됩니다.\n",
        "\n",
        "# 14.2 else와 들여쓰기\n",
        "x = 5\n",
        "\n",
        "if x == 10:\n",
        "  print('10입니다.')\n",
        "else:\n",
        "  print('x에 들어있는 숫자는')\n",
        "  print('10이 아닙니다.') \n"
      ],
      "metadata": {
        "id": "XR8PIihUQCOL",
        "colab": {
          "base_uri": "https://localhost:8080/"
        },
        "outputId": "6521b362-0233-4a73-b38e-9606d4f14bdd"
      },
      "execution_count": null,
      "outputs": [
        {
          "output_type": "stream",
          "name": "stdout",
          "text": [
            "x에 들어있는 숫자는\n",
            "10이 아닙니다.\n"
          ]
        }
      ]
    },
    {
      "cell_type": "code",
      "source": [
        "# 14.3 if 조건문의 동작 방식 알아보기\n",
        "if True:\n",
        "    print('참')    # True는 참\n",
        "else:\n",
        "    print('거짓')\n",
        " \n",
        "if False:\n",
        "    print('참')\n",
        "else:\n",
        "    print('거짓')    # False는 거짓\n",
        " \n",
        "if None:\n",
        "    print('참')\n",
        "else:\n",
        "    print('거짓')    # None은 거짓\n",
        "\n",
        "# 당연히 True는 if의 코드가 실행되고, False는 else의 코드가 실행됩니다. \n",
        "# 특히 None은 False로 취급되므로 else의 코드가 실행됩니다. 실제 코드를 작성할 때 변수에 들어있는 값이나 함수의 결과가 None인 경우가 많으므로 이 부분은 꼭 기억해두세요."
      ],
      "metadata": {
        "id": "nMc4J-j9QCQl",
        "colab": {
          "base_uri": "https://localhost:8080/"
        },
        "outputId": "fccb07f0-f10a-4156-8445-310760c7b163"
      },
      "execution_count": null,
      "outputs": [
        {
          "output_type": "stream",
          "name": "stdout",
          "text": [
            "참\n",
            "거짓\n",
            "거짓\n"
          ]
        }
      ]
    },
    {
      "cell_type": "code",
      "source": [
        "# 14.3.1  if 조건문에 숫자 지정하기\n",
        "if 0:\n",
        "    print('참')\n",
        "else:\n",
        "    print('거짓')    # 0은 거짓\n",
        " \n",
        "if 1:\n",
        "    print('참')    # 1은 참\n",
        "else:\n",
        "    print('거짓')\n",
        " \n",
        "if 0x1F:    # 16진수\n",
        "    print('참')    # 0x1F는 참\n",
        "else:\n",
        "    print('거짓')\n",
        " \n",
        "if 0b1000:    # 2진수\n",
        "    print('참')    # 0b1000은 참\n",
        "else:\n",
        "    print('거짓')\n",
        " \n",
        "if 13.5:    # 실수\n",
        "    print('참')    # 13.5는 참\n",
        "else:\n",
        "    print('거짓')"
      ],
      "metadata": {
        "colab": {
          "base_uri": "https://localhost:8080/"
        },
        "id": "HdLdw-CqZ5qV",
        "outputId": "94544a17-1894-44be-c421-e37d9006663f"
      },
      "execution_count": null,
      "outputs": [
        {
          "output_type": "stream",
          "name": "stdout",
          "text": [
            "거짓\n",
            "참\n",
            "참\n",
            "참\n",
            "참\n"
          ]
        }
      ]
    },
    {
      "cell_type": "code",
      "source": [
        "# 14.3.2  if 조건문에 문자열 지정하기\n",
        "if 'Hello':    # 문자열\n",
        "    print('참')    # 문자열은 참\n",
        "else:\n",
        "    print('거짓')\n",
        " \n",
        "if '':    # 빈 문자열\n",
        "    print('참')\n",
        "else:\n",
        "    print('거짓')    # 빈 문자열은 거짓\n",
        "\n",
        "# not으로 뒤집으면?\n",
        "\n",
        "if not 0:\n",
        "    print('참')    # not 0은 참\n",
        " \n",
        "if not None:\n",
        "    print('참')    # None은 참\n",
        " \n",
        "if not '':\n",
        "    print('참')    # not 빈 문자열은 참"
      ],
      "metadata": {
        "colab": {
          "base_uri": "https://localhost:8080/"
        },
        "id": "J4MrdY0eZ5tC",
        "outputId": "14855525-f881-460b-9dc8-ddcc313d43de"
      },
      "execution_count": null,
      "outputs": [
        {
          "output_type": "stream",
          "name": "stdout",
          "text": [
            "참\n",
            "거짓\n",
            "참\n",
            "참\n",
            "참\n"
          ]
        }
      ]
    },
    {
      "cell_type": "markdown",
      "source": [
        "참고 | True, False로 취급하는 것들\n",
        "다음은 파이썬 문법 중에서 False로 취급하는 것들입니다.\n",
        "\n",
        "None\n",
        "\n",
        "False\n",
        "\n",
        "0인 숫자들: 0, 0.0, 0j\n",
        "\n",
        "비어 있는 문자열, 리스트, 튜플, 딕셔너리, 세트: '', \"\", [], (), {}, set()\n",
        "\n",
        "클래스 인스턴스의 __bool__(), __len__() 메서드가 0 또는 False를 반환할 때\n",
        "\n",
        "앞에서 나열한 것들을 제외한 모든 요소들은 True로 취급합니다. 세트는 뒤에서 자세히 설명하겠습니다."
      ],
      "metadata": {
        "id": "5BNUXVpwaS4U"
      }
    },
    {
      "cell_type": "code",
      "source": [
        "# 14.4 조건식을 여러 개 지정하기\n",
        "x = 10\n",
        "y = 20\n",
        " \n",
        "if x == 10 and y == 20:     # x가 10이면서 y가 20일 때\n",
        "    print('참')\n",
        "else:\n",
        "    print('거짓')\n",
        "\n",
        "# 14.4.1  중첩 if 조건문과 논리 연산자\n",
        "if x > 0:\n",
        "    if x < 20:\n",
        "        print('20보다 작은 양수입니다.')"
      ],
      "metadata": {
        "colab": {
          "base_uri": "https://localhost:8080/"
        },
        "id": "Zr8Go30XZ5vr",
        "outputId": "14101240-4942-4542-9416-52c0e07b64ba"
      },
      "execution_count": null,
      "outputs": [
        {
          "output_type": "stream",
          "name": "stdout",
          "text": [
            "참\n",
            "20보다 작은 양수입니다.\n"
          ]
        }
      ]
    },
    {
      "cell_type": "markdown",
      "source": [
        "**Unit 15. elif를 사용하여 여러 방향으로 분기하기**"
      ],
      "metadata": {
        "id": "gOLVCbBaEFgI"
      }
    },
    {
      "cell_type": "code",
      "source": [
        "# 15.1 elif 사용하기\n",
        "x = 20\n",
        "if x == 10:\n",
        "  print('10입니다')\n",
        "elif x == 20:\n",
        "  print('20입니다')\n",
        "\n",
        "# 15.1.1  if, elif, else를 모두 사용하\n",
        "x = 30\n",
        "\n",
        "if x == 10:\n",
        "  print('10입니다')\n",
        "elif x == 20:\n",
        "  print('20입니다')\n",
        "else:\n",
        "  print('10도 20도 아닙니다')"
      ],
      "metadata": {
        "colab": {
          "base_uri": "https://localhost:8080/"
        },
        "id": "Noo2FO1kZ5yI",
        "outputId": "93b38ab4-2daa-49ce-b967-a48469dc159a"
      },
      "execution_count": null,
      "outputs": [
        {
          "output_type": "stream",
          "name": "stdout",
          "text": [
            "20입니다\n",
            "10도 20도 아닙니다\n"
          ]
        }
      ]
    },
    {
      "cell_type": "code",
      "source": [
        "# 15.1.2  음료수 자판기 만들기\n",
        "\n",
        "button = int(input())\n",
        "\n",
        "if button == 1:\n",
        "  print('콜라')\n",
        "elif button == 2:\n",
        "  print('사이다')\n",
        "elif button == 3:\n",
        "  print('환타')\n",
        "else:\n",
        "  print('제공하지 않는 메뉴')"
      ],
      "metadata": {
        "colab": {
          "base_uri": "https://localhost:8080/"
        },
        "id": "1sdG7cRQZ50V",
        "outputId": "cd302a38-ed5b-4dcc-c6f6-ed47d9a5d78b"
      },
      "execution_count": null,
      "outputs": [
        {
          "output_type": "stream",
          "name": "stdout",
          "text": [
            "5\n",
            "제공하지 않는 메뉴\n"
          ]
        }
      ]
    },
    {
      "cell_type": "code",
      "source": [
        "# 15.3 연습문제: if, elif, else 모두 사용하기\n",
        "\n",
        "# 변수 x가 11과 20 사이면 '11~20', 21과 30 사이면 '21~30', \n",
        "# 아무것도 해당하지 않으면 '아무것도 해당하지 않음'이 출력되게 만드세요.\n",
        "\n",
        "x = int(input())\n",
        "\n",
        "if x >= 11 and x <= 20:\n",
        "  print('11~20')\n",
        "elif x >= 21 and x <= 30:\n",
        "  print('21~30')\n",
        "else:\n",
        "  print('아무것도 해당하지 않음')\n",
        " "
      ],
      "metadata": {
        "colab": {
          "base_uri": "https://localhost:8080/"
        },
        "id": "6fupHldHZ52h",
        "outputId": "0c865836-65e8-490d-8ede-bf45afb6edb7"
      },
      "execution_count": null,
      "outputs": [
        {
          "output_type": "stream",
          "name": "stdout",
          "text": [
            "50\n",
            "아무것도 해당하지 않음\n"
          ]
        }
      ]
    },
    {
      "cell_type": "markdown",
      "source": [
        "**Unit 16. for와 range 사용하기**"
      ],
      "metadata": {
        "id": "3IdrR2MBIKc-"
      }
    },
    {
      "cell_type": "code",
      "source": [
        "# 16.1 for와 range 사용하기\n",
        "for i in range(5):\n",
        "  print('Hello, World!')"
      ],
      "metadata": {
        "colab": {
          "base_uri": "https://localhost:8080/"
        },
        "id": "RHD6HsoYZ55J",
        "outputId": "efa639ba-8f45-4658-8779-9c8d7ba7e8e7"
      },
      "execution_count": null,
      "outputs": [
        {
          "output_type": "stream",
          "name": "stdout",
          "text": [
            "Hello, World!\n",
            "Hello, World!\n",
            "Hello, World!\n",
            "Hello, World!\n",
            "Hello, World!\n"
          ]
        }
      ]
    },
    {
      "cell_type": "code",
      "source": [
        "# 16.1.1  반복문에서 변수의 변화 알아보기\n",
        "for i in range(10):\n",
        "  print(i)"
      ],
      "metadata": {
        "colab": {
          "base_uri": "https://localhost:8080/"
        },
        "id": "nNklqOnDIlIE",
        "outputId": "01ca39ef-97ff-472e-b20c-eaebf9aaabb9"
      },
      "execution_count": null,
      "outputs": [
        {
          "output_type": "stream",
          "name": "stdout",
          "text": [
            "0\n",
            "1\n",
            "2\n",
            "3\n",
            "4\n",
            "5\n",
            "6\n",
            "7\n",
            "8\n",
            "9\n"
          ]
        }
      ]
    },
    {
      "cell_type": "code",
      "source": [
        "# 16.2 for와 range 응용하기\n",
        "# 16.2.1  시작하는 숫자와 끝나는 숫자 지정하기(for 변수 in range(시작, 끝):)\n",
        "for i in range(5, 12):    # 5부터 11까지 반복\n",
        "  print('Hello, world!', i)\n",
        "\n",
        "# 16.2.2  증가폭 사용하기\n",
        "for i in range(0, 10, 2):\n",
        "  print('Hello, world!', i)\n",
        "\n",
        "# 16.2.3  숫자를 감소시키기\n",
        "for i in range(10, 0):    # range(10, 0)은 동작하지 않음\n",
        "  print('Hello, world!', i)\n",
        "\n",
        "# 16.2.4  입력한 횟수대로 반복하기\n",
        "count = int(input())\n",
        "\n",
        "for i in range(count):\n",
        "  print('Hello, world!', i)\n"
      ],
      "metadata": {
        "colab": {
          "base_uri": "https://localhost:8080/"
        },
        "id": "goy66fD1IlKU",
        "outputId": "472b71e7-67fd-4c57-d870-52785ff58de7"
      },
      "execution_count": null,
      "outputs": [
        {
          "output_type": "stream",
          "name": "stdout",
          "text": [
            "Hello, world! 5\n",
            "Hello, world! 6\n",
            "Hello, world! 7\n",
            "Hello, world! 8\n",
            "Hello, world! 9\n",
            "Hello, world! 10\n",
            "Hello, world! 11\n",
            "Hello, world! 0\n",
            "Hello, world! 2\n",
            "Hello, world! 4\n",
            "Hello, world! 6\n",
            "Hello, world! 8\n",
            "5\n",
            "Hello, world! 0\n",
            "Hello, world! 1\n",
            "Hello, world! 2\n",
            "Hello, world! 3\n",
            "Hello, world! 4\n"
          ]
        }
      ]
    },
    {
      "cell_type": "code",
      "source": [
        "# 16.3 시퀀스 객체로 반복하기\n",
        "a = [10, 20, 30, 40, 50]\n",
        "for i in a:\n",
        "  print(i)\n",
        "\n",
        "fruits = ('apple', 'orange', 'grape')\n",
        "for fruit in fruits:\n",
        "  print(fruit)\n",
        "\n",
        "for letter in 'Python':\n",
        "  print(letter, end=' ')\n",
        "\n",
        "for letter in reversed('Python'):\n",
        "  print(letter, end=' ')\n"
      ],
      "metadata": {
        "colab": {
          "base_uri": "https://localhost:8080/"
        },
        "id": "rDjema14IlMu",
        "outputId": "8be00f74-7420-490f-eefb-e927b4834778"
      },
      "execution_count": null,
      "outputs": [
        {
          "output_type": "stream",
          "name": "stdout",
          "text": [
            "10\n",
            "20\n",
            "30\n",
            "40\n",
            "50\n",
            "apple\n",
            "orange\n",
            "grape\n",
            "P y t h o n n o h t y P "
          ]
        }
      ]
    },
    {
      "cell_type": "code",
      "source": [
        "# 16.5 연습문제: 리스트의 요소에 10을 곱해서 출력하기\n",
        "# x에 들어있는 각 숫자(요소)에 10을 곱한 값이 출력되게 만드세요. \n",
        "# 모든 숫자는 공백으로 구분하여 한 줄로 출력되어야 합니다.\n",
        "x = [49, -17, 25, 102, 8, 62, 21]\n",
        "for i in x:\n",
        "  print(i*10, end = ' ')"
      ],
      "metadata": {
        "colab": {
          "base_uri": "https://localhost:8080/"
        },
        "id": "WuAHnNfFIlO9",
        "outputId": "79fbab90-8731-4eb2-d9a2-ebe2fd973a36"
      },
      "execution_count": null,
      "outputs": [
        {
          "output_type": "stream",
          "name": "stdout",
          "text": [
            "490 -170 250 1020 80 620 210 "
          ]
        }
      ]
    },
    {
      "cell_type": "markdown",
      "source": [
        "표준 입력으로 정수가 입력됩니다. 입력된 정수의 구구단을 출력하는 프로그램을 만드세요(input에서 안내 문자열은 출력하지 않아야 합니다). 출력 형식은 숫자 * 숫자 = 숫자처럼 만들고 숫자와 *, = 사이는 공백을 한 칸 띄웁니다."
      ],
      "metadata": {
        "id": "Fxehl9YNJUtL"
      }
    },
    {
      "cell_type": "code",
      "source": [
        "x = int(input())\n",
        "\n",
        "for i in range(10):\n",
        "  print(x ,'*', i ,'=', x * 1)"
      ],
      "metadata": {
        "colab": {
          "base_uri": "https://localhost:8080/"
        },
        "id": "4jWySK05Mfq4",
        "outputId": "fad20a00-914f-45cd-a512-7e7ec8784fca"
      },
      "execution_count": null,
      "outputs": [
        {
          "output_type": "stream",
          "name": "stdout",
          "text": [
            "2\n",
            "2 * 0 = 2\n",
            "2 * 1 = 2\n",
            "2 * 2 = 2\n",
            "2 * 3 = 2\n",
            "2 * 4 = 2\n",
            "2 * 5 = 2\n",
            "2 * 6 = 2\n",
            "2 * 7 = 2\n",
            "2 * 8 = 2\n",
            "2 * 9 = 2\n"
          ]
        }
      ]
    },
    {
      "cell_type": "markdown",
      "source": [
        "**Unit 17. while 반복문 사용하기**"
      ],
      "metadata": {
        "id": "jaRr1pnZNETL"
      }
    },
    {
      "cell_type": "code",
      "source": [
        "# 17.1.1 while 반복문으로 Hello, world! 100번 출력하기\n",
        "\n",
        "i = 0\n",
        "while i < 5:\n",
        "  print('HW',i)\n",
        "  i += 1"
      ],
      "metadata": {
        "colab": {
          "base_uri": "https://localhost:8080/"
        },
        "id": "0GwqmiruIlRD",
        "outputId": "82a46dbc-dd48-4ec4-df23-0d3226867de9"
      },
      "execution_count": null,
      "outputs": [
        {
          "output_type": "stream",
          "name": "stdout",
          "text": [
            "HW 0\n",
            "HW 1\n",
            "HW 2\n",
            "HW 3\n",
            "HW 4\n"
          ]
        }
      ]
    },
    {
      "cell_type": "code",
      "source": [
        "# 17.1.2  입력한 횟수대로 반복하기\n",
        "\n",
        "count = int(input())\n",
        "\n",
        "i = 0\n",
        "while i < count:\n",
        "  print('HW', i)\n",
        "  i += 1"
      ],
      "metadata": {
        "colab": {
          "base_uri": "https://localhost:8080/"
        },
        "id": "ZXxfkXttOYIT",
        "outputId": "f4e28ee0-31d1-49cc-ddbb-c3b20694980e"
      },
      "execution_count": null,
      "outputs": [
        {
          "output_type": "stream",
          "name": "stdout",
          "text": [
            "5\n",
            "HW 0\n",
            "HW 1\n",
            "HW 2\n",
            "HW 3\n",
            "HW 4\n"
          ]
        }
      ]
    },
    {
      "cell_type": "code",
      "source": [
        "# 17.1.2  입력한 횟수대로 반복하기(감소)\n",
        "\n",
        "count = int(input('반복할 횟수를 입력하세요: '))\n",
        " \n",
        "while count > 0:     # count가 0보다 클 때 반복\n",
        "    print('Hello, world!', count)\n",
        "    count -= 1       # count를 1씩 감소시킴"
      ],
      "metadata": {
        "colab": {
          "base_uri": "https://localhost:8080/"
        },
        "id": "54E12JalOYK5",
        "outputId": "2c6184b9-3139-449b-ee92-9b38d533f456"
      },
      "execution_count": null,
      "outputs": [
        {
          "output_type": "stream",
          "name": "stdout",
          "text": [
            "반복할 횟수를 입력하세요: 5\n",
            "Hello, world! 5\n",
            "Hello, world! 4\n",
            "Hello, world! 3\n",
            "Hello, world! 2\n",
            "Hello, world! 1\n"
          ]
        }
      ]
    },
    {
      "cell_type": "code",
      "source": [
        "# 17.2 반복 횟수가 정해지지 않은 경우\n",
        "import random\n",
        "random.random()\n",
        "\n",
        "# 17.2.1 random.randint(a, b)난수를 생성할 범위를 지정\n",
        "random.randint(1, 6)\n",
        "\n",
        "\n",
        "import random    # random 모듈을 가져옴\n",
        " \n",
        "i = 0\n",
        "while i != 3:    # 3이 아닐 때 계속 반복\n",
        "    i = random.randint(1, 6)    # randint를 사용하여 1과 6 사이의 난수를 생성\n",
        "    print(i)"
      ],
      "metadata": {
        "colab": {
          "base_uri": "https://localhost:8080/"
        },
        "id": "BT1bSXjVOYNK",
        "outputId": "d6392cb6-d6b7-4859-9048-846598d9dc21"
      },
      "execution_count": null,
      "outputs": [
        {
          "output_type": "stream",
          "name": "stdout",
          "text": [
            "3\n"
          ]
        }
      ]
    },
    {
      "cell_type": "code",
      "source": [
        "# 17.2.3 random.choice 함수를 사용하면 시퀀스 객체에서 요소를 무작위로 선택가능\n",
        "dice = [1, 2, 3, 4, 5, 6]\n",
        "random.choice(dice)"
      ],
      "metadata": {
        "colab": {
          "base_uri": "https://localhost:8080/"
        },
        "id": "X8rrLehTOYPR",
        "outputId": "804233b1-15ba-477f-b1d1-29ca714fb436"
      },
      "execution_count": null,
      "outputs": [
        {
          "output_type": "execute_result",
          "data": {
            "text/plain": [
              "1"
            ]
          },
          "metadata": {},
          "execution_count": 39
        }
      ]
    },
    {
      "cell_type": "code",
      "source": [
        "# 17.3 while 반복문으로 무한 루프 만들기\n",
        "while True:    # while에 True를 지정하면 무한 루프\n",
        "    print('Hello, world!')\n",
        "\n",
        "# True, 1, 문자열 등을 True로 취급하여 무한 루프로 동작함"
      ],
      "metadata": {
        "id": "dLbIS_OCOYRn"
      },
      "execution_count": null,
      "outputs": []
    },
    {
      "cell_type": "code",
      "source": [
        "# 17.5 연습문제: 변수 두 개를 다르게 반복하기\n",
        "i = 2\n",
        "j = 5\n",
        "\n",
        "while i <= 32 or j >= 1:\n",
        "  print(i, j)\n",
        "  i = i*2       \n",
        "  j = j-1   "
      ],
      "metadata": {
        "colab": {
          "base_uri": "https://localhost:8080/"
        },
        "id": "NLBsyClYOYTw",
        "outputId": "0bee7a8f-ec53-4c6a-e7a6-26b1fc317638"
      },
      "execution_count": null,
      "outputs": [
        {
          "output_type": "stream",
          "name": "stdout",
          "text": [
            "2 5\n",
            "4 4\n",
            "8 3\n",
            "16 2\n",
            "32 1\n"
          ]
        }
      ]
    },
    {
      "cell_type": "code",
      "source": [
        "# 표준 입력으로 금액(정수)이 입력됩니다. \n",
        "# 1회당 요금은 1,350원이고, 교통카드를 사용했을 때마다의 잔액을 \n",
        "# 각 줄에 출력하는 프로그램을 만드세요\n",
        "# (input에서 안내 문자열은 출력하지 않아야 합니다). \n",
        "# 단, 최초 금액은 출력하지 않아야 합니다. \n",
        "# 그리고 잔액은 음수가 될 수 없으며 잔액이 부족하면 출력을 끝냅니다.\n",
        "\n",
        "x = int(input())\n",
        "\n",
        "while x >= 0:\n",
        "  x = x - 1350\n",
        "  if x < 0:\n",
        "    break\n",
        "  else:\n",
        "    print(x)\n",
        "  \n"
      ],
      "metadata": {
        "colab": {
          "base_uri": "https://localhost:8080/"
        },
        "id": "n4HUBgUSOYVw",
        "outputId": "c4686598-4f3a-4ffb-b29a-4810ed71b294"
      },
      "execution_count": null,
      "outputs": [
        {
          "output_type": "stream",
          "name": "stdout",
          "text": [
            "13500\n",
            "12150\n",
            "10800\n",
            "9450\n",
            "8100\n",
            "6750\n",
            "5400\n",
            "4050\n",
            "2700\n",
            "1350\n",
            "0\n"
          ]
        }
      ]
    },
    {
      "cell_type": "markdown",
      "source": [
        "**Unit 18.break로 반복문 끝내기**"
      ],
      "metadata": {
        "id": "KQd7SpntTE_Z"
      }
    },
    {
      "cell_type": "code",
      "source": [
        "# 18.1.1  while에서 break로 반복문 끝내기\n",
        "\n",
        "i = 0\n",
        "while True:    # 무한 루프\n",
        "    print(i)\n",
        "    i += 1          # i를 1씩 증가시킴\n",
        "    if i == 10:    # i가 10일 때\n",
        "        break       # 반복문을 끝냄. while의 제어흐름을 벗어남"
      ],
      "metadata": {
        "colab": {
          "base_uri": "https://localhost:8080/"
        },
        "id": "sGePPel4OYYE",
        "outputId": "18d9a98d-9e12-4b62-cb93-92be8aab5e3d"
      },
      "execution_count": null,
      "outputs": [
        {
          "output_type": "stream",
          "name": "stdout",
          "text": [
            "0\n",
            "1\n",
            "2\n",
            "3\n",
            "4\n",
            "5\n",
            "6\n",
            "7\n",
            "8\n",
            "9\n"
          ]
        }
      ]
    },
    {
      "cell_type": "code",
      "source": [
        "# 18.1.2  for에서 break로 반복문 끝내기\n",
        "for i in range(10):\n",
        "  print(i)\n",
        "  if i == 10:\n",
        "    break"
      ],
      "metadata": {
        "colab": {
          "base_uri": "https://localhost:8080/"
        },
        "id": "w39er7O2OYaC",
        "outputId": "aaa39e1e-965a-4800-f897-859c93e6a266"
      },
      "execution_count": null,
      "outputs": [
        {
          "output_type": "stream",
          "name": "stdout",
          "text": [
            "0\n",
            "1\n",
            "2\n",
            "3\n",
            "4\n",
            "5\n",
            "6\n",
            "7\n",
            "8\n",
            "9\n"
          ]
        }
      ]
    },
    {
      "cell_type": "code",
      "source": [
        "# 18.2 continue로 코드 실행 건너뛰기\n",
        "for i in range(100):       # 0부터 99까지 증가하면서 100번 반복\n",
        "    if i % 2 == 0:         # i를 2로 나누었을 때 나머지가 0면 짝수\n",
        "        continue           # 아래 코드를 실행하지 않고 건너뜀\n",
        "    print(i)\n",
        "\n",
        "# 18.3 입력한 횟수대로 반복하기\n",
        "count = int(input('반복할 횟수를 입력하세요: '))\n",
        " \n",
        "i = 0\n",
        "while True:    # 무한 루프\n",
        "    print(i)\n",
        "    i += 1\n",
        "    if i == count:    # i가 입력받은 값과 같을 때\n",
        "        break         # 반복문을 끝냄"
      ],
      "metadata": {
        "colab": {
          "base_uri": "https://localhost:8080/"
        },
        "id": "VWxr2GavUAAu",
        "outputId": "cc3f542f-a201-44d4-c86f-12ae0320779a"
      },
      "execution_count": null,
      "outputs": [
        {
          "output_type": "stream",
          "name": "stdout",
          "text": [
            "1\n",
            "3\n",
            "5\n",
            "7\n",
            "9\n",
            "11\n",
            "13\n",
            "15\n",
            "17\n",
            "19\n",
            "21\n",
            "23\n",
            "25\n",
            "27\n",
            "29\n",
            "31\n",
            "33\n",
            "35\n",
            "37\n",
            "39\n",
            "41\n",
            "43\n",
            "45\n",
            "47\n",
            "49\n",
            "51\n",
            "53\n",
            "55\n",
            "57\n",
            "59\n",
            "61\n",
            "63\n",
            "65\n",
            "67\n",
            "69\n",
            "71\n",
            "73\n",
            "75\n",
            "77\n",
            "79\n",
            "81\n",
            "83\n",
            "85\n",
            "87\n",
            "89\n",
            "91\n",
            "93\n",
            "95\n",
            "97\n",
            "99\n",
            "반복할 횟수를 입력하세요: 10\n",
            "0\n",
            "1\n",
            "2\n",
            "3\n",
            "4\n",
            "5\n",
            "6\n",
            "7\n",
            "8\n",
            "9\n"
          ]
        }
      ]
    },
    {
      "cell_type": "code",
      "source": [
        "# 18.5 연습문제: 3으로 끝나는 숫자만 출력하기\n",
        "#  0과 73 사이의 숫자 중 3으로 끝나는 숫자만 출력되게 만드세요.\n",
        "i = 0\n",
        "while True:\n",
        "  if i % 10 == 3:\n",
        "    print(i, end=' ')\n",
        "  i += 1\n",
        "  if i >= 74:\n",
        "    break"
      ],
      "metadata": {
        "colab": {
          "base_uri": "https://localhost:8080/"
        },
        "id": "kwZc5tdaUADT",
        "outputId": "86167987-7d75-4388-c21e-86b8d03dbe1f"
      },
      "execution_count": null,
      "outputs": [
        {
          "output_type": "stream",
          "name": "stdout",
          "text": [
            "3 13 23 33 43 53 63 73 "
          ]
        }
      ]
    },
    {
      "cell_type": "markdown",
      "source": [
        "**Unit 19. 중첩 루프 사용하기**"
      ],
      "metadata": {
        "id": "rkkW9TmNYFSo"
      }
    },
    {
      "cell_type": "code",
      "source": [
        "# 19.1 중첩 루프 사용하기\n",
        "\n",
        "for i in range(5):          # 5번 반복. 바깥쪽 루프는 세로 방향\n",
        "    for j in range(5):      # 5번 반복. 안쪽 루프는 가로 방향\n",
        "        print('j:', j, sep='', end=' ')    # j값 출력. end에 ' '를 지정하여 줄바꿈 대신 한 칸 띄움\n",
        "    print('i:', i, '\\\\n', sep='')    # i값 출력, 개행 문자 모양도 출력\n",
        "                                     # 가로 방향으로 숫자를 모두 출력한 뒤 다음 줄로 넘어감\n",
        "                                     # (print는 기본적으로 출력 후 다음 줄로 넘어감)"
      ],
      "metadata": {
        "colab": {
          "base_uri": "https://localhost:8080/"
        },
        "id": "tD9iFMIaUAKz",
        "outputId": "527d576a-d269-471e-f959-4b1487639f22"
      },
      "execution_count": null,
      "outputs": [
        {
          "output_type": "stream",
          "name": "stdout",
          "text": [
            "j:0 j:1 j:2 j:3 j:4 i:0\\n\n",
            "j:0 j:1 j:2 j:3 j:4 i:1\\n\n",
            "j:0 j:1 j:2 j:3 j:4 i:2\\n\n",
            "j:0 j:1 j:2 j:3 j:4 i:3\\n\n",
            "j:0 j:1 j:2 j:3 j:4 i:4\\n\n"
          ]
        }
      ]
    },
    {
      "cell_type": "code",
      "source": [
        "# 19.2 사각형으로 별 출력하기\n",
        "for i in range(5):            # 5번 반복. 바깥쪽 루프는 세로 방향\n",
        "    for j in range(5):        # 5번 반복. 안쪽 루프는 가로 방향\n",
        "        print('*', end='')    # 별 출력. end에 ''를 지정하여 줄바꿈을 하지 않음\n",
        "    print()    # 가로 방향으로 별을 다 그린 뒤 다음 줄로 넘어감\n",
        "               # (print는 출력 후 기본적으로 다음 줄로 넘어감)\n",
        "\n",
        "# 19.2.1  사각형 모양 바꾸기\n",
        "for i in range(3):            # 3번 반복. 세로 방향\n",
        "    for j in range(7):        # 7번 반복. 가로 방향\n",
        "        print('*', end='')    # 별 출력. end에 ''를 지정하여 줄바꿈을 하지 않음\n",
        "    print()    # 가로 방향으로 별을 다 그린 뒤 다음 줄로 넘어감\n",
        "               # (print는 출력 후 기본적으로 다음 줄로 넘어감)"
      ],
      "metadata": {
        "colab": {
          "base_uri": "https://localhost:8080/"
        },
        "id": "ds5JfcrVUANA",
        "outputId": "f165ea23-3fe6-45ff-f779-8b8638f69ddd"
      },
      "execution_count": null,
      "outputs": [
        {
          "output_type": "stream",
          "name": "stdout",
          "text": [
            "*****\n",
            "*****\n",
            "*****\n",
            "*****\n",
            "*****\n",
            "*******\n",
            "*******\n",
            "*******\n"
          ]
        }
      ]
    },
    {
      "cell_type": "code",
      "source": [
        "# 19.3 계단식으로 별 출력하기\n",
        "for i in range(5):\n",
        "  for j in range(5):\n",
        "    if j <= i:\n",
        "      print('*',end = '')\n",
        "  print()"
      ],
      "metadata": {
        "colab": {
          "base_uri": "https://localhost:8080/"
        },
        "id": "_2evVZjIYGlb",
        "outputId": "1e0bf6ea-5b99-42b6-e9df-16921c34cbc8"
      },
      "execution_count": null,
      "outputs": [
        {
          "output_type": "stream",
          "name": "stdout",
          "text": [
            "*\n",
            "**\n",
            "***\n",
            "****\n",
            "*****\n"
          ]
        }
      ]
    },
    {
      "cell_type": "code",
      "source": [
        "# 19.4 연습문제: 역삼각형 모양으로 별 출력하기\n",
        "for i in range(5):\n",
        "    for j in range(5):\n",
        "      if j < i:\n",
        "        print(' ', end='')\n",
        "      else:\n",
        "        print('*', end='')\n",
        "    print()"
      ],
      "metadata": {
        "colab": {
          "base_uri": "https://localhost:8080/"
        },
        "id": "IgCt-0ZWUAPX",
        "outputId": "3a155a1e-69f7-4a04-f802-31fc0530e1f1"
      },
      "execution_count": null,
      "outputs": [
        {
          "output_type": "stream",
          "name": "stdout",
          "text": [
            "*****\n",
            " ****\n",
            "  ***\n",
            "   **\n",
            "    *\n"
          ]
        }
      ]
    },
    {
      "cell_type": "code",
      "source": [
        "# 19.5 표준 입력으로 삼각형의 높이가 입력됩니다. \n",
        "# 입력된 높이만큼 산 모양으로 별을 출력하는 프로그램을 만드세요\n",
        "# (input에서 안내 문자열은 출력하지 않아야 합니다). 이때 출력 결과는 \n",
        "# 예제와 정확히 일치해야 합니다. \n",
        "# 모양이 같더라도 공백이나 빈 줄이 더 들어가면 틀린 것으로 처리됩니다.\n",
        "\n",
        "line = int(input(\"Tree 의 높이를 입력하세요(5~30) : \"))\n",
        "\n",
        "for x in range(1, line * 2, 2):\n",
        "  print((\" \" * ( (line * 2 - 1 - x) // 2 )) + (\"*\" * x))"
      ],
      "metadata": {
        "colab": {
          "base_uri": "https://localhost:8080/"
        },
        "id": "kor6Rfe0UARX",
        "outputId": "c8d32359-f2e3-4fe5-dfa8-813f488be2a8"
      },
      "execution_count": 12,
      "outputs": [
        {
          "output_type": "stream",
          "name": "stdout",
          "text": [
            "Tree 의 높이를 입력하세요(5~30) : 3\n",
            "  *\n",
            " ***\n",
            "*****\n"
          ]
        }
      ]
    }
  ]
}